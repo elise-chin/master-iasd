{
  "cells": [
    {
      "cell_type": "markdown",
      "id": "7f1a35a1",
      "metadata": {
        "id": "7f1a35a1"
      },
      "source": [
        "# Expérimentations - GCN for text classification - Dataset R8"
      ]
    },
    {
      "cell_type": "markdown",
      "id": "5c89a3f0",
      "metadata": {
        "id": "5c89a3f0"
      },
      "source": [
        "Dans ce notebook, nous allons tenter de recoder l'algorithme décrit dans le papier \"Graph Convolutional Networks for text classification\" et d'effectuer des expériences autour de celui-ci.\n",
        "\n",
        "Notre objectif sera de classifier correctement des textes, en n'ayant qu'une petite base d'entraînement.\n",
        "\n",
        "A partir d'un corpus de textes, dont seulement un petit pourcentage est labelisé, nous souhaitons attribuer des classes à tous les documents. Le principe sera de répandre les classes des textes labelisés grâce à un GCN. Pour cela, nous devrons donc représenter nos données sous la forme d'un graphe.\n",
        "\n",
        "Nous allons donc construire un graphe hétérogène dont les sommets seront des mots (apparaissant dans les documents) et des documents. Les arêtes représenteront des liens entre des mots, ou bien entre mots et documents, mais il n'y a pas d'arêtes entre documents. \n",
        "\n",
        "Le graphe contiendra tous les documents du corpus, c'est-à-dire autant le test set que le train set. Néanmoins, seul un petit pourcentage de ces documents disposerons de labels.\n",
        "\n",
        "Une fois le graphe construit nous pourrons lui appliquer un Graph Convolutional Network (GCN), dans le but de classifier les documents non labelisés. Un GCN est un réseau de neurones qui généralise les convolutions aux graphes, et qui induit des embeddings à chaque noeud en exploitant les features du noeud en question et ceux de ses voisins. Lors de l'entraînement du GCN, les labels des documents sont propagés à travers tout le graphe.\n",
        "\n",
        "Nous pourrons mesurer les performances de notre modèle en regardant le taux de documents bien classifiés (parmi les documents qui ne disposaient pas de labels avant le GCN).\n",
        "\n",
        "Nous pourrons enfin tenter diverses expérimentations, notamment :\n",
        "- Réimplémenter l'expérience consistant à essayer plusieurs pourcentages de données labelisées\n",
        "- Au lieu d'utiliser le PMI comme poids des arêtes entre deux mots, calculer la similarité cosinus entre les embeddings des mots\n",
        "    "
      ]
    },
    {
      "cell_type": "markdown",
      "id": "2a845b88",
      "metadata": {
        "id": "2a845b88"
      },
      "source": [
        "### Table des matières <a name=\"up\"></a>\n",
        "\n",
        "* [1 Import des textes](#import)\n",
        "* [2 Préparation des données](#data-prep)\n",
        "* [3 Calcul du TFIDF et du PMI](#tfidf-pmi)\n",
        "* [4 Construction du graphe](#graph)\n",
        "* [5 Préparation du dataset](#dataset)\n",
        "* [6 Construction et entraînement du GCN](#gcn)\n",
        "* [7 Expériences](#exp)"
      ]
    },
    {
      "cell_type": "markdown",
      "id": "d0954b6b",
      "metadata": {
        "id": "d0954b6b"
      },
      "source": [
        "Nous commençons par importer les librairies dont nous aurons besoin.\n",
        "\n",
        "Parmi celles-ci, plusieurs librairies de NLP, qui nous servirons notamment pour le pré-processing des données, et la tokenization (c'est-à-dire pour séparer les documents en mots). Nous aurons également besoin de la librairie networkx qui permet de gérer les graphes.\n"
      ]
    },
    {
      "cell_type": "code",
      "source": [
        "!pip install git+https://github.com/kerighan/convectors\n",
        "!pip install git+https://github.com/kerighan/textgraph"
      ],
      "metadata": {
        "id": "PblmNWwm1zxL"
      },
      "id": "PblmNWwm1zxL",
      "execution_count": null,
      "outputs": []
    },
    {
      "cell_type": "code",
      "execution_count": null,
      "id": "351d7ed3-5152-4cf6-88e3-39d690314940",
      "metadata": {
        "id": "351d7ed3-5152-4cf6-88e3-39d690314940",
        "outputId": "41db33dc-a896-4899-c71f-07e41cf4cd8e"
      },
      "outputs": [
        {
          "name": "stdout",
          "output_type": "stream",
          "text": [
            "Requirement already satisfied: gensim in /usr/local/lib/python3.8/dist-packages (4.2.0)\n",
            "Requirement already satisfied: smart-open>=1.8.1 in /usr/local/lib/python3.8/dist-packages (from gensim) (6.0.0)\n",
            "Requirement already satisfied: scipy>=0.18.1 in /usr/local/lib/python3.8/dist-packages (from gensim) (1.4.1)\n",
            "Collecting numpy>=1.17.0\n",
            "  Downloading numpy-1.23.0-cp38-cp38-manylinux_2_17_x86_64.manylinux2014_x86_64.whl (17.1 MB)\n",
            "\u001b[2K     \u001b[90m━━━━━━━━━━━━━━━━━━━━━━━━━━━━━━━━━━━━━━━━\u001b[0m \u001b[32m17.1/17.1 MB\u001b[0m \u001b[31m19.8 MB/s\u001b[0m eta \u001b[36m0:00:00\u001b[0m00:01\u001b[0m00:01\u001b[0m\n",
            "\u001b[?25hInstalling collected packages: numpy\n",
            "  Attempting uninstall: numpy\n",
            "    Found existing installation: numpy 1.14.6\n",
            "    Uninstalling numpy-1.14.6:\n",
            "      Successfully uninstalled numpy-1.14.6\n",
            "\u001b[31mERROR: pip's dependency resolver does not currently take into account all the packages that are installed. This behaviour is the source of the following dependency conflicts.\n",
            "mxnet 1.4.0 requires numpy<1.15.0,>=1.8.2, but you have numpy 1.23.0 which is incompatible.\n",
            "bert-embedding 1.0.1 requires numpy==1.14.6, but you have numpy 1.23.0 which is incompatible.\u001b[0m\u001b[31m\n",
            "\u001b[0mSuccessfully installed numpy-1.23.0\n",
            "\u001b[33mWARNING: Running pip as the 'root' user can result in broken permissions and conflicting behaviour with the system package manager. It is recommended to use a virtual environment instead: https://pip.pypa.io/warnings/venv\u001b[0m\u001b[33m\n",
            "\u001b[0m\u001b[33mWARNING: You are using pip version 22.0.3; however, version 22.1.2 is available.\n",
            "You should consider upgrading via the '/usr/bin/python -m pip install --upgrade pip' command.\u001b[0m\u001b[33m\n",
            "\u001b[0m"
          ]
        }
      ],
      "source": [
        "!pip install gensim -U"
      ]
    },
    {
      "cell_type": "code",
      "execution_count": null,
      "id": "f94a2be6-ce15-404e-8c4f-65af8fd20431",
      "metadata": {
        "id": "f94a2be6-ce15-404e-8c4f-65af8fd20431",
        "outputId": "7c3201c3-c618-489e-9da8-2fb3db419c64"
      },
      "outputs": [
        {
          "name": "stdout",
          "output_type": "stream",
          "text": [
            "Requirement already satisfied: scikit-learn in /usr/local/lib/python3.8/dist-packages (0.24.0)\n",
            "Collecting scikit-learn\n",
            "  Downloading scikit_learn-1.1.1-cp38-cp38-manylinux_2_17_x86_64.manylinux2014_x86_64.whl (31.2 MB)\n",
            "\u001b[2K     \u001b[90m━━━━━━━━━━━━━━━━━━━━━━━━━━━━━━━━━━━━━━━━\u001b[0m \u001b[32m31.2/31.2 MB\u001b[0m \u001b[31m16.9 MB/s\u001b[0m eta \u001b[36m0:00:00\u001b[0m00:01\u001b[0m00:01\u001b[0m\n",
            "\u001b[?25hRequirement already satisfied: scipy>=1.3.2 in /usr/local/lib/python3.8/dist-packages (from scikit-learn) (1.4.1)\n",
            "Requirement already satisfied: joblib>=1.0.0 in /usr/local/lib/python3.8/dist-packages (from scikit-learn) (1.1.0)\n",
            "Requirement already satisfied: numpy>=1.17.3 in /usr/local/lib/python3.8/dist-packages (from scikit-learn) (1.19.4)\n",
            "Requirement already satisfied: threadpoolctl>=2.0.0 in /usr/local/lib/python3.8/dist-packages (from scikit-learn) (3.1.0)\n",
            "Installing collected packages: scikit-learn\n",
            "  Attempting uninstall: scikit-learn\n",
            "    Found existing installation: scikit-learn 0.24.0\n",
            "    Uninstalling scikit-learn-0.24.0:\n",
            "      Successfully uninstalled scikit-learn-0.24.0\n",
            "Successfully installed scikit-learn-1.1.1\n",
            "\u001b[33mWARNING: Running pip as the 'root' user can result in broken permissions and conflicting behaviour with the system package manager. It is recommended to use a virtual environment instead: https://pip.pypa.io/warnings/venv\u001b[0m\u001b[33m\n",
            "\u001b[0m\u001b[33mWARNING: You are using pip version 22.0.3; however, version 22.1.2 is available.\n",
            "You should consider upgrading via the '/usr/bin/python -m pip install --upgrade pip' command.\u001b[0m\u001b[33m\n",
            "\u001b[0m"
          ]
        }
      ],
      "source": [
        "!pip install scikit-learn -U"
      ]
    },
    {
      "cell_type": "code",
      "execution_count": null,
      "id": "7a872737-95dd-4696-89ae-4b6341049dcb",
      "metadata": {
        "id": "7a872737-95dd-4696-89ae-4b6341049dcb",
        "outputId": "c3fe0279-ca38-432d-e63a-b6ec4e064b10"
      },
      "outputs": [
        {
          "name": "stdout",
          "output_type": "stream",
          "text": [
            "Collecting torch\n",
            "  Downloading torch-1.12.0-cp38-cp38-manylinux1_x86_64.whl (776.3 MB)\n",
            "\u001b[2K     \u001b[90m━━━━━━━━━━━━━━━━━━━━━━━━━━━━━━━━━━━━━━━\u001b[0m \u001b[32m776.3/776.3 MB\u001b[0m \u001b[31m2.3 MB/s\u001b[0m eta \u001b[36m0:00:00\u001b[0m00:01\u001b[0m00:01\u001b[0m\n",
            "\u001b[?25hRequirement already satisfied: typing-extensions in /usr/local/lib/python3.8/dist-packages (from torch) (3.7.4.3)\n",
            "Installing collected packages: torch\n",
            "Successfully installed torch-1.12.0\n",
            "\u001b[33mWARNING: Running pip as the 'root' user can result in broken permissions and conflicting behaviour with the system package manager. It is recommended to use a virtual environment instead: https://pip.pypa.io/warnings/venv\u001b[0m\u001b[33m\n",
            "\u001b[0m\u001b[33mWARNING: You are using pip version 22.0.3; however, version 22.1.2 is available.\n",
            "You should consider upgrading via the '/usr/bin/python -m pip install --upgrade pip' command.\u001b[0m\u001b[33m\n",
            "\u001b[0m"
          ]
        }
      ],
      "source": [
        "!pip install torch"
      ]
    },
    {
      "cell_type": "code",
      "execution_count": null,
      "id": "ca855db9-1ed7-4153-887a-0ee088c6630d",
      "metadata": {
        "id": "ca855db9-1ed7-4153-887a-0ee088c6630d",
        "outputId": "e688a5bf-174e-47ea-c28c-8e9af140a04e"
      },
      "outputs": [
        {
          "name": "stdout",
          "output_type": "stream",
          "text": [
            "Collecting bert_embedding\n",
            "  Downloading bert_embedding-1.0.1-py3-none-any.whl (13 kB)\n",
            "Collecting typing==3.6.6\n",
            "  Downloading typing-3.6.6-py3-none-any.whl (25 kB)\n",
            "Collecting mxnet==1.4.0\n",
            "  Downloading mxnet-1.4.0-py2.py3-none-manylinux1_x86_64.whl (29.6 MB)\n",
            "\u001b[2K     \u001b[90m━━━━━━━━━━━━━━━━━━━━━━━━━━━━━━━━━━━━━━━━\u001b[0m \u001b[32m29.6/29.6 MB\u001b[0m \u001b[31m17.1 MB/s\u001b[0m eta \u001b[36m0:00:00\u001b[0m00:01\u001b[0m00:01\u001b[0m\n",
            "\u001b[?25hCollecting gluonnlp==0.6.0\n",
            "  Downloading gluonnlp-0.6.0.tar.gz (209 kB)\n",
            "\u001b[2K     \u001b[90m━━━━━━━━━━━━━━━━━━━━━━━━━━━━━━━━━━━━━━\u001b[0m \u001b[32m209.5/209.5 KB\u001b[0m \u001b[31m24.4 MB/s\u001b[0m eta \u001b[36m0:00:00\u001b[0m\n",
            "\u001b[?25h  Preparing metadata (setup.py) ... \u001b[?25ldone\n",
            "\u001b[?25hCollecting numpy==1.14.6\n",
            "  Downloading numpy-1.14.6.zip (4.9 MB)\n",
            "\u001b[2K     \u001b[90m━━━━━━━━━━━━━━━━━━━━━━━━━━━━━━━━━━━━━━━━\u001b[0m \u001b[32m4.9/4.9 MB\u001b[0m \u001b[31m21.5 MB/s\u001b[0m eta \u001b[36m0:00:00\u001b[0m00:01\u001b[0m00:01\u001b[0m\n",
            "\u001b[?25h  Preparing metadata (setup.py) ... \u001b[?25ldone\n",
            "\u001b[?25hCollecting graphviz<0.9.0,>=0.8.1\n",
            "  Downloading graphviz-0.8.4-py2.py3-none-any.whl (16 kB)\n",
            "Requirement already satisfied: requests>=2.20.0 in /usr/local/lib/python3.8/dist-packages (from mxnet==1.4.0->bert_embedding) (2.27.1)\n",
            "Requirement already satisfied: urllib3<1.27,>=1.21.1 in /usr/local/lib/python3.8/dist-packages (from requests>=2.20.0->mxnet==1.4.0->bert_embedding) (1.26.8)\n",
            "Requirement already satisfied: charset-normalizer~=2.0.0 in /usr/local/lib/python3.8/dist-packages (from requests>=2.20.0->mxnet==1.4.0->bert_embedding) (2.0.11)\n",
            "Requirement already satisfied: idna<4,>=2.5 in /usr/local/lib/python3.8/dist-packages (from requests>=2.20.0->mxnet==1.4.0->bert_embedding) (3.3)\n",
            "Requirement already satisfied: certifi>=2017.4.17 in /usr/local/lib/python3.8/dist-packages (from requests>=2.20.0->mxnet==1.4.0->bert_embedding) (2021.10.8)\n",
            "Building wheels for collected packages: gluonnlp, numpy\n",
            "  Building wheel for gluonnlp (setup.py) ... \u001b[?25ldone\n",
            "\u001b[?25h  Created wheel for gluonnlp: filename=gluonnlp-0.6.0-py3-none-any.whl size=259930 sha256=192f3a5ad161023de3d4e7b0fec60e9307f99dde2e45509eb4ee59b47602a926\n",
            "  Stored in directory: /root/.cache/pip/wheels/75/d0/a1/57ea55532e4ff6e3efbec7a851724a8f7a5b073ff648dd4160\n",
            "  Building wheel for numpy (setup.py) ... \u001b[?25ldone\n",
            "\u001b[?25h  Created wheel for numpy: filename=numpy-1.14.6-cp38-cp38-linux_x86_64.whl size=9740653 sha256=491a76b918ab504eb25a2f1af4e2219ab34411d4a5141a68660d821e49be0d85\n",
            "  Stored in directory: /root/.cache/pip/wheels/77/81/aa/e309a6725c1cb6f5b37c3c67b74828fd4db0827592ff4a4f85\n",
            "Successfully built gluonnlp numpy\n",
            "Installing collected packages: typing, numpy, graphviz, mxnet, gluonnlp, bert_embedding\n",
            "  Attempting uninstall: numpy\n",
            "    Found existing installation: numpy 1.19.4\n",
            "    Uninstalling numpy-1.19.4:\n",
            "      Successfully uninstalled numpy-1.19.4\n",
            "\u001b[31mERROR: pip's dependency resolver does not currently take into account all the packages that are installed. This behaviour is the source of the following dependency conflicts.\n",
            "transformers 4.9.1 requires numpy>=1.17, but you have numpy 1.14.6 which is incompatible.\n",
            "scikit-learn 1.1.1 requires numpy>=1.17.3, but you have numpy 1.14.6 which is incompatible.\n",
            "pyarrow 5.0.0 requires numpy>=1.16.6, but you have numpy 1.14.6 which is incompatible.\n",
            "pandas 1.2.5 requires numpy>=1.16.5, but you have numpy 1.14.6 which is incompatible.\n",
            "numba 0.53.1 requires numpy>=1.15, but you have numpy 1.14.6 which is incompatible.\n",
            "matplotlib 3.5.0 requires numpy>=1.17, but you have numpy 1.14.6 which is incompatible.\n",
            "h5py 3.1.0 requires numpy>=1.17.5; python_version == \"3.8\", but you have numpy 1.14.6 which is incompatible.\n",
            "gensim 4.2.0 requires numpy>=1.17.0, but you have numpy 1.14.6 which is incompatible.\n",
            "dask-cuda 21.12.0 requires numpy>=1.16.0, but you have numpy 1.14.6 which is incompatible.\n",
            "cupy-cuda115 9.6.0 requires numpy<1.24,>=1.17, but you have numpy 1.14.6 which is incompatible.\u001b[0m\u001b[31m\n",
            "\u001b[0mSuccessfully installed bert_embedding-1.0.1 gluonnlp-0.6.0 graphviz-0.8.4 mxnet-1.4.0 numpy-1.14.6 typing-3.6.6\n",
            "\u001b[33mWARNING: Running pip as the 'root' user can result in broken permissions and conflicting behaviour with the system package manager. It is recommended to use a virtual environment instead: https://pip.pypa.io/warnings/venv\u001b[0m\u001b[33m\n",
            "\u001b[0m\u001b[33mWARNING: You are using pip version 22.0.3; however, version 22.1.2 is available.\n",
            "You should consider upgrading via the '/usr/bin/python -m pip install --upgrade pip' command.\u001b[0m\u001b[33m\n",
            "\u001b[0m"
          ]
        }
      ],
      "source": [
        "t"
      ]
    },
    {
      "cell_type": "code",
      "execution_count": null,
      "id": "f44db7c0",
      "metadata": {
        "id": "f44db7c0"
      },
      "outputs": [],
      "source": [
        "# Math\n",
        "import numpy as np\n",
        "import math\n",
        "import random\n",
        "\n",
        "# NLP\n",
        "import gensim\n",
        "from gensim.models import TfidfModel\n",
        "from gensim import matutils\n",
        "from convectors.layers import (Contract, Lemmatize, Phrase, TfIdf, Tokenize)\n",
        "from bert_embedding import BertEmbedding\n",
        "from sklearn.metrics.pairwise import cosine_similarity\n",
        "\n",
        "# Affichage du temps et accès aux données\n",
        "from tqdm import tqdm\n",
        "import os\n",
        "\n",
        "# Structure de données\n",
        "from scipy.sparse import csc_matrix, lil_matrix, csr_matrix\n",
        "\n",
        "# Graphes\n",
        "import networkx as nx\n",
        "import networkx.algorithms.community as nx_comm\n",
        "from textgraph.graph import TextGraph\n",
        "\n",
        "#Visualisation\n",
        "from matplotlib import pyplot as plt"
      ]
    },
    {
      "cell_type": "markdown",
      "id": "2a02dfed",
      "metadata": {
        "id": "2a02dfed"
      },
      "source": [
        "# 1 Import des textes <a name=\"import\"></a>\n",
        "\n",
        "[Retour table des matières](#up)\n",
        "\n",
        "Pour importer les textes de notre dataset, nous avons décidé de reprendre et adapter le code des auteurs du papier, afin d'être certains d'avoir exactement les mêmes données et ainsi pouvoir comparer nos résultats.\n",
        "\n",
        "\n",
        "Nous créons ainsi plusieurs listes.\n",
        "\n",
        "    - doc_name_list est la liste de tous les triplets (id, test/train, label) en strings.\n",
        "    - doc_train_list et doc_test_list contiennent, sous la même forme que la liste précédente, les triplets des test et train set respectivement.\n",
        "    - doc_content_list est la liste des textes.\n",
        "    - train_ids est la liste des id d'entrainement.\n",
        "    - train_ids_str est la même chose, mais sous forme de string avec les ids séparés par des \\n\n",
        "    - shuffle_doc_name_list correspond à doc_name_list, mais mélangé aléatoirement.\n",
        "    - shuffle_doc_words_list correspond à doc_content_list mais mélangé aléatoirement.\n",
        "    \n",
        "Cette partie du code (import des données) est fortement inspirée du [github des auteurs](https://github.com/yao8839836/text_gcn)."
      ]
    },
    {
      "cell_type": "code",
      "execution_count": null,
      "id": "2c54db09-e41e-443e-88b4-8e212203c702",
      "metadata": {
        "id": "2c54db09-e41e-443e-88b4-8e212203c702"
      },
      "outputs": [],
      "source": [
        "## Définis la proportion du dataset à utiliser, utile pour les expériences\n",
        "percentage_dataset_used = 0.03"
      ]
    },
    {
      "cell_type": "markdown",
      "id": "E5eFl_BlhIfn",
      "metadata": {
        "id": "E5eFl_BlhIfn"
      },
      "source": [
        "On clone tout d'abord le github des auteurs pour reprendre le même dataset."
      ]
    },
    {
      "cell_type": "code",
      "execution_count": null,
      "id": "AOf7WcYkgoXV",
      "metadata": {
        "colab": {
          "base_uri": "https://localhost:8080/"
        },
        "id": "AOf7WcYkgoXV",
        "outputId": "bfab9c96-4fa8-4cb7-dadd-7ef8525ba1a3"
      },
      "outputs": [
        {
          "name": "stdout",
          "output_type": "stream",
          "text": [
            "fatal: destination path 'text_gcn' already exists and is not an empty directory.\n"
          ]
        }
      ],
      "source": [
        "!git clone https://github.com/yao8839836/text_gcn"
      ]
    },
    {
      "cell_type": "markdown",
      "id": "yWwJmsNZkhHr",
      "metadata": {
        "id": "yWwJmsNZkhHr"
      },
      "source": [
        "Puis on charge les données dans les différentes listes."
      ]
    },
    {
      "cell_type": "code",
      "execution_count": null,
      "id": "51d3a614",
      "metadata": {
        "id": "51d3a614"
      },
      "outputs": [],
      "source": [
        "# Dataset auquel on s'interesse\n",
        "dataset = 'R8'"
      ]
    },
    {
      "cell_type": "code",
      "execution_count": null,
      "id": "29776d78",
      "metadata": {
        "id": "29776d78"
      },
      "outputs": [],
      "source": [
        "# Liste des triplets (id, train/test, label) en strings\n",
        "doc_name_list = []\n",
        "doc_train_list = []\n",
        "doc_test_list = []\n",
        "\n",
        "f = open(os.path.join('text_gcn', 'data', 'R8.txt'), 'r')\n",
        "lines = f.readlines()\n",
        "for i in range(len(lines)):\n",
        "    if np.random.uniform(0,1) > percentage_dataset_used:\n",
        "        continue\n",
        "    doc_name_list.append(lines[i].strip())\n",
        "    temp = lines[i].split(\"\\t\")\n",
        "    if temp[1].find('test') != -1:\n",
        "        doc_test_list.append(lines[i].strip())\n",
        "    elif temp[1].find('train') != -1:\n",
        "        doc_train_list.append(lines[i].strip())\n",
        "f.close()"
      ]
    },
    {
      "cell_type": "code",
      "execution_count": null,
      "id": "7d2c2849-83c4-4939-b662-784e22a7be10",
      "metadata": {
        "id": "7d2c2849-83c4-4939-b662-784e22a7be10"
      },
      "outputs": [],
      "source": []
    },
    {
      "cell_type": "code",
      "execution_count": null,
      "id": "qMlCRWF_h7RK",
      "metadata": {
        "colab": {
          "base_uri": "https://localhost:8080/"
        },
        "id": "qMlCRWF_h7RK",
        "outputId": "3ebe0c59-e747-4491-8ed0-6ffa900f9e16"
      },
      "outputs": [
        {
          "name": "stdout",
          "output_type": "stream",
          "text": [
            "doc_name_list (199): ['9\\ttrain\\tearn', '62\\ttrain\\tacq', '119\\ttrain\\tacq', '153\\ttrain\\tacq', '159\\ttrain\\tacq']\n",
            "doc_train_list (135): ['9\\ttrain\\tearn', '62\\ttrain\\tacq', '119\\ttrain\\tacq', '153\\ttrain\\tacq', '159\\ttrain\\tacq']\n",
            "doc_test_list (64): ['5506\\ttest\\tacq', '5551\\ttest\\tearn', '5585\\ttest\\tearn', '5709\\ttest\\tacq', '5738\\ttest\\tearn']\n"
          ]
        }
      ],
      "source": [
        "print(f'doc_name_list ({len(doc_name_list)}): {doc_name_list[:5]}')\n",
        "print(f'doc_train_list ({len(doc_train_list)}): {doc_train_list[:5]}')\n",
        "print(f'doc_test_list ({len(doc_test_list)}): {doc_test_list[:5]}')"
      ]
    },
    {
      "cell_type": "code",
      "execution_count": null,
      "id": "sYXby4pfkSTO",
      "metadata": {
        "id": "sYXby4pfkSTO"
      },
      "outputs": [],
      "source": [
        "# Liste des textes\n",
        "doc_content_list = []\n",
        "f = open('text_gcn/data/corpus/' + dataset + '.clean.txt', 'r')\n",
        "lines = f.readlines()\n",
        "for line in lines:\n",
        "    doc_content_list.append(line.strip())\n",
        "f.close()"
      ]
    },
    {
      "cell_type": "code",
      "execution_count": null,
      "id": "pD9dNm3tknUS",
      "metadata": {
        "colab": {
          "base_uri": "https://localhost:8080/"
        },
        "id": "pD9dNm3tknUS",
        "outputId": "86316607-70cc-42b3-ebe6-0f74f46aac23"
      },
      "outputs": [
        {
          "name": "stdout",
          "output_type": "stream",
          "text": [
            "doc_content_list (7674): \n",
            "champion products approves stock split champion products inc said board directors approved two one stock split common shares shareholders record april company also said board voted recommend shareholders annual meeting april increase authorized capital stock five mln mln shares reuter\n"
          ]
        }
      ],
      "source": [
        "print(f'doc_content_list ({len(doc_content_list)}): \\n{doc_content_list[0]}')"
      ]
    },
    {
      "cell_type": "code",
      "execution_count": null,
      "id": "T7-EABTJk3BN",
      "metadata": {
        "id": "T7-EABTJk3BN"
      },
      "outputs": [],
      "source": [
        "# Liste des ids d'entrainement\n",
        "train_ids = []\n",
        "for train_name in doc_train_list:\n",
        "    train_id = doc_name_list.index(train_name)\n",
        "    train_ids.append(train_id)\n",
        "random.shuffle(train_ids)\n",
        "\n",
        "train_ids_str = '\\n'.join(str(index) for index in train_ids)\n",
        "f = open('text_gcn/data/' + dataset + '.train.index', 'w')\n",
        "f.write(train_ids_str)\n",
        "f.close()\n",
        "\n",
        "# Liste des ids du test set\n",
        "test_ids = []\n",
        "for test_name in doc_test_list:\n",
        "    test_id = doc_name_list.index(test_name)\n",
        "    test_ids.append(test_id)\n",
        "random.shuffle(test_ids)\n",
        "\n",
        "test_ids_str = '\\n'.join(str(index) for index in test_ids)\n",
        "f = open('text_gcn/data/' + dataset + '.test.index', 'w')\n",
        "f.write(test_ids_str)\n",
        "f.close()\n",
        "\n",
        "ids = train_ids + test_ids"
      ]
    },
    {
      "cell_type": "code",
      "execution_count": null,
      "id": "HnotmBdflFPG",
      "metadata": {
        "colab": {
          "base_uri": "https://localhost:8080/"
        },
        "id": "HnotmBdflFPG",
        "outputId": "72a00b2e-b8e0-4eed-ba15-2c8e06d8ea1c"
      },
      "outputs": [
        {
          "name": "stdout",
          "output_type": "stream",
          "text": [
            "train_ids (135): [117, 57, 33, 104, 126]\n",
            "test_ids (64): [180, 162, 165, 190, 170]\n",
            "ids (199): [117, 57, 33, 104, 126]\n"
          ]
        }
      ],
      "source": [
        "print(f'train_ids ({len(train_ids)}): {train_ids[:5]}')\n",
        "print(f'test_ids ({len(test_ids)}): {test_ids[:5]}')\n",
        "print(f'ids ({len(ids)}): {ids[:5]}')"
      ]
    },
    {
      "cell_type": "code",
      "execution_count": null,
      "id": "dfaabff3",
      "metadata": {
        "id": "dfaabff3"
      },
      "outputs": [],
      "source": [
        "# Shuffle de doc_name_list et doc_content_list\n",
        "shuffle_doc_name_list = []\n",
        "shuffle_doc_words_list = []\n",
        "for id in ids:\n",
        "    shuffle_doc_name_list.append(doc_name_list[int(id)])\n",
        "    shuffle_doc_words_list.append(doc_content_list[int(id)])\n",
        "shuffle_doc_name_str = '\\n'.join(shuffle_doc_name_list)\n",
        "shuffle_doc_words_str = '\\n'.join(shuffle_doc_words_list)"
      ]
    },
    {
      "cell_type": "code",
      "execution_count": null,
      "id": "dta-uRaZnhjM",
      "metadata": {
        "colab": {
          "base_uri": "https://localhost:8080/"
        },
        "id": "dta-uRaZnhjM",
        "outputId": "b75fce5a-3174-48fc-a8a3-d72a16906815"
      },
      "outputs": [
        {
          "name": "stdout",
          "output_type": "stream",
          "text": [
            "shuffle_doc_name_list (199): ['4733\\ttrain\\tacq', '2170\\ttrain\\tearn', '1346\\ttrain\\tearn', '4421\\ttrain\\tearn', '5224\\ttrain\\tcrude']\n",
            "shuffle_doc_words_list (199): ['hutchison sees higher payout satisfactory profits hutchison whampoa ltd hk expects satisfactory profits pay higher dividend year chairman li shing said make specific projections company earnings year said firm pay dividend less cents per share proposed four one stock split one four bonus issue paid total dividends dlrs per share last year equal cents per share adjusting bonus share split hutchison operations ranging trading property container terminals earlier reported tax profits billion dlrs billion dlrs total excluded extraordinary gains mln dlrs partly sale stake south china morning post leading english language newspaper compared mln dlrs previous year said expects another mln dlr gain sale remaining shares li said hong kong property market remains strong economy performing better forecast largely export led growth gross domestic product grew nearly nine pct last year initial government projection pct said hong kong large trade deficit u may result protectionist measures adversely affect british colony said company major operations showed improved results hutchison said earlier sell entire pct interest hongkong electric holdings ltd hk cavendish international holdings ltd spin hongkong electric reorganisation announced separately hongkong electric spin non electricity related activities cavendish listed local stock exchange hongkong electric shareholders receive one share cavendish every hongkong electric share cavendish buy mln hongkong electric shares hutchison issuing mln new shares spin sale hongkong electric shares give hutchison pct stake cavendish li said decision spin cavendish relieve hongkong electric public criticism power company making investments denied pressure government spin said cavendish seven billion dlrs assets almost debt free mln dlrs major assets hong kong hilton hotel property development interests husky oil ltd hyo canada pearson plc l britain reuter', 'northern telecom ltd declares stock split two one stock split pay may note split subject approval shareholders april annual meeting company also said increase dividend post split shares six cts five cts reuter', 'ivaco inc year net shr dlrs vs dlrs net vs revs billion vs billion note results include extraordinary gain dlrs six cts share secondary share offering unit reuter', 'shv says making tender offer ic gas shv united kingdom holding co ltd said making tender offer mln ordinary shares imperial continental gas association l said statement offer basis p ic gas ordinary p every one stg nominal ic gas loan stock shv already holds mln ic gas ordinary stock units representing around pct current issued share capital successful completion offer would increase shv stake ic gas mln shares representing around pct issued share capital said offer ic gas around one billion stg said tendering ordinary stock loan stock fully converted gave total mln ic gas ordinary making tender offer n ic gas said statement noted shv tender offer terms considered said statement would made soon possible reuter', 'marriott sell hotel four seasons hotels said vms realty partners chicago agreed purchase santa barbara biltmore hotel marriott corp undisclosed amount said venture hotel four seasons biltmore santa barbara invest mln dlrs improvements room property reuter']\n"
          ]
        }
      ],
      "source": [
        "print(f'shuffle_doc_name_list ({len(shuffle_doc_name_list)}): {shuffle_doc_name_list[:5]}')\n",
        "print(f'shuffle_doc_words_list ({len(shuffle_doc_words_list)}): {shuffle_doc_words_list[:5]}')"
      ]
    },
    {
      "cell_type": "markdown",
      "id": "df9f3dac",
      "metadata": {
        "id": "df9f3dac"
      },
      "source": [
        "# 2 Préparation des données <a name=\"init\"></a>\n",
        "\n",
        "[Retour table des matières](#up)\n",
        "\n",
        "Maintenant que nous avons importé les données sous les formes qui nous conviennent, nous devons les préparer.\n",
        "\n",
        "Nos données sont déjà partiellement préparées, puisque la ponctuation et les caractères spéciaux ont été retirés, et les textes mis en minuscules. \n",
        "\n",
        "En particulier, nous tokenizons les données, c'est-à-dire que nous séparons chaque document en liste de mots. Parmi ces mots, nous retirons les stopwords, c'est-à-dire les mots qui apparaissent très souvent et ne porte pas beaucoup de sens. C'est le cas notamment des pronoms, mais aussi de certains verbes comme être, avoir, etc. Il existe des listes de stopwords préfaites. En l'occurrence nous utilisons une librairie qui elle-même utilise une liste de stopwords issue de la librairie NLTK (spécialisée dans le NLP). Enfin, nous lemmatisons les mots, c'est-à-dire que nous les ramenons à leur racine. Par exemple, \"thinking\" et \"thoughts\" deviendront \"think\".\n",
        "\n",
        "Pour finir, nous retirons les mots qui apparaissent dans plus de 20% des documents. En effet, nous pouvons considérer qu'un mot qui apparaît dans plus de 1 document sur 5 (parmi plusieurs milliers de textes) n'apporte pas beaucoup de sens. Il s'agit de stopwords également."
      ]
    },
    {
      "cell_type": "code",
      "execution_count": null,
      "id": "7fc1efec",
      "metadata": {
        "id": "7fc1efec"
      },
      "outputs": [],
      "source": [
        "def prep(data, no_below=1, no_above=0.2, max_words=100000):\n",
        "    \"\"\"\n",
        "    data: liste de documents\n",
        "    \"\"\"\n",
        "\n",
        "    word_tok = Contract()\n",
        "    word_tok += Tokenize(stopwords=[\"en\",\"fr\"])\n",
        "    word_tok += Lemmatize()\n",
        "    word_tok += Phrase()\n",
        "    word_tok.verbose = False\n",
        "    #word_tok += Snowball(lang=\"french\") #stemming\n",
        "    \n",
        "    tokens = word_tok(data)\n",
        "    #print((tokens)) = liste des mots par doc\n",
        "    \n",
        "    dictionary = gensim.corpora.Dictionary(tokens)\n",
        "    #print(dictionary)\n",
        "    \n",
        "    #doesn't keep words that appear in less than no_below docs or more than no_above (ratio) docs\n",
        "    dictionary.filter_extremes(no_below=no_below, no_above=no_above, keep_n=max_words)\n",
        "    #print(dictionary) \n",
        "    \n",
        "    return word_tok, dictionary"
      ]
    },
    {
      "cell_type": "markdown",
      "id": "aYO2Fj5IpYa7",
      "metadata": {
        "id": "aYO2Fj5IpYa7"
      },
      "source": [
        "Nous construisons un dictionnaire de tokens uniques à partir du corpus de documents `doc_content_list`."
      ]
    },
    {
      "cell_type": "code",
      "execution_count": null,
      "id": "e41b841f",
      "metadata": {
        "id": "e41b841f"
      },
      "outputs": [],
      "source": [
        "word_tok, dictionary = prep(doc_content_list, 0.2)"
      ]
    },
    {
      "cell_type": "code",
      "execution_count": null,
      "id": "8cb8158e",
      "metadata": {
        "colab": {
          "base_uri": "https://localhost:8080/"
        },
        "id": "8cb8158e",
        "outputId": "e5f41fa5-3c78-4e1c-853d-f87cc16edcd8"
      },
      "outputs": [
        {
          "name": "stdout",
          "output_type": "stream",
          "text": [
            "Dictionary<7263 unique tokens: ['also', 'annual', 'approved', 'approves', 'april']...>\n"
          ]
        }
      ],
      "source": [
        "print(dictionary)"
      ]
    },
    {
      "cell_type": "markdown",
      "id": "cc8460e7",
      "metadata": {
        "id": "cc8460e7"
      },
      "source": [
        "# 3 Calcul du TFIDF et du PMI<a name=\"dico\"></a>\n",
        "\n",
        "[Retour table des matières](#up)\n",
        "\n",
        "Nous calculons maintenant le score TFIDF, qui nous servira pour les poids des arêtes entre les mots et documents.\n",
        "\n",
        "Le score TFIDF traduit l'idée qu'un mot qui apparait beaucoup dans un document mais assez peu dans le corpus est probablement un mot important relativement au document. Un mot qui apparait très peu dans un texte est assez logiquement peu important (sauf s'il n'apparait presque jamais dans le reste du corpus !). Enfin un mot qui apparait souvent dans le document mais qui apparait également souvent dans le corpus n'est pas très important. Il s'agit également d'une forme de stopwords.\n",
        "\n",
        "Le score TFIDF est donc une mesure statistique basée sur la fréquence des mots.\n",
        "\n",
        "Il se calcule selon la formule qui suit :\n",
        "\n",
        "$$tf(t,d) = \\frac{f_d(t)}{max_{w \\in d} f_d(w)} $$\n",
        "\n",
        "$$idf(t, D) = ln(\\frac{|D|}{|\\{d \\in D : t \\in d\\} |}) $$\n",
        "\n",
        "$$tfidf(t, d, D) = tf(t, d) \\times idf(t, D) $$\n",
        "\n",
        "avec $f_d(t)$ la fréquence du terme t dans le document d, et D le corpus de documents."
      ]
    },
    {
      "cell_type": "code",
      "execution_count": null,
      "id": "d3f9be3f",
      "metadata": {
        "id": "d3f9be3f"
      },
      "outputs": [],
      "source": [
        "def compute_tfidf(data, dictionary, word_tok, option=1):\n",
        "    \"\"\"\n",
        "\n",
        "    Retourne:\n",
        "        - TFIDF (matrice sparse): score TF-IDF entre ?\n",
        "        - tokenized_data (pd.Series): liste des mots par document\n",
        "        - tokenized_data_idx (list): liste des indices des mots dans dictionary par document\n",
        "        - vocab (np.array): ensemble des mots \n",
        "    \"\"\"\n",
        "    tokenized_data = word_tok(data)\n",
        "    \n",
        "    tokenized_data_idx = []\n",
        "    for i in range(len(data)):\n",
        "        tokenized_data_idx.append(dictionary.doc2idx(tokenized_data[i]))\n",
        "    \n",
        "    if option : #1\n",
        "        corpus = [dictionary.doc2bow(doc) for doc in tokenized_data]\n",
        "        tfidf = TfidfModel(corpus) #fit\n",
        "        X = tfidf[corpus] #transform\n",
        "        TFIDF = matutils.corpus2csc(X,num_docs=len(X)).T\n",
        "    \n",
        "        vocab = list(dictionary.token2id.keys())\n",
        "        \n",
        "    else: #0\n",
        "        vectorizer = TfIdf(\n",
        "            min_df=1,\n",
        "            max_df=.5,\n",
        "            max_features=None,\n",
        "            verbose=False)\n",
        "\n",
        "        TFIDF = vectorizer(tokenized_data)\n",
        "        vocab = vectorizer.vectorizer.get_feature_names_out()\n",
        "        \n",
        "    #Version dense et datafrmame\n",
        "    #mat_dense = TFIDF.toarray()\n",
        "    #df_tfidf = pd.DataFrame(mat_dense, columns=vocab)    \n",
        "    \n",
        "    return TFIDF, tokenized_data, tokenized_data_idx, vocab"
      ]
    },
    {
      "cell_type": "code",
      "execution_count": null,
      "id": "9a0f1c4d",
      "metadata": {
        "id": "9a0f1c4d"
      },
      "outputs": [],
      "source": [
        "TFIDF, tokenized_data, tokenized_data_idx, vocab = compute_tfidf(doc_content_list, dictionary, word_tok, 0)"
      ]
    },
    {
      "cell_type": "code",
      "execution_count": null,
      "id": "SiTkCV6XudUC",
      "metadata": {
        "colab": {
          "base_uri": "https://localhost:8080/"
        },
        "id": "SiTkCV6XudUC",
        "outputId": "b7391474-ac6e-4ef2-c878-fec587fa31dc"
      },
      "outputs": [
        {
          "data": {
            "text/plain": [
              "(7674, 7275)"
            ]
          },
          "execution_count": 72,
          "metadata": {},
          "output_type": "execute_result"
        }
      ],
      "source": [
        "TFIDF.shape"
      ]
    },
    {
      "cell_type": "code",
      "execution_count": null,
      "id": "xoRLllT5umoI",
      "metadata": {
        "colab": {
          "base_uri": "https://localhost:8080/"
        },
        "id": "xoRLllT5umoI",
        "outputId": "9e9fafc2-7ac7-4187-95a2-62f3aa9471b2"
      },
      "outputs": [
        {
          "data": {
            "text/plain": [
              "(7275,)"
            ]
          },
          "execution_count": 73,
          "metadata": {},
          "output_type": "execute_result"
        }
      ],
      "source": [
        "vocab.shape"
      ]
    },
    {
      "cell_type": "code",
      "execution_count": null,
      "id": "3mDEyb9WqAUJ",
      "metadata": {
        "colab": {
          "base_uri": "https://localhost:8080/"
        },
        "id": "3mDEyb9WqAUJ",
        "outputId": "305b96f3-b26b-4433-e173-74930b20df48"
      },
      "outputs": [
        {
          "data": {
            "text/plain": [
              "0       [champion, product, approves, stock, split, ch...\n",
              "1       [computer, terminal, system, complete, sale, c...\n",
              "2       [inc, year, net, shr, ct, vs, dlrs, net, vs, a...\n",
              "3       [international, inc, nd, qtr, jan, oper, shr, ...\n",
              "4       [brown, forman, inc, th qtr, net, shr, one, dl...\n",
              "                              ...                        \n",
              "7669    [balladur, maintenance, louvre accord, french,...\n",
              "7670    [philippin, trade, gap, widens, january, augus...\n",
              "7671    [iran, soviet, union, swap, crud, refined, pro...\n",
              "7672    [chase, corp, make, offer, entregrowth, chase,...\n",
              "7673    [japan, india, conference, cut, gulf, war, ris...\n",
              "Length: 7674, dtype: object"
            ]
          },
          "execution_count": 74,
          "metadata": {},
          "output_type": "execute_result"
        }
      ],
      "source": [
        "tokenized_data"
      ]
    },
    {
      "cell_type": "markdown",
      "id": "0d4387a7",
      "metadata": {
        "id": "0d4387a7"
      },
      "source": [
        "Nous calculons désormais le PMI (Pointwise Mutual Information). Cela nous servira pour les poids des arêtes entre deux mots. Le PMI mesure à quel point 2 mots sont susceptibles d'apparaitre ensemble. Il s'agit donc d'une mesure de la co-occurrence. L'hypothèse faite est que deux mots qui apparaissent souvent ensemble sont susceptibles d'avoir un sens proche.\n",
        "\n",
        "Pour calculer le PMI, il faut faire glisser une fenêtre sur chacun des textes. La taille de cette fenêtre est un hyper-paramètre à choisir.\n",
        "\n",
        "En parcourant les documents, nous compterons : \n",
        "\n",
        "    - Le nombre total de fenêtres : #W\n",
        "    - Le nombre de fenêtres qui contiennent le mot i, pour chaque mot i : #W(i)\n",
        "    - Le nombre de fenêtres qui contiennent 2 mots i et j : #W(i,j)\n",
        "    \n",
        "Finalement, le PMI se calcule comme suit : \n",
        "\n",
        "$$ p(i, j) = \\frac{\\#W(i,j)}{\\#W} $$\n",
        "\n",
        "$$ p(i) = \\frac{\\#W(i)}{\\#W} $$\n",
        "\n",
        "$$ PMI(i, j) = log \\frac{p(i,j)}{p(i)p(j)} $$\n",
        "\n",
        "Les cellules qui suivent nous serviront à décomposer le calcul du PMI en plusieurs fonctions.\n"
      ]
    },
    {
      "cell_type": "code",
      "execution_count": null,
      "id": "0d9d96de",
      "metadata": {
        "id": "0d9d96de"
      },
      "outputs": [],
      "source": [
        "def ordered_word_pair(a, b):\n",
        "    if a > b:\n",
        "        return b, a\n",
        "    else:\n",
        "        return a, b\n",
        "        \n",
        "def update_word_and_word_pair_occurrence(q, W_i, W_ij):\n",
        "    '''\n",
        "    Traitement des mots de une fenêtre\n",
        "    \n",
        "    q : set d'indices de mots\n",
        "    '''\n",
        "    # On utilise un set pour avoir chaque mot une seule fois\n",
        "    # L'ordre n'est pas important\n",
        "    unique_q = list(set(q))\n",
        "\n",
        "    # On retire les mots qui n'apparaissent pas dans le dictionnaire\n",
        "    # qui sont les mots dont la valeur est -1\n",
        "    if -1 in unique_q:\n",
        "        unique_q.remove(-1)\n",
        "\n",
        "    for w in unique_q:\n",
        "        # Mise a jour du nombre de fenetres ou apparait chaque mot\n",
        "        try:\n",
        "            W_i[w] += 1\n",
        "        except:\n",
        "            W_i[w] = 1 # Si la valeur n'existe pas encore\n",
        "\n",
        "    for i in range(len(unique_q)):\n",
        "        # Mise a jour du nombre de fenetres ou apparait chaque paire\n",
        "        for j in range(i+1, len(unique_q)):\n",
        "            # Pour chaque mot j après i \n",
        "            word1 = unique_q[i]\n",
        "            word2 = unique_q[j]\n",
        "            # On ne veut update que un coté de la matrice\n",
        "            word1, word2 = ordered_word_pair(word1, word2)\n",
        "            try:\n",
        "                W_ij[word1, word2] += 1\n",
        "            except:\n",
        "                W_ij[word1, word2] = 1\n",
        "    return W_i, W_ij"
      ]
    },
    {
      "cell_type": "code",
      "execution_count": null,
      "id": "1f88b59b",
      "metadata": {
        "id": "1f88b59b"
      },
      "outputs": [],
      "source": [
        "def compute_pmi(tokenized_data_idx, window_size=10, threshold=0.1, min_count=2, normalize=True):\n",
        "    \"\"\"\n",
        "    Retourne:\n",
        "        - PMI (dict): (paire de mots representes par leurs indices): pmi\n",
        "    \"\"\"\n",
        "    W = 0 #compte des fenêtres\n",
        "\n",
        "    W_ij = dict()\n",
        "    W_i = dict()\n",
        "\n",
        "    #tokenized_data = liste des mots pour chaque doc\n",
        "    for words in tqdm(tokenized_data_idx):\n",
        "        #Pour chaque document, calcul de toutes les fréquences Wi Wij\n",
        "        #words = liste des indices des mots de 1 doc\n",
        "\n",
        "        #Initialisation de la fenêtre\n",
        "        q = []\n",
        "        for i in range(min(window_size, len(words))):\n",
        "            #On ajoute à la queue les indices des mots de la fenetre\n",
        "            #en partant du début du doc\n",
        "            q.append(words[i])\n",
        "        #Update du nb de fenetres\n",
        "        W+=1\n",
        "        #Update de W(i) et W(i,j)\n",
        "        W_i, W_ij = update_word_and_word_pair_occurrence(q, W_i, W_ij)\n",
        "\n",
        "        next_word_idx = window_size\n",
        "        #Tant qu'on a pas fini le doc, on décale la fenêtre\n",
        "        while next_word_idx<len(words):\n",
        "            #On décale la fenêtre\n",
        "            #En enlevant le premier mot\n",
        "            q.pop(0)\n",
        "            #Et en ajoutant le mot suivant (son indice)\n",
        "            q.append(words[next_word_idx])\n",
        "            next_word_idx+=1\n",
        "            W+=1\n",
        "            W_i, W_ij = update_word_and_word_pair_occurrence(q, W_i, W_ij)  \n",
        "    \n",
        "    PMI = dict()\n",
        "    #Pour chaque mot qui apparaissent ensemble\n",
        "    for (i,j), Wij in tqdm(W_ij.items()):\n",
        "        #On ne garde pas les couple qui apparaissent trop peu\n",
        "        if Wij < min_count:\n",
        "            continue\n",
        "        #word freq\n",
        "        Wi = W_i[i]\n",
        "        Wj = W_i[j]\n",
        "        pij = Wij/W\n",
        "        pi = Wi/W\n",
        "        pj = Wj/W\n",
        "\n",
        "        pmi=math.log(pij/(pi*pj))\n",
        "\n",
        "        #Normalisation du PMI\n",
        "        if normalize:\n",
        "            pmi = pmi/(-math.log(pij))\n",
        "        if pmi > threshold:\n",
        "            PMI[i,j]=pmi\n",
        "    return PMI"
      ]
    },
    {
      "cell_type": "code",
      "execution_count": null,
      "id": "45e896bc-c88e-4c01-9bef-8433a411fcd3",
      "metadata": {
        "id": "45e896bc-c88e-4c01-9bef-8433a411fcd3"
      },
      "outputs": [],
      "source": [
        "import pickle \n",
        "\n",
        "def load_pickle(filename, dir):\n",
        "    completeName = os.path.join(f\"./{dir}/{filename}\")\n",
        "    with open(completeName, 'rb') as pkl_file:\n",
        "        data = pickle.load(pkl_file)\n",
        "    return data\n",
        "\n",
        "def save_as_pickle(filename, dir, data):\n",
        "    completeName = os.path.join(f\"./{dir}/{filename}\")\n",
        "    with open(completeName, 'wb') as output:\n",
        "        pickle.dump(data, output)"
      ]
    },
    {
      "cell_type": "markdown",
      "source": [
        "Comme expliqué précédemment, les liens entre 2 mots sont leur score PMI. Afin de juger de l'efficacité de ce score, nous avons souhaité essayer une autre mesure de ce lien.\n",
        "\n",
        "Nous allons donc attribuer à chaque mot du vocablaire un embedding, en utilisant un modèle pré entrainé. Ainsi, nous pourrons calculer la similarité cosinus entre deux mots (donc entre leurs deux vecteurs), et utiliser ce nouveau score comme poids d'une arête entre deux mots."
      ],
      "metadata": {
        "id": "x0lm560V2d2u"
      },
      "id": "x0lm560V2d2u"
    },
    {
      "cell_type": "code",
      "execution_count": null,
      "id": "d42b2e24-9422-48fc-b590-10570d9c8bd9",
      "metadata": {
        "id": "d42b2e24-9422-48fc-b590-10570d9c8bd9"
      },
      "outputs": [],
      "source": [
        "def generate_embeddings(vocab):\n",
        "    try:\n",
        "        wv = load_pickle(dir = \"embeddings\", filename = \"wordvectors\")\n",
        "    except FileNotFoundError:\n",
        "         wv = {}\n",
        "    new_words = []\n",
        "    for word in vocab:\n",
        "        if word in wv or word in new_words:\n",
        "            continue\n",
        "        new_words.append(word)\n",
        "    new_words = list(set(new_words))\n",
        "    bert_embedding = BertEmbedding()\n",
        "    result = bert_embedding(new_words)\n",
        "    for pair in result:\n",
        "        wv[pair[0][0]] = pair[1][0]\n",
        "    save_as_pickle(\"wordvectors\", \"embeddings\", wv)\n",
        "    return wv\n",
        "\n",
        "\n",
        "def compute_CS(vocab, threshold = .5):\n",
        "    wv = generate_embeddings(vocab)\n",
        "    try:\n",
        "        CS = load_pickle(dir = \"embeddings\", filename = \"CS.pkl\")\n",
        "        return CS\n",
        "    except FileNotFoundError:\n",
        "         CS = {}\n",
        "    for i in tqdm(range(len(vocab)-1)):\n",
        "        word1 = vocab[i].split()[0]\n",
        "        for j in range(i+1, len(vocab)):\n",
        "            if (i,j) in CS.keys():\n",
        "                continue\n",
        "            word2 = vocab[j].split()[0]\n",
        "            try:\n",
        "                similarity = cosine_similarity(wv[word1].reshape(1, -1), wv[word2].reshape(1, -1))\n",
        "                if similarity[0][0] > threshold:\n",
        "                    CS[word1, word2] = similarity\n",
        "            except KeyError:\n",
        "                pass\n",
        "    save_as_pickle(\"CS.pkl\", \"embeddings\", CS)\n",
        "    return CS"
      ]
    },
    {
      "cell_type": "code",
      "execution_count": null,
      "id": "2cb423e1",
      "metadata": {
        "colab": {
          "base_uri": "https://localhost:8080/"
        },
        "id": "2cb423e1",
        "outputId": "a4a667e0-75dd-4e51-d183-d3fbcca68a72"
      },
      "outputs": [
        {
          "name": "stderr",
          "output_type": "stream",
          "text": [
            "100%|██████████| 7674/7674 [00:07<00:00, 1069.70it/s]\n",
            "100%|██████████| 992269/992269 [00:00<00:00, 1972811.11it/s]\n"
          ]
        }
      ],
      "source": [
        "PMI = compute_pmi(tokenized_data_idx, window_size=10, threshold=0.2, min_count=20, normalize=True)"
      ]
    },
    {
      "cell_type": "markdown",
      "id": "d9f8b0f5",
      "metadata": {
        "id": "d9f8b0f5"
      },
      "source": [
        "# 4 Construction du graphe <a name=\"tfidf\"></a>\n",
        "\n",
        "[Retour table des matières](#up)\n",
        "\n",
        "Nous allons maintenant construire le graphe.\n",
        "\n",
        "Pour cela, nous commençons par créer un sommet par mot du vocabulaire, et une arête par couple de mots (qui ont un score PMI supérieur à un certain seuil) avec comme poids le score PMI.\n",
        "\n",
        "Ensuite nous créons une arête par couple (document, mot)"
      ]
    },
    {
      "cell_type": "code",
      "execution_count": null,
      "id": "5e9c2327",
      "metadata": {
        "id": "5e9c2327"
      },
      "outputs": [],
      "source": [
        "def create_graph(PMI, TFIDF, vocab):\n",
        "    nodes = set()\n",
        "    edges = []\n",
        "    \n",
        "    #aretes entre les mots\n",
        "    #list_pmi = list(PMI.items())\n",
        "    for (u,v), w in PMI.items():\n",
        "        mot_u = u\n",
        "        mot_v = v\n",
        "        edges.append((mot_u,mot_v,w))\n",
        "        nodes.add(mot_u)\n",
        "        nodes.add(mot_v)\n",
        "    \n",
        "    l = len(edges)\n",
        "        \n",
        "    #aretes entre mots et doc\n",
        "    rows, cols = TFIDF.nonzero()\n",
        "    for r, c in zip(rows, cols):\n",
        "        #r = doc car ils sont sur les lignes\n",
        "        #c = mot car sur les colonnes\n",
        "        mot = vocab[c]\n",
        "        if mot not in nodes:\n",
        "            continue\n",
        "        triplet = (r, mot, TFIDF[r,c])\n",
        "        edges.append(triplet)  \n",
        "        \n",
        "    l1 = len(edges)\n",
        "\n",
        "    #construction du graphe\n",
        "    G = nx.Graph()\n",
        "    G.add_nodes_from(range(TFIDF.shape[0])) # 1 noeud par doc (idx)\n",
        "    G.add_weighted_edges_from(edges)\n",
        "\n",
        "    #Ajout des boucles\n",
        "    for node in G.nodes:\n",
        "        G.add_edge(node, node, weight=1)\n",
        "    \n",
        "    return G"
      ]
    },
    {
      "cell_type": "code",
      "execution_count": null,
      "id": "b5d64ace",
      "metadata": {
        "id": "b5d64ace"
      },
      "outputs": [],
      "source": [
        "def build_graph(data,\n",
        "                no_below=1,\n",
        "                no_above=0.2,\n",
        "                max_words=100000,\n",
        "                window_size=20, # param du papier\n",
        "                pmi_threshold=0.2,\n",
        "                min_count=21,\n",
        "                normalize=True, \n",
        "                method = \"PMI\"):\n",
        "    \n",
        "    word_tok, dictionary = prep(data, no_below, no_above)\n",
        "    \n",
        "    TFIDF, tokenized_data, tokenized_data_idx, vocab = compute_tfidf(data, dictionary, word_tok, 0)\n",
        "    \n",
        "    n_docs, n_words = TFIDF.shape\n",
        "    \n",
        "    if method == \"PMI\":\n",
        "        PMI = compute_pmi(tokenized_data , window_size, pmi_threshold, min_count, normalize)\n",
        "        G = create_graph(PMI, TFIDF, vocab)\n",
        "    if method == \"CS\":\n",
        "        CS = load_pickle(dir = \"embeddings\", filename = \"CS.pkl\") #compute_CS(vocab)\n",
        "        G = create_graph(CS, TFIDF, vocab)\n",
        "    \n",
        "    return G"
      ]
    },
    {
      "cell_type": "markdown",
      "source": [
        "La fonction suivante permet d'obtenir la matrice d'adjacence normalisée, qui sera donnée en entrée du GCN."
      ],
      "metadata": {
        "id": "Y8KDlUJI3xmc"
      },
      "id": "Y8KDlUJI3xmc"
    },
    {
      "cell_type": "code",
      "execution_count": null,
      "id": "CI84d3Pq0puk",
      "metadata": {
        "id": "CI84d3Pq0puk"
      },
      "outputs": [],
      "source": [
        "def get_A_hat(G):\n",
        "    A = nx.to_numpy_matrix(G, weight=\"weight\")\n",
        "    A = A + np.eye(G.number_of_nodes())\n",
        "    degrees = []\n",
        "    for d in G.degree(weight=None):\n",
        "        if d == 0:\n",
        "            degrees.append(0)\n",
        "        else:\n",
        "            degrees.append(d[1]**(-0.5))\n",
        "    degrees = np.diag(degrees)\n",
        "    A_hat = degrees@A@degrees\n",
        "\n",
        "    return A_hat"
      ]
    },
    {
      "cell_type": "markdown",
      "source": [
        "On construit une version du graphe avec le PMI et une autre avec la similarité cosinus."
      ],
      "metadata": {
        "id": "q81yc3N435YP"
      },
      "id": "q81yc3N435YP"
    },
    {
      "cell_type": "code",
      "execution_count": null,
      "id": "9e9d8b43",
      "metadata": {
        "id": "9e9d8b43"
      },
      "outputs": [],
      "source": [
        "G = build_graph(doc_content_list)\n",
        "A_hat = get_A_hat(G)"
      ]
    },
    {
      "cell_type": "code",
      "source": [
        "G_CS = build_graph(doc_content_list, method = \"CS\")\n",
        "A_hat_CS = get_A_hat(G_CS)"
      ],
      "metadata": {
        "id": "ttNQ6fhz37-o"
      },
      "id": "ttNQ6fhz37-o",
      "execution_count": null,
      "outputs": []
    },
    {
      "cell_type": "markdown",
      "id": "-HMg2KPfu-mD",
      "metadata": {
        "id": "-HMg2KPfu-mD"
      },
      "source": [
        "# 5 Preparation du dataset <a name=\"dataset\"></a>\n",
        "\n",
        "[Retour table des matières](#up)\n",
        "\n",
        "Dans cette section, on implémente une fonction permettant de faire varier la proportion des données labellisées dans le jeu d'entraînement."
      ]
    },
    {
      "cell_type": "code",
      "execution_count": null,
      "id": "15614968",
      "metadata": {
        "id": "15614968"
      },
      "outputs": [],
      "source": [
        "classes = list(set([row.split('\\t')[2] for row in doc_name_list]))\n",
        "num_classes = len(classes)\n",
        "\n",
        "class2label = {class_name: i for i, class_name in enumerate(classes)}"
      ]
    },
    {
      "cell_type": "code",
      "execution_count": null,
      "id": "JNbcHlM5teeI",
      "metadata": {
        "colab": {
          "base_uri": "https://localhost:8080/"
        },
        "id": "JNbcHlM5teeI",
        "outputId": "19cbdbc5-98a7-4283-c550-f71c0eda0d1f"
      },
      "outputs": [
        {
          "data": {
            "text/plain": [
              "{'money-fx': 0,\n",
              " 'crude': 1,\n",
              " 'acq': 2,\n",
              " 'trade': 3,\n",
              " 'earn': 4,\n",
              " 'ship': 5,\n",
              " 'interest': 6}"
            ]
          },
          "execution_count": 89,
          "metadata": {},
          "output_type": "execute_result"
        }
      ],
      "source": [
        "class2label"
      ]
    },
    {
      "cell_type": "code",
      "execution_count": null,
      "id": "c538e4d0",
      "metadata": {
        "id": "c538e4d0"
      },
      "outputs": [],
      "source": [
        "def prepare_dataset(train_list, train_content, labeled_data_size):\n",
        "\n",
        "    size = int(labeled_data_size * len(train_ids))\n",
        "    train_subset_ids = []\n",
        "    train_subset_labels = []\n",
        "    for i in range(size):\n",
        "        id, _, class_name = train_list[i].split('\\t')\n",
        "        train_subset_ids.append(int(id))\n",
        "        train_subset_labels.append(class2label[class_name])\n",
        "    \n",
        "    train_subset_ids = np.array(train_subset_ids)\n",
        "    train_subset_labels = np.array(train_subset_labels)\n",
        "    train_subset_content = np.array(train_content[:size])\n",
        "    \n",
        "    return train_subset_ids, train_subset_labels, train_subset_content"
      ]
    },
    {
      "cell_type": "code",
      "execution_count": null,
      "id": "_9l3GIpJKLHr",
      "metadata": {
        "id": "_9l3GIpJKLHr"
      },
      "outputs": [],
      "source": [
        "# Shuffle de doc_name_list et doc_content_list\n",
        "shuffle_doc_train_list = []\n",
        "shuffle_doc_train_content_list = []\n",
        "for id in train_ids:\n",
        "    shuffle_doc_train_list.append(doc_train_list[int(id)])\n",
        "    shuffle_doc_train_content_list.append(doc_content_list[int(id)])"
      ]
    },
    {
      "cell_type": "code",
      "execution_count": null,
      "id": "dc8af206",
      "metadata": {
        "id": "dc8af206"
      },
      "outputs": [],
      "source": [
        "train_subset_ids, train_subset_labels, train_subset_content = prepare_dataset(shuffle_doc_train_list, shuffle_doc_train_content_list, 0.2)"
      ]
    },
    {
      "cell_type": "code",
      "execution_count": null,
      "id": "bdf3b62b",
      "metadata": {
        "id": "bdf3b62b"
      },
      "outputs": [],
      "source": [
        "test_ids = np.array([int(row.split('\\t')[0]) for row in doc_test_list])\n",
        "test_labels = np.array([class2label[row.split('\\t')[2]] for row in doc_test_list])"
      ]
    },
    {
      "cell_type": "markdown",
      "id": "a0704996",
      "metadata": {
        "id": "a0704996"
      },
      "source": [
        "# 6 Construction et entrainement du GCN  <a name=\"gcn\"></a>\n",
        "\n",
        "[Retour table des matières](#up)\n",
        "\n",
        "Enfin, nous implémentons une classe GCN."
      ]
    },
    {
      "cell_type": "code",
      "execution_count": null,
      "id": "dCUZIWJ8zC0z",
      "metadata": {
        "id": "dCUZIWJ8zC0z"
      },
      "outputs": [],
      "source": [
        "hidden_size_1 = 200\n",
        "hidden_size_2 = 200\n",
        "start_epoch=0\n",
        "num_epochs=200\n",
        "lr=0.02 \n",
        "#model_no = 0"
      ]
    },
    {
      "cell_type": "code",
      "execution_count": null,
      "id": "wWFggMOWy1vC",
      "metadata": {
        "id": "wWFggMOWy1vC"
      },
      "outputs": [],
      "source": [
        "import torch\n",
        "import torch.nn as nn\n",
        "import torch.nn.functional as F\n",
        "\n",
        "class gcn(nn.Module):\n",
        "    def __init__(self, X_size, A_hat, num_classes, bias=True): # X_size = num features\n",
        "        super(gcn, self).__init__()\n",
        "        self.A_hat = torch.tensor(A_hat, requires_grad=False).float()\n",
        "\n",
        "        self.weight = nn.parameter.Parameter(torch.FloatTensor(X_size, hidden_size_1))\n",
        "        var = 2./(self.weight.size(1)+self.weight.size(0))\n",
        "        self.weight.data.normal_(0,var)\n",
        "        self.drop1 = nn.Dropout(p = 0.5)\n",
        "        \n",
        "        self.weight2 = nn.parameter.Parameter(torch.FloatTensor(hidden_size_1, hidden_size_2))\n",
        "        var2 = 2./(self.weight2.size(1)+self.weight2.size(0))\n",
        "        self.weight2.data.normal_(0,var2)\n",
        "        self.drop2 = nn.Dropout(p = 0.5)\n",
        "\n",
        "        if bias:\n",
        "            self.bias = nn.parameter.Parameter(torch.FloatTensor(hidden_size_1))\n",
        "            self.bias.data.normal_(0,var)\n",
        "            self.bias2 = nn.parameter.Parameter(torch.FloatTensor(hidden_size_2))\n",
        "            self.bias2.data.normal_(0,var2)\n",
        "        else:\n",
        "            self.register_parameter(\"bias\", None)\n",
        "            \n",
        "        self.fc1 = nn.Linear(hidden_size_2, num_classes)\n",
        "        \n",
        "    def forward(self, X): ### 2-layer GCN architecture\n",
        "\n",
        "        # 1st layer\n",
        "        X = torch.mm(X, self.weight)\n",
        "        if self.bias is not None:\n",
        "            X = (X + self.bias)\n",
        "        X = F.relu(torch.mm(self.A_hat, X))\n",
        "        X = self.drop1(X)\n",
        "        \n",
        "        # 2nd layer\n",
        "        X = torch.mm(X, self.weight2)\n",
        "        if self.bias2 is not None:\n",
        "            X = (X + self.bias2)\n",
        "        X = F.relu(torch.mm(self.A_hat, X))\n",
        "        X = self.drop2(X)\n",
        "        return self.fc1(X) # Shape: (num_nodes, num_classes=8)"
      ]
    },
    {
      "cell_type": "code",
      "execution_count": null,
      "id": "TVkAqhelzy-o",
      "metadata": {
        "id": "TVkAqhelzy-o"
      },
      "outputs": [],
      "source": [
        "import torch.nn as nn\n",
        "import torch.optim as optim\n",
        "import os\n",
        "\n",
        "\n",
        "def evaluate(output, true_labels):\n",
        "\n",
        "    # Perform softmax and get predicted label\n",
        "    _, pred_labels = output.max(1) \n",
        "    pred_labels = pred_labels.numpy()\n",
        "\n",
        "    # Compute accuracy score\n",
        "    acc_score = sum([(e) for e in true_labels] == pred_labels)/len(true_labels)\n",
        "\n",
        "    return acc_score\n",
        "\n",
        "\n",
        "def train(G, A_hat, selected, labels_selected, not_selected, labels_not_selected, num_classes, labeled_data_size, method = \"PMI\", verbose = False):\n",
        "    \"\"\"\n",
        "    f: torch tensor input of GCN (Identity matrix)\n",
        "    X: input of GCN (Identity matrix)\n",
        "    A_hat: transformed adjacency matrix A\n",
        "    selected: indexes of selected labelled nodes for training\n",
        "    not_selected: indexes of not-selected nodes for inference/testing\n",
        "    labels_selected: labels of selected labelled nodes for training\n",
        "    labels_not_selected: labels of not-selected labelled nodes for inference/testing\n",
        "    \"\"\"\n",
        "    \n",
        "\n",
        "    # Input of GCN\n",
        "    n_nodes = G.number_of_nodes()\n",
        "    X = np.eye(n_nodes) # Feature matrix, is the identity matrix at the beginning\n",
        "    f = torch.from_numpy(X).float() \n",
        "\n",
        "    # Initialization of GCN\n",
        "    net = gcn(A_hat.shape[0], A_hat, num_classes=num_classes)\n",
        "\n",
        "    # Training params\n",
        "    criterion = nn.CrossEntropyLoss()\n",
        "    optimizer = optim.Adam(net.parameters(), lr=lr)\n",
        "    #scheduler = optim.lr_scheduler.MultiStepLR(optimizer, milestones=[50,100, 150, 200], gamma=0.75)\n",
        "\n",
        "    start_epoch, best_pred = 0, 0\n",
        "    losses_per_epoch, evaluation_trained, evaluation_untrained = [], [], []\n",
        "\n",
        "    net.train()\n",
        "\n",
        "    # For each epoch...\n",
        "    for e in range(start_epoch, num_epochs):\n",
        "        optimizer.zero_grad()\n",
        "\n",
        "        # Forward pass\n",
        "        output = net(f)\n",
        "        \n",
        "        # Compute loss on training labeled set\n",
        "        loss = criterion(output[selected], torch.tensor(labels_selected).long())\n",
        "        if verbose:\n",
        "            print(f'{e} {loss.item()}')\n",
        "        losses_per_epoch.append(loss.item())\n",
        "\n",
        "        # Backpropagation\n",
        "        loss.backward()\n",
        "\n",
        "        # Parameter update\n",
        "        optimizer.step()\n",
        "        \n",
        "        ### Evaluate other untrained nodes and check accuracy of labelling\n",
        "        net.eval()\n",
        "        with torch.no_grad():\n",
        "            out = net(f)\n",
        "            trained_accuracy = evaluate(out[selected], labels_selected)\n",
        "            untrained_accuracy = evaluate(out[not_selected], labels_not_selected)\n",
        "        evaluation_trained.append((e, trained_accuracy))\n",
        "        evaluation_untrained.append((e, untrained_accuracy))\n",
        "\n",
        "        if verbose: \n",
        "            print(\"[Epoch\", e, \"]: Evaluation accuracy of trained nodes:\", trained_accuracy)\n",
        "            print(\"[Epoch\", e, \"]: Evaluation accuracy of test nodes:\", untrained_accuracy)\n",
        "    \n",
        "        net.train()\n",
        "        if untrained_accuracy > best_pred:\n",
        "            best_pred = untrained_accuracy\n",
        "            torch.save({\n",
        "                'epoch': e + 1,\\\n",
        "                'state_dict': net.state_dict(),\\\n",
        "                'best_acc': untrained_accuracy,\\\n",
        "                'optimizer' : optimizer.state_dict(),\\\n",
        "                #'scheduler' : scheduler.state_dict(),\\\n",
        "            }, os.path.join(\"save/\" ,\\\n",
        "            \"test_model_best_%d.pth.tar\" % labeled_data_size))\n",
        "        ## Don't stop before epoch 50 to prevent slow starts\n",
        "       \n",
        "        if e > 50:\n",
        "            stop_acc_threshold = np.mean([acc[1] for acc in evaluation_untrained[-10:]])\n",
        "            if stop_acc_threshold > evaluation_untrained[-1][1]: \n",
        "                break\n",
        "        #scheduler.step()\n",
        "\n",
        "    # Save\n",
        "    save_as_pickle(filename=f'loss_model_{labeled_data_size}_{method}_n2.pkl', dir='save', data=losses_per_epoch)\n",
        "    save_as_pickle(filename=f'eval_train_model_{labeled_data_size}_{method}_n2.pkl', dir='save', data=evaluation_trained)\n",
        "    save_as_pickle(filename=f'eval_test_model_{labeled_data_size}_{method}_n2.pkl', dir='save', data=evaluation_untrained)\n",
        "    \n",
        "    return output.max(1)[1], losses_per_epoch, evaluation_trained, evaluation_untrained "
      ]
    },
    {
      "cell_type": "markdown",
      "id": "3c9bf0bf-fb5f-4429-ab7b-31cf12daf9ee",
      "metadata": {
        "id": "3c9bf0bf-fb5f-4429-ab7b-31cf12daf9ee"
      },
      "source": [
        "# 7 Expériences <a name=\"exp\"></a>\n",
        "\n",
        "[Retour table des matières](#up)"
      ]
    },
    {
      "cell_type": "markdown",
      "id": "05534258-77f7-477d-9f31-396114e8589a",
      "metadata": {
        "id": "05534258-77f7-477d-9f31-396114e8589a"
      },
      "source": [
        "## Experiences sur la part de données labellisées"
      ]
    },
    {
      "cell_type": "code",
      "execution_count": null,
      "id": "d0f7e03a",
      "metadata": {
        "tags": [],
        "id": "d0f7e03a",
        "outputId": "900693cd-5f06-44bf-e6f7-03d8ab4fdb2c"
      },
      "outputs": [
        {
          "name": "stdout",
          "output_type": "stream",
          "text": [
            "Training 0.01\n",
            "Untrained accuracy : (87, 0.7217907720420284)\n",
            "Training 0.03\n",
            "Untrained accuracy : (80, 0.7272727272727273)\n",
            "Training 0.05\n",
            "Untrained accuracy : (95, 0.7624486066697121)\n",
            "Training 0.07\n",
            "Untrained accuracy : (89, 0.7597076290543627)\n",
            "Training 0.09\n",
            "Untrained accuracy : (99, 0.7674737322978529)\n",
            "Training 0.11\n",
            "Untrained accuracy : (93, 0.7693010507080859)\n",
            "Training 0.13\n",
            "Untrained accuracy : (91, 0.7802649611694837)\n",
            "Training 0.15\n",
            "Untrained accuracy : (91, 0.7820922795797167)\n",
            "Training 0.17\n",
            "Untrained accuracy : (95, 0.7921425308359982)\n",
            "Training 0.19\n",
            "Untrained accuracy : (87, 0.7962539972590224)\n",
            "Training 0.21\n",
            "Untrained accuracy : (108, 0.7793513019643673)\n",
            "Training 0.23\n",
            "Untrained accuracy : (81, 0.7857469164001827)\n",
            "Training 0.25\n",
            "Untrained accuracy : (91, 0.7894015532206486)\n",
            "Training 0.27\n",
            "Untrained accuracy : (97, 0.7884878940155322)\n",
            "Training 0.29\n",
            "Untrained accuracy : (87, 0.789858382823207)\n",
            "Training 0.31\n",
            "Untrained accuracy : (110, 0.7884878940155322)\n",
            "Training 0.33\n",
            "Untrained accuracy : (100, 0.7889447236180904)\n",
            "Training 0.35\n",
            "Untrained accuracy : (91, 0.7912288716308817)\n",
            "Training 0.37\n",
            "Untrained accuracy : (95, 0.79168570123344)\n",
            "Training 0.39\n",
            "Untrained accuracy : (84, 0.7889447236180904)\n"
          ]
        }
      ],
      "source": [
        "for labeled_data_size in np.arange(1, 40, 2)/100: #[0.01, 0.05, 0.1, 0.2]:\n",
        "    print(\"Training\", labeled_data_size)\n",
        "    train_subset_ids, train_subset_labels, _ = prepare_dataset(shuffle_doc_train_list, shuffle_doc_train_content_list, labeled_data_size)\n",
        "    _,_,_,evaluation_untrained = train(G, A_hat, selected=train_subset_ids, labels_selected=train_subset_labels, not_selected=test_ids, labels_not_selected=test_labels, num_classes=8, labeled_data_size=labeled_data_size)\n",
        "    print(\"Untrained accuracy :\", evaluation_untrained[-1])"
      ]
    },
    {
      "cell_type": "code",
      "execution_count": null,
      "id": "e8a3b7e2-29c3-4e6e-b29a-77188ca58df5",
      "metadata": {
        "id": "e8a3b7e2-29c3-4e6e-b29a-77188ca58df5",
        "outputId": "dd4670d3-3fd0-43bb-d236-c2ab0253939a"
      },
      "outputs": [
        {
          "data": {
            "image/png": "[encoded data removed]",
            "text/plain": [
              "<Figure size 432x288 with 1 Axes>"
            ]
          },
          "metadata": {
            "needs_background": "light"
          },
          "output_type": "display_data"
        }
      ],
      "source": [
        "untrained_accuracy_by_labeled_size = []\n",
        "for labeled_data_size in np.arange(1, 40, 2)/100:\n",
        "    untrained_accuracy = load_pickle(filename=f'eval_test_model_{labeled_data_size}_PMI.pkl', dir='save')\n",
        "    untrained_accuracy = [acc[1] for acc in untrained_accuracy]\n",
        "    untrained_accuracy_by_labeled_size.append(max(untrained_accuracy))\n",
        "    \n",
        "ax = plt.plot(np.arange(1, 40, 2)/100, untrained_accuracy_by_labeled_size)\n",
        "plt.title(\"Test accuracy while varying training data proportion\")\n",
        "plt.xlabel(\"Proportion of labelled data\")\n",
        "plt.ylabel(\"Accuracy\");\n"
      ]
    },
    {
      "cell_type": "markdown",
      "id": "ad36f0b1-0724-4974-af19-cb3d276b310d",
      "metadata": {
        "id": "ad36f0b1-0724-4974-af19-cb3d276b310d"
      },
      "source": [
        "## Expériences sur la part de données labellisées et comparaison entre cosine similarity et PMI"
      ]
    },
    {
      "cell_type": "code",
      "execution_count": null,
      "id": "645df375-4a40-4dc7-997f-1b0384d40de7",
      "metadata": {
        "id": "645df375-4a40-4dc7-997f-1b0384d40de7",
        "outputId": "a0bff255-6f82-41b6-b325-2219f8c4e620"
      },
      "outputs": [
        {
          "name": "stdout",
          "output_type": "stream",
          "text": [
            "Training 0.01\n",
            "Untrained accuracy : (74, 0.6870717222476016)\n",
            "Training 0.03\n",
            "Untrained accuracy : (74, 0.7153951576062129)\n",
            "Training 0.05\n",
            "Untrained accuracy : (68, 0.7121973503883051)\n",
            "Training 0.07\n",
            "Untrained accuracy : (73, 0.6966651439013248)\n",
            "Training 0.09\n",
            "Untrained accuracy : (86, 0.698949291914116)\n",
            "Training 0.11\n",
            "Untrained accuracy : (91, 0.702603928734582)\n",
            "Training 0.13\n",
            "Untrained accuracy : (82, 0.7039744175422568)\n",
            "Training 0.15\n",
            "Untrained accuracy : (75, 0.6930105070808589)\n",
            "Training 0.17\n",
            "Untrained accuracy : (151, 0.7450890817724989)\n",
            "Training 0.19\n",
            "Untrained accuracy : (67, 0.6834170854271356)\n",
            "Training 0.21\n",
            "Untrained accuracy : (97, 0.7268158976701691)\n",
            "Training 0.23\n",
            "Untrained accuracy : (80, 0.7103700319780721)\n",
            "Training 0.25\n",
            "Untrained accuracy : (84, 0.7071722247601645)\n",
            "Training 0.27\n",
            "Untrained accuracy : (95, 0.7181361352215624)\n",
            "Training 0.29\n",
            "Untrained accuracy : (83, 0.7172224760164458)\n",
            "Training 0.31\n",
            "Untrained accuracy : (81, 0.7076290543627227)\n",
            "Training 0.33\n",
            "Untrained accuracy : (93, 0.7181361352215624)\n",
            "Training 0.35\n",
            "Untrained accuracy : (76, 0.7103700319780721)\n",
            "Training 0.37\n",
            "Untrained accuracy : (69, 0.7016902695294656)\n",
            "Training 0.39\n",
            "Untrained accuracy : (68, 0.7003197807217908)\n"
          ]
        }
      ],
      "source": [
        "for labeled_data_size in np.arange(1, 40, 2)/100: #[0.01, 0.05, 0.1, 0.2]:\n",
        "    print(\"Training\", labeled_data_size)\n",
        "    train_subset_ids, train_subset_labels, _ = prepare_dataset(shuffle_doc_train_list, shuffle_doc_train_content_list, labeled_data_size)\n",
        "    _,_,_,evaluation_untrained = train(G_CS, A_hat_CS, selected=train_subset_ids, labels_selected=train_subset_labels, not_selected=test_ids, labels_not_selected=test_labels, num_classes=8, labeled_data_size=labeled_data_size, method = \"CS\")\n",
        "    print(\"Untrained accuracy :\", evaluation_untrained[-1])"
      ]
    },
    {
      "cell_type": "code",
      "execution_count": null,
      "id": "4fa835f6-ddac-47eb-a942-1efac5fe80d4",
      "metadata": {
        "id": "4fa835f6-ddac-47eb-a942-1efac5fe80d4",
        "outputId": "dc85f515-6ea6-45a8-e634-eec4cb4866ca"
      },
      "outputs": [
        {
          "data": {
            "image/png": "[encoded data removed]",
            "text/plain": [
              "<Figure size 432x288 with 1 Axes>"
            ]
          },
          "metadata": {
            "needs_background": "light"
          },
          "output_type": "display_data"
        }
      ],
      "source": [
        "untrained_accuracy_by_labeled_size_CS = []\n",
        "untrained_accuracy_by_labeled_size = []\n",
        "for labeled_data_size in np.arange(1, 40, 2)/100:\n",
        "    untrained_accuracy_CS = load_pickle(filename=f'eval_test_model_{labeled_data_size}_CS.pkl', dir='save')\n",
        "    untrained_accuracy_CS = [acc[1] for acc in untrained_accuracy_CS]\n",
        "    untrained_accuracy_by_labeled_size_CS.append(max(untrained_accuracy_CS))\n",
        "    untrained_accuracy = load_pickle(filename=f'eval_test_model_{labeled_data_size}_PMI.pkl', dir='save')\n",
        "    untrained_accuracy = [acc[1] for acc in untrained_accuracy]\n",
        "    untrained_accuracy_by_labeled_size.append(max(untrained_accuracy))\n",
        "    \n",
        "plt.plot(np.arange(1, 40, 2)/100, untrained_accuracy_by_labeled_size, label = \"PMI\")\n",
        "plt.plot(np.arange(1, 40, 2) /100, untrained_accuracy_by_labeled_size_CS, label = \"CS\")\n",
        "plt.legend()\n",
        "plt.title(\"Test accuracy while varying training data proportion\")\n",
        "plt.xlabel(\"Proportion of labelled data\")\n",
        "plt.ylabel(\"Accuracy\")\n",
        "plt.show();"
      ]
    },
    {
      "cell_type": "markdown",
      "id": "06acb3b3-d51e-4d19-8850-1306a1ac7662",
      "metadata": {
        "id": "06acb3b3-d51e-4d19-8850-1306a1ac7662"
      },
      "source": [
        "## Expériences sur la part de données labélisée et comparaison entre cosine similarity et PI avec un dataset de seulement 10%"
      ]
    },
    {
      "cell_type": "code",
      "execution_count": null,
      "id": "c8700a20-b47e-447e-a191-6a3c9dd2bd74",
      "metadata": {
        "id": "c8700a20-b47e-447e-a191-6a3c9dd2bd74",
        "outputId": "802f5c9a-f40a-4014-f3b1-15b41000a145"
      },
      "outputs": [
        {
          "name": "stdout",
          "output_type": "stream",
          "text": [
            "Training 0.01\n",
            "Untrained accuracy : (51, 0.45089285714285715) (51, 0.6071428571428571)\n",
            "Training 0.03\n",
            "Untrained accuracy : (67, 0.71875) (60, 0.6517857142857143)\n",
            "Training 0.05\n",
            "Untrained accuracy : (53, 0.7410714285714286) (101, 0.7142857142857143)\n",
            "Training 0.07\n",
            "Untrained accuracy : (56, 0.7276785714285714) (64, 0.6651785714285714)\n",
            "Training 0.09\n",
            "Untrained accuracy : (59, 0.7321428571428571) (62, 0.7276785714285714)\n",
            "Training 0.11\n",
            "Untrained accuracy : (67, 0.7410714285714286) (65, 0.7142857142857143)\n",
            "Training 0.13\n",
            "Untrained accuracy : (80, 0.7455357142857143) (61, 0.7008928571428571)\n"
          ]
        }
      ],
      "source": [
        "for labeled_data_size in np.arange(1, 15, 2)/100: #[0.01, 0.05, 0.1, 0.2]:\n",
        "    print(\"Training\", labeled_data_size)\n",
        "    train_subset_ids, train_subset_labels, _ = prepare_dataset(shuffle_doc_train_list, shuffle_doc_train_content_list, labeled_data_size)\n",
        "    _,_,_,evaluation_untrained_CS = train(G_CS, A_hat_CS, selected=train_subset_ids, labels_selected=train_subset_labels, not_selected=test_ids, labels_not_selected=test_labels, num_classes=8, labeled_data_size=labeled_data_size, method = \"CS\")\n",
        "    _,_,_,evaluation_untrained = train(G, A_hat, selected=train_subset_ids, labels_selected=train_subset_labels, not_selected=test_ids, labels_not_selected=test_labels, num_classes=8, labeled_data_size=labeled_data_size, method = \"PMI\")\n",
        "\n",
        "    print(\"Untrained accuracy :\", evaluation_untrained[-1], evaluation_untrained_CS[-1])"
      ]
    },
    {
      "cell_type": "code",
      "execution_count": null,
      "id": "08cc78ad-4c09-4114-802b-391001c0d293",
      "metadata": {
        "id": "08cc78ad-4c09-4114-802b-391001c0d293",
        "outputId": "c4680e5e-c71b-4eb2-f0e2-1927dfc5ee90"
      },
      "outputs": [
        {
          "data": {
            "image/png": "[encoded data removed]",
            "text/plain": [
              "<Figure size 432x288 with 1 Axes>"
            ]
          },
          "metadata": {
            "needs_background": "light"
          },
          "output_type": "display_data"
        }
      ],
      "source": [
        "untrained_accuracy_by_labeled_size_CS = []\n",
        "untrained_accuracy_by_labeled_size = []\n",
        "for labeled_data_size in np.arange(1, 15, 2)/100:\n",
        "    untrained_accuracy_CS = load_pickle(filename=f'eval_test_model_{labeled_data_size}_CS_n1.pkl', dir='save')\n",
        "    untrained_accuracy_CS = [acc[1] for acc in untrained_accuracy_CS]\n",
        "    untrained_accuracy_by_labeled_size_CS.append(max(untrained_accuracy_CS))\n",
        "    untrained_accuracy = load_pickle(filename=f'eval_test_model_{labeled_data_size}_PMI_n1.pkl', dir='save')\n",
        "    untrained_accuracy = [acc[1] for acc in untrained_accuracy]\n",
        "    untrained_accuracy_by_labeled_size.append(max(untrained_accuracy))\n",
        "    \n",
        "plt.plot(np.arange(1, 15, 2)/100 *len(doc_name_list), untrained_accuracy_by_labeled_size, label = \"PMI\")\n",
        "plt.plot(np.arange(1, 15, 2)/100 *len(doc_name_list) , untrained_accuracy_by_labeled_size_CS, label = \"CS\")\n",
        "plt.legend()\n",
        "plt.title(\"Test accuracy while varying training data proportion\")\n",
        "plt.xlabel(\"Number of labelled data\")\n",
        "plt.ylabel(\"Accuracy\")\n",
        "plt.show();"
      ]
    },
    {
      "cell_type": "markdown",
      "id": "aa75a514-8c5f-430a-a015-0edc1b0270ec",
      "metadata": {
        "id": "aa75a514-8c5f-430a-a015-0edc1b0270ec"
      },
      "source": [
        "## Expériences sur la part de données labélisée et comparaison entre cosine similarity et PMI avec un dataset de seulement 1% "
      ]
    },
    {
      "cell_type": "code",
      "execution_count": null,
      "id": "58801447-ff32-448a-8c43-d2d3fc7f773a",
      "metadata": {
        "id": "58801447-ff32-448a-8c43-d2d3fc7f773a",
        "outputId": "f8867bef-495b-4aef-e96b-9da8111c8e87"
      },
      "outputs": [
        {
          "name": "stdout",
          "output_type": "stream",
          "text": [
            "Training 0.1\n",
            "Untrained accuracy : (51, 0.546875) (61, 0.53125)\n",
            "Training 0.2\n",
            "Untrained accuracy : (51, 0.640625) (51, 0.59375)\n",
            "Training 0.3\n",
            "Untrained accuracy : (51, 0.65625) (83, 0.65625)\n",
            "Training 0.4\n",
            "Untrained accuracy : (61, 0.75) (71, 0.703125)\n"
          ]
        }
      ],
      "source": [
        "for labeled_data_size in np.arange(10, 41, 10)/100: #[0.01, 0.05, 0.1, 0.2]:\n",
        "    print(\"Training\", labeled_data_size)\n",
        "    train_subset_ids, train_subset_labels, _ = prepare_dataset(shuffle_doc_train_list, shuffle_doc_train_content_list, labeled_data_size)\n",
        "    _,_,_,evaluation_untrained_CS = train(G_CS, A_hat_CS, selected=train_subset_ids, labels_selected=train_subset_labels, not_selected=test_ids, labels_not_selected=test_labels, num_classes=8, labeled_data_size=labeled_data_size, method = \"CS\")\n",
        "    _,_,_,evaluation_untrained = train(G, A_hat, selected=train_subset_ids, labels_selected=train_subset_labels, not_selected=test_ids, labels_not_selected=test_labels, num_classes=8, labeled_data_size=labeled_data_size, method = \"PMI\")\n",
        "\n",
        "    print(\"Untrained accuracy :\", evaluation_untrained[-1], evaluation_untrained_CS[-1])"
      ]
    },
    {
      "cell_type": "code",
      "execution_count": null,
      "id": "142419d3-0924-476a-b771-2eab32b0c1bb",
      "metadata": {
        "id": "142419d3-0924-476a-b771-2eab32b0c1bb",
        "outputId": "cd1fb55c-c630-4307-f625-0ec9d86ec549"
      },
      "outputs": [
        {
          "data": {
            "image/png": "[encoded data removed]",
            "text/plain": [
              "<Figure size 432x288 with 1 Axes>"
            ]
          },
          "metadata": {
            "needs_background": "light"
          },
          "output_type": "display_data"
        }
      ],
      "source": [
        "untrained_accuracy_by_labeled_size_CS = []\n",
        "untrained_accuracy_by_labeled_size = []\n",
        "for labeled_data_size in np.arange(10, 41, 10)/100:\n",
        "    untrained_accuracy_CS = load_pickle(filename=f'eval_test_model_{labeled_data_size}_CS_n2.pkl', dir='save')\n",
        "    untrained_accuracy_CS = [acc[1] for acc in untrained_accuracy_CS]\n",
        "    untrained_accuracy_by_labeled_size_CS.append(max(untrained_accuracy_CS))\n",
        "    untrained_accuracy = load_pickle(filename=f'eval_test_model_{labeled_data_size}_PMI_n2.pkl', dir='save')\n",
        "    untrained_accuracy = [acc[1] for acc in untrained_accuracy]\n",
        "    untrained_accuracy_by_labeled_size.append(max(untrained_accuracy))\n",
        "    \n",
        "plt.plot(np.arange(10, 41, 10)/100 *len(train_ids) , untrained_accuracy_by_labeled_size, label = \"PMI\")\n",
        "plt.plot(np.arange(10, 41, 10)/100 *len(train_ids), untrained_accuracy_by_labeled_size_CS, label = \"CS\")\n",
        "plt.legend()\n",
        "plt.title(\"Test accuracy while varying training data proportion\")\n",
        "plt.xlabel(\"Number of labelled data\")\n",
        "plt.ylabel(\"Accuracy\")\n",
        "plt.show();"
      ]
    },
    {
      "cell_type": "code",
      "execution_count": null,
      "id": "93590c9c-d012-484c-94ec-cd077416158a",
      "metadata": {
        "id": "93590c9c-d012-484c-94ec-cd077416158a"
      },
      "outputs": [],
      "source": []
    },
    {
      "cell_type": "code",
      "execution_count": null,
      "id": "32f60969-9193-48b6-80c6-19074c5cbff4",
      "metadata": {
        "id": "32f60969-9193-48b6-80c6-19074c5cbff4"
      },
      "outputs": [],
      "source": [
        " "
      ]
    }
  ],
  "metadata": {
    "colab": {
      "collapsed_sections": [],
      "provenance": [],
      "toc_visible": true
    },
    "kernelspec": {
      "display_name": "Python 3 (ipykernel)",
      "language": "python",
      "name": "python3"
    },
    "language_info": {
      "codemirror_mode": {
        "name": "ipython",
        "version": 3
      },
      "file_extension": ".py",
      "mimetype": "text/x-python",
      "name": "python",
      "nbconvert_exporter": "python",
      "pygments_lexer": "ipython3",
      "version": "3.8.10"
    }
  },
  "nbformat": 4,
  "nbformat_minor": 5
}