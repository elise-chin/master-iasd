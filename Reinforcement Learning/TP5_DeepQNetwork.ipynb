{
  "nbformat": 4,
  "nbformat_minor": 0,
  "metadata": {
    "colab": {
      "name": "05_DeepQNetwork.ipynb",
      "provenance": [],
      "collapsed_sections": [
        "_PCfdEYVuyAp",
        "nr8rvnPyu5ng"
      ]
    },
    "kernelspec": {
      "name": "python3",
      "display_name": "Python 3"
    },
    "language_info": {
      "name": "python"
    },
    "accelerator": "GPU"
  },
  "cells": [
    {
      "cell_type": "markdown",
      "source": [
        "# Deep Q-learning\n",
        "\n",
        "*Elise Chin - Version 1, December 2021*\n",
        "\n",
        "\n",
        "1. [Introduction Deep Q-learning](#sec1)\n",
        "2. [Présentation de l'environnement CartPole](#sec2)\n",
        "3. [Implémentation](#sec3)\n",
        "    - [Replay Memory](#sec3-1)\n",
        "    - [Deep Q Network](#sec3-2)\n",
        "    - [`optimize` function](#sec3-3)\n",
        "    - [`evaluate_policy` function](#sec3-4)\n",
        "    - [Entraînement](#sec3-5)\n"
      ],
      "metadata": {
        "id": "iF58jp_eupBa"
      }
    },
    {
      "cell_type": "markdown",
      "source": [
        "## <a name=\"sec1\">1. Introduction</a>\n"
      ],
      "metadata": {
        "id": "_PCfdEYVuyAp"
      }
    },
    {
      "cell_type": "markdown",
      "metadata": {
        "id": "y5MMkukZcXpZ"
      },
      "source": [
        "\n",
        "La méthode deep Q-learning a été introduite par Deepmind en 2013 (*Volodymyr Mnih et al. “Playing Atari with Deep Reinforcement Learning”*), puis améliorée en 2015 (*Volodymyr Mnih et al. “Human-level control through deep reinforcement learning”*). C'est une amélioration de l'algorithme Q-learning avec des réseaux de neurones utilisés comme une fonction d'approximation de la fonction de valeur optimale état-action.\n",
        "\n",
        "__Q-learning__\n",
        "\n",
        "Q-learning est un algorithme permettant de trouver une estimation $Q$ de la fonction de valeur optimale état-action $q_*$ à partir de l'expérience. La fonction $q$ d'une politique $\\pi$, $q_{\\pi}(s,a)$, correspond à l'espérence des récompenses obtenues en appliquant l'action $a$ sur l'état $s$, puis en suivant la politique $\\pi$ ensuite. Autrement dit, elle nous indique à quel point il est bon de prendre cette action spécifique à cet état particulier. La fonction $q$ optimale est alors définie comme l'espérance maximale qui peut être obtenue à partir de l'observation $s$, en prenant l'action $a$, puis en suivant la politique optimale $\\pi$. Elle obéit à l'équation d'optimalité de Bellman :\n",
        "$$\n",
        "q_∗(s,a) = \\mathbb{E}[R_{t+1} + \\gamma \\underset{a'}{max}\n",
        "q_*(S_{t+1},a')| S_t = s, A_t = a]\n",
        "$$\n",
        "\n",
        "où $R_{t+1}$ est la récompense immédiate, $S_{t+1}$ le prochain état après avoir effectué l'action $a$ depuis l'état $s$ au temps $t$.\n",
        "La mise à jour Q-learning est basée sur l'équation d'optimalité de Bellman et est définie comme suit :\n",
        "$$\n",
        "Q(S_t, A_t) \\leftarrow Q(S_t, A_t) + \\alpha(R_{t+1} + \\gamma \\underset{a}{max} Q(S_{t+1}, a) - Q(S_t, A_t))\n",
        "$$\n",
        "et on peut montrer que cela converge vers la fonction action-valeur optimale $q_*(s,a)$ lorsque $N(s,a) \\rightarrow ∞$ si la taille de pas $\\alpha$ diminue vers 0 avec un taux approprié.\n",
        "\n",
        "__Deep Q-learning__\n",
        "\n",
        "Dans Q-learning, une table `Q[s,a]` est construite pour stocker toutes les valeurs $q$ pour toutes les combinaisons possibles d'états et d'actions. Cependant, si l'espace d'état ou d'action est trop grand, la mémoire et les besoins en calcul pour Q-learning seront très élevés. Pour résoudre ce problème, il est possible d'entraîner une fonction d'approximation, par exemple un réseau de neurones avec des paramètres $w$, pour estimer les valeurs de $q$, c'est-à-dire $Q(s, a, w) ≈ q_∗(s, a)$. Ceci peut être\n",
        "réalisée en minimisant l'erreur quadratique moyenne à chaque pas de temps $t$ :\n",
        "$$\n",
        "L(w_t) = \\mathbb{E}[(U_t - Q(S_t, A_t, w_t))^2]\n",
        "$$\n",
        "où $U_t = R_{t+1} + \\gamma \\underset{a}{max} Q(S_{t+1}, a, w_t)$ est la cible TD (en anglais *TD-target*).\n",
        "\n",
        "La fonction de perte peut être minimisée en utilisant l'algorithme de descente de (semi-)gradient stochastique :\n",
        "$$\n",
        "w_{t+1} = w_t + \\alpha[U_t - Q(S_t, A_t, w_t)] \\nabla Q(S_t, A_t, w_t)\n",
        "$$\n",
        "Cependant, l'apprentissage sera instable si nous appliquons naïvement la mise à jour standard de Q-learning. Comme nous pouvons le voir dans la formule, il existe une certaine corrélation entre les mises à jour successives, et l'estimation Q et la cible ne sont pas complètement indépendantes l'une de l'autre.\n",
        "\n",
        "\n",
        "Pour résoudre ce problème, deux idées ont été introduites dans l'article de Deepmind.\n",
        "1. __Experience replay__  : stocker l'expérience de l'agent à chaque pas de temps $t$, $e_t = (S_t, A_t, R_t, S_{t+1})$, dans un *replay buffer* et échantillonner des *mini-batches* de celui-ci pour entraîner le réseau, au lieu d'utiliser uniquement la dernière transition pour calculer le coût et le gradient.  Cela présente deux avantages : une meilleure stabilité puisque les transitions d'un batch ne sont pas corrélées, et une meilleure efficacité des données puisqu'une expérience peut être utilisée dans de nombreuses mises à jour de poids.\n",
        "2. __Target Network__ : utiliser un réseau séparé pour estimer $U_t$. Le *target network* a la même architecture que le réseau de neurones approximant $q_*$ mais avec des poids gelés pour un certain nombre d'étapes. Plus précisément, tous les $C$ pas (un hyperparamètre), les paramètres du réseau Q sont copiés dans le réseau cible et ce dernier est utilisé pour calculer $U_t$ pour $C$ pas de temps. Cela permet une plus grande stabilité dans l'entraînement puisque la fonction cible est fixée pendant un certain temps.\n"
      ]
    },
    {
      "cell_type": "markdown",
      "source": [
        "Dans la suite, nous allons implémenter deep Q-learning sur l'environnement CartPole.\n",
        "\n"
      ],
      "metadata": {
        "id": "8cTJDI_PtiR0"
      }
    },
    {
      "cell_type": "markdown",
      "source": [
        "## <a name=\"sec2\">2. Présentation de l'environnement CartPole-v0</a>\n"
      ],
      "metadata": {
        "id": "nr8rvnPyu5ng"
      }
    },
    {
      "cell_type": "markdown",
      "source": [
        "\n",
        "Un poteau est attaché à un chariot, qui peut se déplacer sur une piste sans frottement. Le poteau commence à la verticale et l'objectif est de l'empêcher de tomber en contrôlant le chariot.\n",
        "- L'observation de l'environnement est un vecteur 4D représentant la position et la vitesse du chariot, ainsi que l'angle et la vitesse angulaire du poteau.\n",
        "- L'agent peut contrôler le système en effectuant l'une des deux actions suivantes : pousser le chariot à droite ou à gauche.\n",
        "- Une récompense de 1 est fournie pour chaque pas de temps où le poteau reste droit.\n",
        "- L'épisode se termine lorsque l'une des situations suivantes est vraie :\n",
        "    - le poteau bascule au-delà d'un certain angle limite\n",
        "    - le chariot sort des limites du monde\n",
        "    - 200 pas de temps s'écoulent\n",
        "\n",
        "L'objectif de l'agent est de trouver une politique permettant de maximiser $G = \\sum_{t=0}^{T} \\gamma^t R_{t+1}$ de chaque épisode, où $\\gamma \\in (0, 1]$ est le taux d'escompte. Si l'agent a été bien entraîné, un épisode devrait se terminer en satisfaisant la troisième condition. Ainsi, l'agent final devrait avoir un rendement moyen de +200.0 sur plusieurs épisodes, ce qui correspond à recevoir une récompense de 1 pour 200 pas de temps."
      ],
      "metadata": {
        "id": "kkt7BOn0n6KN"
      }
    },
    {
      "cell_type": "markdown",
      "source": [
        "## <a name=\"sec3\">3. Implémentation</a>"
      ],
      "metadata": {
        "id": "NfL7p7FIoFsw"
      }
    },
    {
      "cell_type": "code",
      "source": [
        "from google.colab import drive\n",
        "drive.mount('/content/drive', force_remount=True)"
      ],
      "metadata": {
        "colab": {
          "base_uri": "https://localhost:8080/"
        },
        "id": "bMh4slYdNiG6",
        "outputId": "8db474b0-bcf1-41b1-fc29-db4a93f3e78c"
      },
      "execution_count": 1,
      "outputs": [
        {
          "output_type": "stream",
          "name": "stdout",
          "text": [
            "Mounted at /content/drive\n"
          ]
        }
      ]
    },
    {
      "cell_type": "code",
      "source": [
        "import sys\n",
        "import os\n",
        "\n",
        "path = \"/content/drive/My Drive/Dauphine/M2/S1/Reinforcement_Learning\"\n",
        "sys.path.append(path)\n",
        "os.environ['DRIVE_PATH'] = path.replace(' ', ' ')\n",
        "print(os.environ['DRIVE_PATH'])"
      ],
      "metadata": {
        "colab": {
          "base_uri": "https://localhost:8080/"
        },
        "id": "ov6MG2NJNogv",
        "outputId": "f8958816-5006-4107-9947-846eb9e442b3"
      },
      "execution_count": 2,
      "outputs": [
        {
          "output_type": "stream",
          "name": "stdout",
          "text": [
            "/content/drive/My Drive/Dauphine/M2/S1/Reinforcement_Learning\n"
          ]
        }
      ]
    },
    {
      "cell_type": "code",
      "metadata": {
        "id": "FtSX_lptcaBN"
      },
      "source": [
        "import gym\n",
        "\n",
        "import torch \n",
        "import torch.nn as nn\n",
        "import torch.nn.functional as F\n",
        "\n",
        "import numpy as np\n",
        "import matplotlib.pyplot as plt"
      ],
      "execution_count": 3,
      "outputs": []
    },
    {
      "cell_type": "code",
      "source": [
        "device = torch.device('cuda' if torch.cuda.is_available() else 'cpu')"
      ],
      "metadata": {
        "id": "FUXq2V92Iww2"
      },
      "execution_count": 4,
      "outputs": []
    },
    {
      "cell_type": "code",
      "metadata": {
        "id": "OJY3VFbccZso"
      },
      "source": [
        "\"\"\"\n",
        "memory_size: Maximum size of the replay memory.\n",
        "n_episodes: Number of episodes to train for.\n",
        "batch_size: Batch size used for training DQN.\n",
        "target_update_frequency: How often to update the target network.\n",
        "train_frequency: How often to train the DQN.\n",
        "gamma: Discount factor.\n",
        "lr: Learning rate used for optimizer.\n",
        "eps_start: Starting value for epsilon (linear annealing).\n",
        "eps_end: Final value for epsilon (linear annealing).\n",
        "anneal_length: How many steps to anneal epsilon for.\n",
        "n_actions: The number of actions can easily be accessed with env.action_space.n.\n",
        "\"\"\"\n",
        "\n",
        "# Hyperparameters for CartPole-v0\n",
        "env_config = {\n",
        "    'memory_size': 50000,\n",
        "    'n_episodes': 1000,\n",
        "    'batch_size': 32,\n",
        "    'target_update_frequency': 100,\n",
        "    'train_frequency': 1,\n",
        "    'gamma': 0.95,\n",
        "    'lr': 1e-4,\n",
        "    'eps_start': 1.0,\n",
        "    'eps_end': 0.05,\n",
        "    'anneal_length': 10**4,\n",
        "    'n_actions': 2,\n",
        "}"
      ],
      "execution_count": 5,
      "outputs": []
    },
    {
      "cell_type": "code",
      "source": [
        "def preprocess(obs):\n",
        "    \"\"\"Performs necessary observation preprocessing.\"\"\"\n",
        "    return torch.tensor(obs, device=device).float()\n",
        "\n",
        "def plot_result(x, y, xlabel, ylabel, title):\n",
        "\tplt.plot(x, y)\n",
        "\tplt.title(title)\n",
        "\tplt.xlabel(xlabel)\n",
        "\tplt.ylabel(ylabel)\n",
        "\tplt.show()"
      ],
      "metadata": {
        "id": "DPJ4ne6RY39l"
      },
      "execution_count": 6,
      "outputs": []
    },
    {
      "cell_type": "markdown",
      "source": [
        "### <a name=\"sec3-1\">Replay Memory</a>"
      ],
      "metadata": {
        "id": "98HBo7BwvkEL"
      }
    },
    {
      "cell_type": "code",
      "source": [
        "class ReplayMemory():\n",
        "\n",
        "    def __init__(self, capacity):\n",
        "        self.capacity = capacity # Maximum size of the replay memory\n",
        "        self.memory = [] # Sore the agent’s experience at each time step t, e_t = (S_t, A_t, R_t, S_t+1)\n",
        "        self.position = 0 # Position at which to save the next agent's experience\n",
        "\n",
        "    def __len__(self):\n",
        "        return len(self.memory)\n",
        "\n",
        "    def push(self, obs, action, next_obs, reward):\n",
        "        if len(self.memory) < self.capacity:\n",
        "            self.memory.append(None)\n",
        "\n",
        "        self.memory[self.position] = (obs, action, next_obs, reward) # Add experience to the replay buffer\n",
        "        self.position = (self.position + 1) % self.capacity # Position for the next experience to save\n",
        "\n",
        "    def sample(self, batch_size):\n",
        "        \"\"\"\n",
        "        Samples batch_size transitions from the replay memory and returns a tuple\n",
        "            (obs, action, next_obs, reward)\n",
        "        \"\"\"\n",
        "        sample = random.sample(self.memory, batch_size)\n",
        "        return tuple(zip(*sample)) # ((obs1, obs2), (action1, action2), ...)\n"
      ],
      "metadata": {
        "id": "kYY6UJ-pI2xA"
      },
      "execution_count": 7,
      "outputs": []
    },
    {
      "cell_type": "markdown",
      "source": [
        "### <a name=\"sec3-2\">Deep Q Network</a>"
      ],
      "metadata": {
        "id": "K1HC2jhdvr_U"
      }
    },
    {
      "cell_type": "code",
      "source": [
        "class DQN(nn.Module):\n",
        "    def __init__(self, env_config):\n",
        "        super(DQN, self).__init__()\n",
        "\n",
        "        # Hyperparameters\n",
        "        self.batch_size = env_config[\"batch_size\"]\n",
        "        self.gamma = env_config[\"gamma\"]\n",
        "        self.eps_start = env_config[\"eps_start\"]\n",
        "        self.eps_end = env_config[\"eps_end\"]\n",
        "        self.anneal_length = env_config[\"anneal_length\"]\n",
        "        self.n_actions = env_config[\"n_actions\"]\n",
        "\n",
        "        # Network's layers\n",
        "        self.fc1 = nn.Linear(4, 256)\n",
        "        self.fc2 = nn.Linear(256, self.n_actions)\n",
        "\n",
        "        self.relu = nn.ReLU()\n",
        "        self.flatten = nn.Flatten()\n",
        "\n",
        "    def forward(self, x):\n",
        "        x = self.relu(self.fc1(x))\n",
        "        x = self.fc2(x)\n",
        "\n",
        "        return x\n",
        "\n",
        "    def act(self, observation, epsilon, exploit=False):\n",
        "        \"\"\"Selects an action with an epsilon-greedy exploration strategy.\n",
        "\n",
        "        Args:\n",
        "            observation (tensor): observation tensor of shape [batch_size, state_dimension] (e.g. [32, 4])\n",
        "            epsilon (int)\n",
        "            exploit (bool): if True, acts greedily\n",
        "\n",
        "        Returns:\n",
        "            actions (tensor): tensor of actions according to the epsilon-greedy strategy, of shape [batch_size]\n",
        "        \"\"\"\n",
        "\t\t\n",
        "        batch_size = observation.shape[0]\n",
        "        rand_value = random.random()\n",
        "\n",
        "        if exploit or rand_value > epsilon:\n",
        "            # Choose the action which gives the largest Q-values for each observation\n",
        "            with torch.no_grad():\n",
        "                output = self.forward(observation)\n",
        "                actions = torch.argmax(output, dim=-1)\n",
        "        else:\n",
        "            # Choose a random action for each observation\n",
        "            if len(observation.shape) == 1:\n",
        "                actions = np.random.choice(2)\n",
        "            else:\n",
        "                actions = np.random.choice(2, batch_size)\n",
        "\n",
        "        return torch.tensor(actions)"
      ],
      "metadata": {
        "id": "yyDGKdeRLZpX"
      },
      "execution_count": 8,
      "outputs": []
    },
    {
      "cell_type": "markdown",
      "source": [
        "### <a name=\"sec3-3\">`optimize` function</a>"
      ],
      "metadata": {
        "id": "VjXJVetIvxg7"
      }
    },
    {
      "cell_type": "code",
      "source": [
        "def optimize(dqn, target_dqn, memory, optimizer):\n",
        "    \"\"\"This function samples a batch from the replay buffer and optimizes the Q-network.\"\"\"\n",
        "\n",
        "    # If we don't have enough transitions stored yet, we don't train.\n",
        "    if len(memory) < dqn.batch_size:\n",
        "        return 0\n",
        "\n",
        "    # Sample a batch from the replay memory and concatenate so that there are\n",
        "    # four tensors in total: observations, actions, next observations and rewards.\n",
        "    observations, actions, next_observations, rewards = memory.sample(dqn.batch_size)\n",
        "\n",
        "    \n",
        "    # Transform every tuple into tensors.\t\n",
        "    observations = torch.stack(observations, dim=0)\n",
        "\n",
        "    non_terminal_next_observations = [next_obs for next_obs in next_observations if next_obs is not None]\n",
        "    non_terminal_next_observations = torch.stack(non_terminal_next_observations, dim=0)\n",
        "\n",
        "    actions = torch.stack(actions, dim=0)\n",
        "    actions = torch.unsqueeze(actions, 1)\n",
        "\n",
        "    rewards = torch.stack(rewards, dim=0)\n",
        "    rewards = torch.unsqueeze(rewards, 1)\n",
        "\n",
        "    # Compute the current estimates of the Q-values for each state-action pair (s,a). \n",
        "    output = dqn.forward(observations)\n",
        "    output = output.to(device)\n",
        "    q_values = torch.gather(input=output, index=actions, dim=1)\n",
        "\n",
        "    # Compute the Q-value targets.\n",
        "    non_terminal_mask = torch.BoolTensor(list(map(lambda obs: obs is not None, next_observations))) # indices for non terminal transitions\n",
        "    terminal_mask = ~non_terminal_mask # indices for terminal transitions\n",
        "    target_dqn_qpred = target_dqn.forward(non_terminal_next_observations) \n",
        "    target_dqn_qpred_max = torch.max(target_dqn_qpred, axis=1)[0].unsqueeze(1)\n",
        "\n",
        "    q_values_target = torch.zeros(dqn.batch_size, 1)\n",
        "    q_values_target = q_values_target.to(device)\n",
        "    q_values_target[non_terminal_mask] = rewards[non_terminal_mask] + dqn.gamma * target_dqn_qpred_max\n",
        "    q_values_target[terminal_mask] = rewards[terminal_mask]\n",
        "\n",
        "    # Compute loss.\n",
        "    loss = F.mse_loss(q_values, q_values_target)\n",
        "\n",
        "    # Perform gradient descent.\n",
        "    optimizer.zero_grad()\n",
        "\n",
        "    loss.backward()\n",
        "    optimizer.step()\n",
        "\n",
        "    return loss.item()"
      ],
      "metadata": {
        "id": "DnUVnO9bXukx"
      },
      "execution_count": 9,
      "outputs": []
    },
    {
      "cell_type": "markdown",
      "source": [
        "### <a name=\"sec3-4\">`evaluate_policy` function</a>"
      ],
      "metadata": {
        "id": "5onGAvdPv7da"
      }
    },
    {
      "cell_type": "code",
      "source": [
        "def evaluate_policy(dqn, env, env_config, eps_start, n_episodes, discounted=False, verbose=False):\n",
        "\t\"\"\"Runs {n_episodes} episodes to evaluate current policy.\"\"\"\n",
        "\n",
        "\ttotal_return = 0\n",
        "\n",
        "\tfor i in range(n_episodes):\n",
        "\t\tobs = preprocess(env.reset())\n",
        "\n",
        "\t\tdone = False\n",
        "\t\trewards_list = []\n",
        "\n",
        "\t\twhile not done:\n",
        "\t\t\t\n",
        "\t\t\taction = dqn.act(obs, eps_start, exploit=True).item()\n",
        "\t\t\tobs, reward, done, info = env.step(action)\n",
        "\t\t\tobs = preprocess(obs)\n",
        "\t\t\t\n",
        "\t\t\trewards_list.append(reward)\n",
        "\n",
        "\t\tif discounted:\n",
        "\t\t\tepisode_return = sum([env_config['gamma']**t * rewards_list[t] for t in range(len(rewards_list))])\n",
        "\t\telse:\n",
        "\t\t\tepisode_return = sum(rewards_list)\n",
        "   \n",
        "\t\ttotal_return += episode_return\n",
        "\t\t\n",
        "\t\tif verbose:\n",
        "\t\t\tprint(f'Finished episode {i+1} with a total return of {episode_return}')\n",
        "\n",
        "\treturn total_return / n_episodes"
      ],
      "metadata": {
        "id": "1QdmGphhYtKF"
      },
      "execution_count": 10,
      "outputs": []
    },
    {
      "cell_type": "markdown",
      "source": [
        "### <a name=\"sec3-5\">Entraînement</a>"
      ],
      "metadata": {
        "id": "2hE04iICXrMN"
      }
    },
    {
      "cell_type": "code",
      "source": [
        "# Initialize environment and config.\n",
        "env = gym.make('CartPole-v0')\n",
        "\n",
        "params = f\"lr_{env_config['lr']}_gamma_{env_config['gamma']}_tg_{env_config['target_update_frequency']}_ann_{env_config['anneal_length']}\"\n",
        "\n",
        "print(\"Initialize model...\")\n",
        "\n",
        "# Initialize deep Q-networks.\n",
        "dqn = DQN(env_config=env_config).to(device)\n",
        "\n",
        "# Create and initialize target Q-network.\n",
        "target_dqn = DQN(env_config=env_config).to(device)\n",
        "\n",
        "# Initialize lists to keep track of episodes' loss, return, number of steps, and epsilon values throughout the training.\n",
        "loss_list, return_list, eval_return_list, step_list, epsilon_list = [], [], [], [], []\n",
        "\n",
        "# Keep track of best evaluation mean return achieved so far.\n",
        "best_mean_return = -float(\"Inf\")\n",
        "\n",
        "# Create replay memory.\n",
        "memory = ReplayMemory(env_config['memory_size'])\n",
        "\n",
        "# Initialize optimizer used for training the DQN. We use Adam rather than RMSProp.\n",
        "optimizer = torch.optim.Adam(dqn.parameters(), lr=env_config['lr'])\n",
        "\n",
        "# Compute the value for epsilon linear annealing.\n",
        "eps = dqn.eps_start\n",
        "eps_end = dqn.eps_end\n",
        "anneal_length = dqn.anneal_length\n",
        "eps_step = (eps - eps_end) / anneal_length\n",
        "\n",
        "# Keep track of the total number of steps.\n",
        "total_steps = 0\n",
        "\n",
        "for episode in range(env_config['n_episodes']):\n",
        "    done = False\n",
        "\n",
        "    episode_loss = 0\n",
        "    episode_rewards = []\n",
        "    episode_steps = 0\n",
        "\n",
        "    obs = preprocess(env.reset()).to(device)\n",
        "\n",
        "    while not done:\n",
        "        total_steps += 1\n",
        "        episode_steps += 1\n",
        "\n",
        "        # Get action from DQN.\n",
        "        action = dqn.act(obs, eps).item()\n",
        "\n",
        "        # Act in the true environment.\n",
        "        next_obs, reward, done, info = env.step(action)\n",
        "        episode_rewards.append(reward)\n",
        "\n",
        "        # Preprocess incoming observation.\n",
        "        if not done:\n",
        "            # Preprocess the non-terminal state.\n",
        "            next_obs = preprocess(next_obs).to(device)\n",
        "        else:\n",
        "            # Set to None the terminal state.\n",
        "            next_obs = None\n",
        "\n",
        "        # Add the transition to the replay memory. Everything has been move to GPU if available.\n",
        "        action = torch.as_tensor(action).to(device)\n",
        "        reward = torch.as_tensor(reward).to(device)\n",
        "        memory.push(obs, action, next_obs, reward)\n",
        "\n",
        "        # Run DQN.optimize() every env_config[\"train_frequency\"] steps.\n",
        "        if total_steps % env_config[\"train_frequency\"] == 0:\n",
        "            loss = optimize(dqn, target_dqn, memory, optimizer)\n",
        "            episode_loss += loss\n",
        "\n",
        "        # Update the target network every env_config[\"target_update_frequency\"] steps.\n",
        "        if total_steps % env_config[\"target_update_frequency\"] == 0:\n",
        "            target_dqn.load_state_dict(dqn.state_dict())\n",
        "\n",
        "        # Update the current observation.\n",
        "        obs = next_obs\n",
        "\n",
        "        # Update epsilon after each step.\n",
        "        epsilon_list.append(eps)\n",
        "        if eps > eps_end:\n",
        "            eps -= eps_step\n",
        "\n",
        "    # Compute the episode return.\n",
        "    episode_undiscounted_return = sum(episode_rewards)\n",
        "\n",
        "    # Add results to lists.\n",
        "    loss_list.append(episode_loss/episode_steps)\n",
        "    return_list.append(episode_undiscounted_return)\n",
        "    step_list.append(episode_steps)\n",
        "    \n",
        "    # Evaluate the current agent.\n",
        "    if episode % 25 == 0:\n",
        "        mean_return = evaluate_policy(dqn, env, env_config, eps_start=eps, n_episodes=10)\n",
        "        eval_return_list.append(mean_return)\n",
        "\n",
        "        print(f'Episode {episode}/{env_config[\"n_episodes\"]}: {mean_return}')\n",
        "\n",
        "        # Save current agent if it has the best performance so far.\n",
        "        if mean_return >= best_mean_return:\n",
        "            best_mean_return = mean_return\n",
        "\n",
        "            print('Best performance so far! Saving model.')\n",
        "            torch.save(dqn, f'{path}/models/CartPole_best_{best_mean_return}_{params}.pt')\n",
        "            torch.save(target_dqn, f'{path}/models/CartPole_target_{best_mean_return}_{params}.pt')\n",
        "        \n",
        "# Close environment after training is completed.\n",
        "env.close()"
      ],
      "metadata": {
        "colab": {
          "base_uri": "https://localhost:8080/"
        },
        "id": "ZePHe6yLL4_7",
        "outputId": "94ab4992-643c-4aa1-ba0b-5ab61158a41c"
      },
      "execution_count": 12,
      "outputs": [
        {
          "output_type": "stream",
          "name": "stdout",
          "text": [
            "Initialize model...\n",
            "Episode 0/1000: 9.6\n",
            "Best performance so far! Saving model.\n"
          ]
        },
        {
          "output_type": "stream",
          "name": "stderr",
          "text": [
            "/usr/local/lib/python3.7/dist-packages/ipykernel_launcher.py:54: UserWarning: To copy construct from a tensor, it is recommended to use sourceTensor.clone().detach() or sourceTensor.clone().detach().requires_grad_(True), rather than torch.tensor(sourceTensor).\n"
          ]
        },
        {
          "output_type": "stream",
          "name": "stdout",
          "text": [
            "Episode 25/1000: 9.4\n",
            "Episode 50/1000: 9.2\n",
            "Episode 75/1000: 9.4\n",
            "Episode 100/1000: 9.1\n",
            "Episode 125/1000: 9.2\n",
            "Episode 150/1000: 8.8\n",
            "Episode 175/1000: 22.8\n",
            "Best performance so far! Saving model.\n",
            "Episode 200/1000: 27.6\n",
            "Best performance so far! Saving model.\n",
            "Episode 225/1000: 43.4\n",
            "Best performance so far! Saving model.\n",
            "Episode 250/1000: 62.1\n",
            "Best performance so far! Saving model.\n",
            "Episode 275/1000: 51.0\n",
            "Episode 300/1000: 107.4\n",
            "Best performance so far! Saving model.\n",
            "Episode 325/1000: 152.3\n",
            "Best performance so far! Saving model.\n",
            "Episode 350/1000: 142.5\n",
            "Episode 375/1000: 134.0\n",
            "Episode 400/1000: 145.8\n",
            "Episode 425/1000: 151.3\n",
            "Episode 450/1000: 169.7\n",
            "Best performance so far! Saving model.\n",
            "Episode 475/1000: 175.9\n",
            "Best performance so far! Saving model.\n",
            "Episode 500/1000: 193.4\n",
            "Best performance so far! Saving model.\n",
            "Episode 525/1000: 190.2\n",
            "Episode 550/1000: 196.8\n",
            "Best performance so far! Saving model.\n",
            "Episode 575/1000: 199.5\n",
            "Best performance so far! Saving model.\n",
            "Episode 600/1000: 200.0\n",
            "Best performance so far! Saving model.\n",
            "Episode 625/1000: 200.0\n",
            "Best performance so far! Saving model.\n",
            "Episode 650/1000: 199.5\n",
            "Episode 675/1000: 200.0\n",
            "Best performance so far! Saving model.\n",
            "Episode 700/1000: 200.0\n",
            "Best performance so far! Saving model.\n",
            "Episode 725/1000: 200.0\n",
            "Best performance so far! Saving model.\n",
            "Episode 750/1000: 200.0\n",
            "Best performance so far! Saving model.\n",
            "Episode 775/1000: 200.0\n",
            "Best performance so far! Saving model.\n",
            "Episode 800/1000: 200.0\n",
            "Best performance so far! Saving model.\n",
            "Episode 825/1000: 200.0\n",
            "Best performance so far! Saving model.\n",
            "Episode 850/1000: 200.0\n",
            "Best performance so far! Saving model.\n",
            "Episode 875/1000: 200.0\n",
            "Best performance so far! Saving model.\n",
            "Episode 900/1000: 200.0\n",
            "Best performance so far! Saving model.\n",
            "Episode 925/1000: 200.0\n",
            "Best performance so far! Saving model.\n",
            "Episode 950/1000: 200.0\n",
            "Best performance so far! Saving model.\n",
            "Episode 975/1000: 200.0\n",
            "Best performance so far! Saving model.\n"
          ]
        }
      ]
    },
    {
      "cell_type": "code",
      "source": [
        "# Plot.\n",
        "x_axis = range(len(return_list))\n",
        "plot_result(x_axis, return_list, \"Episodes\", \"Return\", title=\"Return vs. Number of episodes\")\n",
        "plot_result(range(len(eval_return_list)), eval_return_list, \"Episodes\", \"Return\", title=\"Evaluation return every 25 episodes\")\n",
        "plot_result(x_axis, loss_list, \"Episodes\", \"Loss\", title=\"Loss vs. Number of episodes\")\n",
        "plot_result(x_axis, step_list, \"Episodes\", \"Number of steps\", title=\"Number of steps per episode\")\n",
        "plot_result(range(len(epsilon_list)), epsilon_list, \"Steps\", \"Epsilon\", title=\"Epsilon values at each step of the training\")"
      ],
      "metadata": {
        "colab": {
          "base_uri": "https://localhost:8080/",
          "height": 1000
        },
        "id": "fOBD7CAJTz6Y",
        "outputId": "fe415929-091c-46da-ec75-d6afd56f0caf"
      },
      "execution_count": 13,
      "outputs": [
        {
          "output_type": "display_data",
          "data": {
            "image/png": "[encoded data removed]",
            "text/plain": [
              "<Figure size 432x288 with 1 Axes>"
            ]
          },
          "metadata": {
            "needs_background": "light"
          }
        },
        {
          "output_type": "display_data",
          "data": {
            "image/png": "[encoded data removed]",
            "text/plain": [
              "<Figure size 432x288 with 1 Axes>"
            ]
          },
          "metadata": {
            "needs_background": "light"
          }
        },
        {
          "output_type": "display_data",
          "data": {
            "image/png": "[encoded data removed]",
            "text/plain": [
              "<Figure size 432x288 with 1 Axes>"
            ]
          },
          "metadata": {
            "needs_background": "light"
          }
        },
        {
          "output_type": "display_data",
          "data": {
            "image/png": "[encoded data removed]",
            "text/plain": [
              "<Figure size 432x288 with 1 Axes>"
            ]
          },
          "metadata": {
            "needs_background": "light"
          }
        },
        {
          "output_type": "display_data",
          "data": {
            "image/png": "[encoded data removed]",
            "text/plain": [
              "<Figure size 432x288 with 1 Axes>"
            ]
          },
          "metadata": {
            "needs_background": "light"
          }
        }
      ]
    },
    {
      "cell_type": "markdown",
      "source": [
        "Below, we plot episode loss and undiscounted return over the course of training. After increasing a bit,\n",
        "the loss slowly starts to decrease after 200 episodes, suggesting that the network is learning. The loss\n",
        "seems to continue to decrease if we ran for a greater number of episodes but it was not necessary to do\n",
        "so as we can see on the return plot that the agent has already reached a mean return of 200 after 400\n",
        "episodes."
      ],
      "metadata": {
        "id": "93dCg7iloT2S"
      }
    }
  ]
}