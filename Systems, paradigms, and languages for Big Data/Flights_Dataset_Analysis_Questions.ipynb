{
  "nbformat": 4,
  "nbformat_minor": 0,
  "metadata": {
    "colab": {
      "name": "FINAL_Flights_Dataset_Analysis_Questions.ipynb",
      "provenance": [],
      "collapsed_sections": [
        "S86qgwrTwwXe"
      ],
      "toc_visible": true
    },
    "kernelspec": {
      "name": "python3",
      "display_name": "Python 3"
    },
    "language_info": {
      "name": "python"
    }
  },
  "cells": [
    {
      "cell_type": "markdown",
      "source": [
        "# Systèmes, paradigmes et langages pour les Big Data - Project\n",
        "\n",
        "*Authors: Elise Chin, Théo Quémener*\n",
        "\n",
        "*Date: Sunday, March 6th*\n",
        "\n",
        "__Flights Dataset Analysis.__\n",
        "In this session, we will conduct a few analyses on a simplified flight fares dataset.  \n",
        "In particular we will try to build cheapest routes from one point to another."
      ],
      "metadata": {
        "id": "HJ3XJCHQQ6hd"
      }
    },
    {
      "cell_type": "markdown",
      "source": [
        "## Grading and Instructions\n",
        "You must return your notebook before **Sunday March 6th 23:59 Paris time** by email to David : d.diebold@criteo.com.  \n",
        "Grade will be composed of :\n",
        "1. Timely return\n",
        "2. Correctness (some questions may still leave you with some liberties)\n",
        "3. Report formatting : While we allow you to return your project in a notebook format, you should think your report as being a classic text and image pdf report in which the code is in appendix. That means your notebook should be fully readable while hiding all the code cells.\n",
        "4. Code Readability (factorized code, well-named variables, explain what you do when code becomes complicated, etc...)\n",
        "5. Performance (this is not a race but we want you to think about performance issues when designing your solution (shuffles, etc...). Don't hesitate to annotate your notebook with any remarks about your solution.\n"
      ],
      "metadata": {
        "id": "jBzndH833opa"
      }
    },
    {
      "cell_type": "markdown",
      "source": [
        "## Install Spark Environment\n",
        "Since we are not running on databricks, we will need to install Spark by ourselves, every time we run the session.  \n",
        "We need to install Spark, as well as a Java Runtime Environment.  \n",
        "Then we need to setup a few environment variables.  \n"
      ],
      "metadata": {
        "id": "W7mpca-zaxh7"
      }
    },
    {
      "cell_type": "code",
      "execution_count": 1,
      "metadata": {
        "id": "evGT05CJ9Bcw",
        "colab": {
          "base_uri": "https://localhost:8080/"
        },
        "outputId": "60abbc07-3f03-4f17-a3b7-dc178f6cda3e"
      },
      "outputs": [
        {
          "output_type": "stream",
          "name": "stdout",
          "text": [
            "  % Total    % Received % Xferd  Average Speed   Time    Time     Time  Current\n",
            "                                 Dload  Upload   Total   Spent    Left  Speed\n",
            "100  287M  100  287M    0     0   197M      0  0:00:01  0:00:01 --:--:--  197M\n"
          ]
        }
      ],
      "source": [
        "!apt-get install openjdk-8-jdk-headless -qq > /dev/null\n",
        "!curl -O https://dlcdn.apache.org/spark/spark-3.2.1/spark-3.2.1-bin-hadoop3.2.tgz\n",
        "!tar xf spark-3.2.1-bin-hadoop3.2.tgz\n",
        "!pip install -q findspark"
      ]
    },
    {
      "cell_type": "code",
      "source": [
        "import os\n",
        "os.environ[\"JAVA_HOME\"] = \"/usr/lib/jvm/java-8-openjdk-amd64\"\n",
        "os.environ[\"SPARK_HOME\"] = \"/content/spark-3.2.1-bin-hadoop3.2\""
      ],
      "metadata": {
        "id": "PoyY51Od9KrL"
      },
      "execution_count": 2,
      "outputs": []
    },
    {
      "cell_type": "code",
      "source": [
        "import findspark\n",
        "findspark.init()\n",
        "from pyspark.sql import SparkSession\n",
        "from pyspark import SparkContext, SparkConf\n",
        "\n",
        "conf = SparkConf().set('spark.ui.port', '4050')\n",
        "sc = SparkContext(conf=conf)\n",
        "spark = SparkSession.builder.master('local[*]').getOrCreate()"
      ],
      "metadata": {
        "id": "fgjP2e7r-p2J"
      },
      "execution_count": 3,
      "outputs": []
    },
    {
      "cell_type": "markdown",
      "source": [
        "## Useful imports"
      ],
      "metadata": {
        "id": "EcQneiFya-p8"
      }
    },
    {
      "cell_type": "code",
      "source": [
        "import time\n",
        "import numpy as np\n",
        "import pyspark.sql.functions as F\n",
        "import matplotlib.pyplot as plt\n",
        "%matplotlib inline\n",
        "\n",
        "from pyspark.sql.functions import col, lit\n",
        "from pyspark.sql.types import ArrayType, StringType, IntegerType\n",
        "from pyspark.sql import Window\n",
        "from pyspark.sql.functions import udf"
      ],
      "metadata": {
        "id": "Qw-LfxWabAt7"
      },
      "execution_count": 40,
      "outputs": []
    },
    {
      "cell_type": "markdown",
      "source": [
        "## Introduction\n",
        "Aim of this notebook is to help you get comfortable with Spark Dataframe API while working on a flights dataset.  \n",
        "This dataset contains some domestic flight prices for US country.  \n",
        "We will call route a tuple identified by an origin airport and a destination airport.  \n",
        "We will try to find-out what are the best options for a traveler, to go from some place to another.  \n",
        "Here is a short description of the columns:\n",
        "- ItinID & MktID: vaguely demonstrates the order in which tickets were ordered (lower ID #'s being ordered first)\n",
        "- MktCoupons: the number of coupons in the market for that flight\n",
        "- Quarter: 1, 2, 3, or 4, all of which are in 2018\n",
        "- Origin: the city out of which the flight begins\n",
        "- OriginWac: USA State/Territory World Area Code\n",
        "- Dest: the city out of which the flight begins\n",
        "- DestWac: USA State/Territory World Area Code\n",
        "- Miles: the number of miles traveled\n",
        "- ContiguousUSA: binary column -- (2) meaning flight is in the contiguous (48) USA states, and (1) meaning it is not (ie: Hawaii, Alaska, off-shore territories)\n",
        "- NumTicketsOrdered: number of tickets that were purchased by the user\n",
        "- Airline Company: the two-letter airline company code that the user used from start to finish (key codes below)\n",
        "- PricePerTicket: ticket price"
      ],
      "metadata": {
        "id": "NwM5x_W3BR-C"
      }
    },
    {
      "cell_type": "code",
      "source": [
        "# download the dataset described above\n",
        "from urllib import request\n",
        "import zipfile\n",
        "\n",
        "url = \"https://www.dropbox.com/s/kda4h5su4z6go05/flights.zip?dl=1\"\n",
        "filehandle, _ = request.urlretrieve(url)\n",
        "zip_file_object = zipfile.ZipFile(filehandle, 'r')\n",
        "zip_file_object.extractall()"
      ],
      "metadata": {
        "id": "umxgKJhc-sPC"
      },
      "execution_count": 5,
      "outputs": []
    },
    {
      "cell_type": "code",
      "source": [
        "# This seond file contains a mapping with airports Code / Name / Latitude / Longitude\n",
        "# It can help to get a better understanding of the airports you are dealing with.\n",
        "# Source : https://www.partow.net/miscellaneous/airportdatabase/index.html#Downloads\n",
        "url2 = \"https://www.dropbox.com/s/xe2a3hgwlugos7a/GlobalAirportDatabase.txt?dl=1\"\n",
        "request.urlretrieve(url2, \"airport_latlon.txt\")"
      ],
      "metadata": {
        "id": "zxur6Y50IfAZ",
        "colab": {
          "base_uri": "https://localhost:8080/"
        },
        "outputId": "7034ebf4-41c5-467f-b515-c59ec3092e74"
      },
      "execution_count": 6,
      "outputs": [
        {
          "output_type": "execute_result",
          "data": {
            "text/plain": [
              "('airport_latlon.txt', <http.client.HTTPMessage at 0x7f41e82d0050>)"
            ]
          },
          "metadata": {},
          "execution_count": 6
        }
      ]
    },
    {
      "cell_type": "code",
      "source": [
        "!ls"
      ],
      "metadata": {
        "id": "kt02q18wIz25",
        "colab": {
          "base_uri": "https://localhost:8080/"
        },
        "outputId": "929208dc-e4ff-4e1c-cfba-dc6573efc1b8"
      },
      "execution_count": 7,
      "outputs": [
        {
          "output_type": "stream",
          "name": "stdout",
          "text": [
            "airport_latlon.txt\t  spark-3.2.1-bin-hadoop3.2\n",
            "Cleaned_2018_Flights.csv  spark-3.2.1-bin-hadoop3.2.tgz\n",
            "sample_data\n"
          ]
        }
      ]
    },
    {
      "cell_type": "markdown",
      "source": [
        "\n",
        "\n",
        "---\n",
        "\n",
        "\n",
        "---\n",
        "\n",
        "\n",
        "\n",
        "---\n",
        "\n",
        "\n",
        "\n",
        "---\n",
        "\n",
        "\n",
        "\n",
        "---\n",
        "\n",
        "\n",
        "## Question 1 (1 point)\n",
        "Display a few rows of the flights fare dataset, display it's schema, and count the amount of rows.  \n",
        "You are likely to read this dataset a lots of times ; rewrite the dataset on the file system in an optimized way, to optimize further readings.  "
      ],
      "metadata": {
        "id": "Dmz2xyHdkPtj"
      }
    },
    {
      "cell_type": "markdown",
      "source": [
        "## Answer: \n",
        "\n",
        "First we read the CSV file and store it as a pyspark dataframe. In the options when reading the CSV file we set `ìnferSchema=True` this spares us the task of defining the schema manually afterward.\n",
        "\n",
        "\n",
        "After a quick exploration of the dataset using `.show()`, `.schema()` and `.count()` we saved the dataframe as a Parquet file.\n",
        "\n",
        "\n",
        "Parquet is a columnar storage that allows us to reach a better efficiency. Additionnaly we stored our dataset in cache memory (as it fits) so that it will be faster to acces the data. \n",
        "\n",
        "We are now ready to answer the next questions.\n",
        "\n",
        "\n",
        "\n"
      ],
      "metadata": {
        "id": "V01nXMfyYzTC"
      }
    },
    {
      "cell_type": "markdown",
      "source": [
        "### __1-1° CSV to pyspark dataframe.__\n",
        "We first read the CSV file and store it as a pyspark Dataframe: `df_flights`"
      ],
      "metadata": {
        "id": "QThRc7-bweu5"
      }
    },
    {
      "cell_type": "code",
      "source": [
        "flights_path = 'Cleaned_2018_Flights.csv'\n",
        "df_flights = spark.read.options(header=True).csv(flights_path)"
      ],
      "metadata": {
        "id": "LOdrxJwpjnBd"
      },
      "execution_count": 8,
      "outputs": []
    },
    {
      "cell_type": "code",
      "source": [
        "df_flights.take(5)"
      ],
      "metadata": {
        "id": "Eb2RltYwlNzp",
        "colab": {
          "base_uri": "https://localhost:8080/"
        },
        "outputId": "f0f5902f-13d2-42d1-a313-4405de927fbd"
      },
      "execution_count": 9,
      "outputs": [
        {
          "output_type": "execute_result",
          "data": {
            "text/plain": [
              "[Row(_c0='0', ItinID='20181767585', MktID='2018176758501', MktCoupons='1', Quarter='1', Origin='PHL', OriginWac='23', Dest='LAX', DestWac='91', Miles='2402.0', ContiguousUSA='2', NumTicketsOrdered='1.0', AirlineCompany='AA', PricePerTicket='672.87'),\n",
              " Row(_c0='1', ItinID='20181767586', MktID='2018176758601', MktCoupons='1', Quarter='1', Origin='PHL', OriginWac='23', Dest='LAX', DestWac='91', Miles='2402.0', ContiguousUSA='2', NumTicketsOrdered='1.0', AirlineCompany='AA', PricePerTicket='367.68'),\n",
              " Row(_c0='2', ItinID='20181767587', MktID='2018176758701', MktCoupons='1', Quarter='1', Origin='PHL', OriginWac='23', Dest='LAX', DestWac='91', Miles='2402.0', ContiguousUSA='2', NumTicketsOrdered='1.0', AirlineCompany='AA', PricePerTicket='417.94'),\n",
              " Row(_c0='3', ItinID='20181767636', MktID='2018176763601', MktCoupons='1', Quarter='1', Origin='PHL', OriginWac='23', Dest='LAX', DestWac='91', Miles='2402.0', ContiguousUSA='2', NumTicketsOrdered='1.0', AirlineCompany='AA', PricePerTicket='247.1'),\n",
              " Row(_c0='4', ItinID='20181767637', MktID='2018176763701', MktCoupons='1', Quarter='1', Origin='PHL', OriginWac='23', Dest='LAX', DestWac='91', Miles='2402.0', ContiguousUSA='2', NumTicketsOrdered='1.0', AirlineCompany='AA', PricePerTicket='276.35')]"
            ]
          },
          "metadata": {},
          "execution_count": 9
        }
      ]
    },
    {
      "cell_type": "markdown",
      "source": [
        "### __1-2° Displaying a few rows.__\n",
        "We investigate the schema of the dataframe, we moreover find that constitues a record of $9534417$ flights."
      ],
      "metadata": {
        "id": "S86qgwrTwwXe"
      }
    },
    {
      "cell_type": "code",
      "source": [
        "df_flights.show()"
      ],
      "metadata": {
        "colab": {
          "base_uri": "https://localhost:8080/"
        },
        "id": "A6k1QwiTBK-7",
        "outputId": "94b41f84-7238-4990-c831-8402f06b5d01"
      },
      "execution_count": null,
      "outputs": [
        {
          "output_type": "stream",
          "name": "stdout",
          "text": [
            "+---+-----------+-------------+----------+-------+------+---------+----+-------+------+-------------+-----------------+--------------+--------------+\n",
            "|_c0|     ItinID|        MktID|MktCoupons|Quarter|Origin|OriginWac|Dest|DestWac| Miles|ContiguousUSA|NumTicketsOrdered|AirlineCompany|PricePerTicket|\n",
            "+---+-----------+-------------+----------+-------+------+---------+----+-------+------+-------------+-----------------+--------------+--------------+\n",
            "|  0|20181767585|2018176758501|         1|      1|   PHL|       23| LAX|     91|2402.0|            2|              1.0|            AA|        672.87|\n",
            "|  1|20181767586|2018176758601|         1|      1|   PHL|       23| LAX|     91|2402.0|            2|              1.0|            AA|        367.68|\n",
            "|  2|20181767587|2018176758701|         1|      1|   PHL|       23| LAX|     91|2402.0|            2|              1.0|            AA|        417.94|\n",
            "|  3|20181767636|2018176763601|         1|      1|   PHL|       23| LAX|     91|2402.0|            2|              1.0|            AA|         247.1|\n",
            "|  4|20181767637|2018176763701|         1|      1|   PHL|       23| LAX|     91|2402.0|            2|              1.0|            AA|        276.35|\n",
            "|  5|20181767637|2018176763702|         1|      1|   LAX|       91| ORD|     41|1744.0|            2|              1.0|            AA|        200.65|\n",
            "|  6|20181767638|2018176763801|         1|      1|   PHL|       23| LAX|     91|2402.0|            2|              1.0|            AA|        560.96|\n",
            "|  7|20181767639|2018176763901|         1|      1|   PHL|       23| LAX|     91|2402.0|            2|              1.0|            AA|        326.98|\n",
            "|  8|20181767640|2018176764001|         1|      1|   PHL|       23| LAX|     91|2402.0|            2|              1.0|            AA|         389.9|\n",
            "|  9|20181767641|2018176764101|         1|      1|   PHL|       23| LAX|     91|2402.0|            2|              1.0|            AA|        444.06|\n",
            "| 10|20181767642|2018176764201|         1|      1|   PHL|       23| LAX|     91|2402.0|            2|              1.0|            AA|         144.4|\n",
            "| 11|20181767643|2018176764301|         1|      1|   PHL|       23| LAX|     91|2402.0|            2|              2.0|            AA|        156.35|\n",
            "| 12|20181767644|2018176764401|         1|      1|   PHL|       23| LAX|     91|2402.0|            2|              1.0|            AA|        159.83|\n",
            "| 13|20181767645|2018176764501|         1|      1|   PHL|       23| LAX|     91|2402.0|            2|              1.0|            AA|        172.28|\n",
            "| 14|20181767646|2018176764601|         1|      1|   PHL|       23| LAX|     91|2402.0|            2|              1.0|            AA|        176.76|\n",
            "| 15|20181767647|2018176764701|         1|      1|   PHL|       23| LAX|     91|2402.0|            2|              1.0|            AA|        177.26|\n",
            "| 16|20181767648|2018176764801|         1|      1|   PHL|       23| LAX|     91|2402.0|            2|              1.0|            AA|        180.75|\n",
            "| 17|20181767649|2018176764901|         1|      1|   PHL|       23| LAX|     91|2402.0|            2|              1.0|            AA|        195.19|\n",
            "| 18|20181767650|2018176765001|         1|      1|   PHL|       23| LAX|     91|2402.0|            2|              1.0|            AA|        199.67|\n",
            "| 19|20181767651|2018176765101|         1|      1|   PHL|       23| LAX|     91|2402.0|            2|              1.0|            AA|        204.15|\n",
            "+---+-----------+-------------+----------+-------+------+---------+----+-------+------+-------------+-----------------+--------------+--------------+\n",
            "only showing top 20 rows\n",
            "\n"
          ]
        }
      ]
    },
    {
      "cell_type": "code",
      "source": [
        "df_flights.printSchema()"
      ],
      "metadata": {
        "colab": {
          "base_uri": "https://localhost:8080/"
        },
        "id": "QjVmTnjulVAn",
        "outputId": "0aa9d3a5-e282-466e-8d0a-8fd8435cf665"
      },
      "execution_count": null,
      "outputs": [
        {
          "output_type": "stream",
          "name": "stdout",
          "text": [
            "root\n",
            " |-- _c0: string (nullable = true)\n",
            " |-- ItinID: string (nullable = true)\n",
            " |-- MktID: string (nullable = true)\n",
            " |-- MktCoupons: string (nullable = true)\n",
            " |-- Quarter: string (nullable = true)\n",
            " |-- Origin: string (nullable = true)\n",
            " |-- OriginWac: string (nullable = true)\n",
            " |-- Dest: string (nullable = true)\n",
            " |-- DestWac: string (nullable = true)\n",
            " |-- Miles: string (nullable = true)\n",
            " |-- ContiguousUSA: string (nullable = true)\n",
            " |-- NumTicketsOrdered: string (nullable = true)\n",
            " |-- AirlineCompany: string (nullable = true)\n",
            " |-- PricePerTicket: string (nullable = true)\n",
            "\n"
          ]
        }
      ]
    },
    {
      "cell_type": "code",
      "source": [
        "n_rows = df_flights.count()\n",
        "print(f'Amount of rows : {n_rows}')"
      ],
      "metadata": {
        "colab": {
          "base_uri": "https://localhost:8080/"
        },
        "id": "H9YklBY-lpWt",
        "outputId": "c8e34e82-fadc-49a8-d85f-0acb6250f28f"
      },
      "execution_count": null,
      "outputs": [
        {
          "output_type": "stream",
          "name": "stdout",
          "text": [
            "Amount of rows : 9534417\n"
          ]
        }
      ]
    },
    {
      "cell_type": "markdown",
      "source": [
        "### __1-3° Rewriting the dataset in an optimized way.__\n",
        "We will use the parquet file format and store the dataset in cache so that it is easier to access: "
      ],
      "metadata": {
        "id": "ieLN5tuoxT6y"
      }
    },
    {
      "cell_type": "code",
      "source": [
        "df_parquet_path = \"Cleaned_2018_Flights.parquet\"\n",
        "spark.read.options(header=True).csv(flights_path, inferSchema=True).write.parquet(df_parquet_path)"
      ],
      "metadata": {
        "id": "8Nu_CCURz7Bt"
      },
      "execution_count": 10,
      "outputs": []
    },
    {
      "cell_type": "code",
      "source": [
        "df_flights = spark.read.options(header=True, inferSchema=True).parquet(df_parquet_path)"
      ],
      "metadata": {
        "id": "MU8rtkBkHGs9"
      },
      "execution_count": 11,
      "outputs": []
    },
    {
      "cell_type": "markdown",
      "source": [
        "We cache the dataframe to avoid reloading them in subsequent computation."
      ],
      "metadata": {
        "id": "Ta8vpvdNl8fd"
      }
    },
    {
      "cell_type": "code",
      "source": [
        "df_flights.cache()"
      ],
      "metadata": {
        "colab": {
          "base_uri": "https://localhost:8080/"
        },
        "id": "PXQn2oagl13K",
        "outputId": "e8427315-481a-454c-fd6a-6a1f4229e516"
      },
      "execution_count": 12,
      "outputs": [
        {
          "output_type": "execute_result",
          "data": {
            "text/plain": [
              "DataFrame[_c0: int, ItinID: bigint, MktID: bigint, MktCoupons: int, Quarter: int, Origin: string, OriginWac: int, Dest: string, DestWac: int, Miles: double, ContiguousUSA: int, NumTicketsOrdered: double, AirlineCompany: string, PricePerTicket: double]"
            ]
          },
          "metadata": {},
          "execution_count": 12
        }
      ]
    },
    {
      "cell_type": "markdown",
      "source": [
        "\n",
        "\n",
        "---\n",
        "\n",
        "\n",
        "---\n",
        "\n",
        "\n",
        "\n",
        "---\n",
        "\n",
        "\n",
        "\n",
        "---\n",
        "\n",
        "\n",
        "\n",
        "---\n",
        "\n",
        "\n",
        "\n",
        "## Question 2 (4 points)  \n",
        "Find how many origin and destination airports are contained in the dataset.  \n",
        "Show them on a US map to get a better intuition of the dataset. You can use shapely and geopandas to perform this task.  \n",
        "Do we have all the lat/lon available ?"
      ],
      "metadata": {
        "id": "jBVPBi7ZCpWO"
      }
    },
    {
      "cell_type": "markdown",
      "source": [
        "## Answer:    \n",
        "\n",
        "- To count the number of origin airports we first select the column `Origin` of our dataset using the `df.select('col')` function. We then need to drop the redundants airports. To do so we use the `.distinct()` function. Finally we applied the `.count()`function to have the total number of distinct origin airports.\n",
        "\n",
        "  For the destinations airports we follow the exact at the exception that we select the columns `Dest`. \n",
        "  We end up with $263$ origin airports and $260$ destination airports.\n",
        "\n",
        "- To display the US airports on a map we first needed to extract the airport located in the US. \n",
        "  To do so we only selected latitudes and longitudes (from the dataset `airports_latlon.txt`) of the airports located in the united states of america using the function `.filter(airport_latlon['country']=='USA')`. \n",
        "  \n",
        "  Then to map the airports to their latitudes and longitudes we simply noticed that the `IATA_code` in `airports_latlon` corresponds to the airports names in both `origin` and `destination`. We can then simply run an inner join between the two datasets on these two columns and select the columns that will be useful for the plot, namely: `(latitude, longitude)`."
      ],
      "metadata": {
        "id": "HwUdnpDbdcTQ"
      }
    },
    {
      "cell_type": "markdown",
      "source": [
        "### __2-1° Origin and destination :__\n",
        "Using the command  ` df.select('col_of_interest').distinct().count()` we were able to find that there are $263$ origin airports and $260$ destination airports."
      ],
      "metadata": {
        "id": "Rr6bd3R2x-Zv"
      }
    },
    {
      "cell_type": "code",
      "source": [
        "# Count origin and destination airports\n",
        "num_origin = df_flights.select('Origin').distinct().count()\n",
        "num_destination = df_flights.select('Dest').distinct().count()\n",
        "\n",
        "print(f'Number of origin airports: {num_origin}')\n",
        "print(f'Number of destination airports: {num_destination}')"
      ],
      "metadata": {
        "id": "3b4x87c-YbRW",
        "colab": {
          "base_uri": "https://localhost:8080/"
        },
        "outputId": "95aaf613-798f-4116-ef60-ae600acc6a48"
      },
      "execution_count": null,
      "outputs": [
        {
          "output_type": "stream",
          "name": "stdout",
          "text": [
            "Number of origin airports: 263\n",
            "Number of destination airports: 260\n"
          ]
        }
      ]
    },
    {
      "cell_type": "markdown",
      "source": [
        "\n",
        "\n",
        "### __2-2° Mapping US Airports and their latitude and longitude__\n",
        "\n",
        "Creating the dataframe `df_latlon` which will allow us to map the latitude and\n",
        "the longitude to the associated airport."
      ],
      "metadata": {
        "id": "d0rd_IKByKWs"
      }
    },
    {
      "cell_type": "code",
      "source": [
        "from pyspark.sql.types import Row\n",
        "\n",
        "latlon_file = 'airport_latlon.txt'\n",
        "sc = spark.sparkContext\n",
        "lines = sc.textFile(latlon_file)\n",
        "parts = lines.map(lambda l: l.split(\":\"))\n",
        "airport_latlon = parts.map(lambda p: Row(ICAO_code=p[0], \n",
        "                                         IATA_code=p[1], \n",
        "                                         airport_name=p[2],\n",
        "                                         city=p[3],\n",
        "                                         country=p[4],\n",
        "                                         lat_deg=int(p[5]),\n",
        "                                         lat_min=int(p[6]),\n",
        "                                         lat_sec=int(p[7]),\n",
        "                                         lat_dir=p[8],\n",
        "                                         lon_deg=p[9],\n",
        "                                         lon_min=int(p[10]),\n",
        "                                         lon_sec=int(p[11]),\n",
        "                                         lon_dir=p[12],\n",
        "                                         altitude=int(p[13]),\n",
        "                                         lat_dec_deg=float(p[14]),\n",
        "                                         lon_dec_deg=float(p[15])))\n",
        "df_latlon = spark.createDataFrame(airport_latlon)"
      ],
      "metadata": {
        "id": "Q2xDS1o3t23R"
      },
      "execution_count": null,
      "outputs": []
    },
    {
      "cell_type": "markdown",
      "source": [
        "Displaying the first $20$ rows of  `df_latlon`."
      ],
      "metadata": {
        "id": "HVCU3C2uyn3N"
      }
    },
    {
      "cell_type": "code",
      "source": [
        "df_latlon.show()"
      ],
      "metadata": {
        "colab": {
          "base_uri": "https://localhost:8080/"
        },
        "id": "aUNJa56tq8zf",
        "outputId": "734a4465-c315-4284-b34e-a8d36b70f610"
      },
      "execution_count": null,
      "outputs": [
        {
          "output_type": "stream",
          "name": "stdout",
          "text": [
            "+---------+---------+--------------------+--------------+----------------+-------+-------+-------+-------+-------+-------+-------+-------+--------+-----------+-----------+\n",
            "|ICAO_code|IATA_code|        airport_name|          city|         country|lat_deg|lat_min|lat_sec|lat_dir|lon_deg|lon_min|lon_sec|lon_dir|altitude|lat_dec_deg|lon_dec_deg|\n",
            "+---------+---------+--------------------+--------------+----------------+-------+-------+-------+-------+-------+-------+-------+-------+--------+-----------+-----------+\n",
            "|     AYGA|      GKA|              GOROKA|        GOROKA|PAPUA NEW GUINEA|      6|      4|     54|      S|    145|     23|     30|      E|    1610|     -6.082|    145.392|\n",
            "|     AYLA|      LAE|                 N/A|           LAE|PAPUA NEW GUINEA|      0|      0|      0|      U|    000|      0|      0|      U|       0|        0.0|        0.0|\n",
            "|     AYMD|      MAG|              MADANG|        MADANG|PAPUA NEW GUINEA|      5|     12|     25|      S|    145|     47|     19|      E|       7|     -5.207|    145.789|\n",
            "|     AYMH|      HGU|         MOUNT HAGEN|   MOUNT HAGEN|PAPUA NEW GUINEA|      5|     49|     34|      S|    144|     17|     46|      E|    1643|     -5.826|    144.296|\n",
            "|     AYNZ|      LAE|              NADZAB|        NADZAB|PAPUA NEW GUINEA|      6|     34|     11|      S|    146|     43|     34|      E|      73|      -6.57|    146.726|\n",
            "|     AYPY|      POM|PORT MORESBY JACK...|  PORT MORESBY|PAPUA NEW GUINEA|      9|     26|     36|      S|    147|     13|     12|      E|      45|     -9.443|     147.22|\n",
            "|     AYRB|      RAB|                 N/A|        RABAUL|PAPUA NEW GUINEA|      0|      0|      0|      U|    000|      0|      0|      U|       0|        0.0|        0.0|\n",
            "|     AYWK|      WWK| WEWAK INTERNATIONAL|         WEWAK|PAPUA NEW GUINEA|      3|     35|      1|      S|    143|     40|      9|      E|       6|     -3.584|    143.669|\n",
            "|     BGAM|      N/A|                 N/A|  ANGMAGSSALIK|       GREENLAND|      0|      0|      0|      U|    000|      0|      0|      U|       0|        0.0|        0.0|\n",
            "|     BGAS|      N/A|                 N/A|      ANGISSOQ|       GREENLAND|      0|      0|      0|      U|    000|      0|      0|      U|       0|        0.0|        0.0|\n",
            "|     BGAT|      N/A|                 N/A|      APUTITEQ|       GREENLAND|      0|      0|      0|      U|    000|      0|      0|      U|       0|        0.0|        0.0|\n",
            "|     BGBW|      UAK|          NARSARSUAQ|  NARSSARSSUAQ|       GREENLAND|     61|      9|     40|      N|    045|     25|     39|      W|      35|     61.161|    -45.427|\n",
            "|     BGCH|      JCH|                 N/A|CHRISTIANSHAAB|       GREENLAND|      0|      0|      0|      U|    000|      0|      0|      U|       0|        0.0|        0.0|\n",
            "|     BGCO|      N/A|NERLERIT INAAT CO...|NERLERIT INAAT|       GREENLAND|     70|     44|     22|      N|    022|     38|     45|      W|      14|     70.739|    -22.646|\n",
            "|     BGDB|      N/A|                 N/A|      DANEBORG|       GREENLAND|      0|      0|      0|      U|    000|      0|      0|      U|       0|        0.0|        0.0|\n",
            "|     BGDH|      N/A|                 N/A|  DANMARKSHAVN|       GREENLAND|      0|      0|      0|      U|    000|      0|      0|      U|       0|        0.0|        0.0|\n",
            "|     BGDU|      N/A|                 N/A|        DUNDAS|       GREENLAND|      0|      0|      0|      U|    000|      0|      0|      U|       0|        0.0|        0.0|\n",
            "|     BGEM|      JEG|                 N/A|   EGEDESMINDE|       GREENLAND|      0|      0|      0|      U|    000|      0|      0|      U|       0|        0.0|        0.0|\n",
            "|     BGFD|      N/A|                 N/A|  FREDERIKSDAL|       GREENLAND|      0|      0|      0|      U|    000|      0|      0|      U|       0|        0.0|        0.0|\n",
            "|     BGFH|      JFR|                 N/A| FREDERIKSHAAB|       GREENLAND|      0|      0|      0|      U|    000|      0|      0|      U|       0|        0.0|        0.0|\n",
            "+---------+---------+--------------------+--------------+----------------+-------+-------+-------+-------+-------+-------+-------+-------+--------+-----------+-----------+\n",
            "only showing top 20 rows\n",
            "\n"
          ]
        }
      ]
    },
    {
      "cell_type": "markdown",
      "source": [
        "We have a total of $270$ distinct aiports and $169$ are located within the USA."
      ],
      "metadata": {
        "id": "YR76gD-nxhly"
      }
    },
    {
      "cell_type": "code",
      "source": [
        "# dataframe with all the distinct airports :\n",
        "df_airports = df_flights.select('Origin').union(df_flights.select('Dest')).distinct()\n",
        "# counting the rows = number of distinct airports :\n",
        "df_airports.count()"
      ],
      "metadata": {
        "id": "iuRkKb3fD0WX",
        "colab": {
          "base_uri": "https://localhost:8080/"
        },
        "outputId": "14eaea53-f7cb-4974-eb2a-9fee6d785f0b"
      },
      "execution_count": null,
      "outputs": [
        {
          "output_type": "execute_result",
          "data": {
            "text/plain": [
              "270"
            ]
          },
          "metadata": {},
          "execution_count": 20
        }
      ]
    },
    {
      "cell_type": "markdown",
      "source": [
        "Using an inner join on `df_airports[\"Origin\"] = df_latlon[\"IATA_code\"]` we map USA airports and their GPS coordinates. "
      ],
      "metadata": {
        "id": "4J81lP0Ty6xf"
      }
    },
    {
      "cell_type": "code",
      "source": [
        "airports_latlon = df_airports.join(df_latlon, df_airports[\"Origin\"] == df_latlon[\"IATA_code\"], how=\"inner\")\n",
        "A = airports_latlon.select(['country','airport_name','lat_dec_deg','lon_dec_deg'])\n",
        "US_airports = A.filter(A[\"country\"]==\"USA\")"
      ],
      "metadata": {
        "id": "UgnJq7o1DBgf"
      },
      "execution_count": null,
      "outputs": []
    },
    {
      "cell_type": "code",
      "source": [
        "US_airports.show()"
      ],
      "metadata": {
        "colab": {
          "base_uri": "https://localhost:8080/"
        },
        "id": "KNoF8ed6DX-G",
        "outputId": "684c7c8a-50c5-4c19-ff01-1c29ae4dea4a"
      },
      "execution_count": null,
      "outputs": [
        {
          "output_type": "stream",
          "name": "stdout",
          "text": [
            "+-------+--------------------+-----------+-----------+\n",
            "|country|        airport_name|lat_dec_deg|lon_dec_deg|\n",
            "+-------+--------------------+-----------+-----------+\n",
            "|    USA|LOUIS ARMSTRONG N...|     29.993|    -90.258|\n",
            "|    USA|SPOKANE INTERNATI...|      47.62|   -117.534|\n",
            "|    USA|BURBANK GLENDALE ...|     34.201|   -118.359|\n",
            "|    USA|JOHN WAYNE ARPT O...|     33.676|   -117.868|\n",
            "|    USA|AUSTIN STRAUBEL I...|     44.485|    -88.129|\n",
            "|    USA|GREAT FALLS INTER...|     47.482|   -111.371|\n",
            "|    USA|GERALD R FORD INT...|     42.881|    -85.523|\n",
            "|    USA|MYRTLE BEACH INTE...|      33.68|    -78.928|\n",
            "|    USA|THEODORE FRANCIS ...|     41.724|    -71.428|\n",
            "|    USA|METROPOLITAN OAKL...|     37.721|   -122.221|\n",
            "|    USA|DANE CO RGNL TRUA...|      43.14|    -89.337|\n",
            "|    USA|RONALD REAGAN WAS...|     38.852|    -77.037|\n",
            "|    USA|NIAGARA FALLS INT...|     43.107|    -78.946|\n",
            "|    USA|NORFOLK INTERNATI...|     36.894|    -76.201|\n",
            "|    USA|OGDENSBURG INTERN...|     44.682|    -75.466|\n",
            "|    USA|SAVANNAH HILTON H...|     32.127|    -81.202|\n",
            "|    USA|PORT COLUMBUS INT...|     39.998|    -82.892|\n",
            "|    USA|YOUNGSTOWN WARREN...|     41.261|    -80.679|\n",
            "|    USA|         MOBILE RGNL|     30.691|    -88.243|\n",
            "|    USA|      PENSACOLA RGNL|     30.473|    -87.187|\n",
            "+-------+--------------------+-----------+-----------+\n",
            "only showing top 20 rows\n",
            "\n"
          ]
        }
      ]
    },
    {
      "cell_type": "code",
      "source": [
        "US_airports.count()"
      ],
      "metadata": {
        "colab": {
          "base_uri": "https://localhost:8080/"
        },
        "id": "tIYr5nLmDgk0",
        "outputId": "24eafa22-407c-4351-8c71-6e775e0993c9"
      },
      "execution_count": null,
      "outputs": [
        {
          "output_type": "execute_result",
          "data": {
            "text/plain": [
              "169"
            ]
          },
          "metadata": {},
          "execution_count": 23
        }
      ]
    },
    {
      "cell_type": "code",
      "source": [
        "US_airports.printSchema()"
      ],
      "metadata": {
        "colab": {
          "base_uri": "https://localhost:8080/"
        },
        "id": "DiAo8UaBG1bB",
        "outputId": "f37ff167-41a7-44d4-b2a3-5b7520b44e32"
      },
      "execution_count": null,
      "outputs": [
        {
          "output_type": "stream",
          "name": "stdout",
          "text": [
            "root\n",
            " |-- country: string (nullable = true)\n",
            " |-- airport_name: string (nullable = true)\n",
            " |-- lat_dec_deg: double (nullable = true)\n",
            " |-- lon_dec_deg: double (nullable = true)\n",
            "\n"
          ]
        }
      ]
    },
    {
      "cell_type": "code",
      "source": [
        "!pip install geopandas"
      ],
      "metadata": {
        "id": "8i68ldv86Eg7",
        "colab": {
          "base_uri": "https://localhost:8080/"
        },
        "outputId": "b7eb9ef8-b6fa-46a6-85b5-ae9689a6b353"
      },
      "execution_count": null,
      "outputs": [
        {
          "output_type": "stream",
          "name": "stdout",
          "text": [
            "Collecting geopandas\n",
            "  Downloading geopandas-0.10.2-py2.py3-none-any.whl (1.0 MB)\n",
            "\u001b[?25l\r\u001b[K     |▎                               | 10 kB 22.8 MB/s eta 0:00:01\r\u001b[K     |▋                               | 20 kB 29.0 MB/s eta 0:00:01\r\u001b[K     |█                               | 30 kB 33.6 MB/s eta 0:00:01\r\u001b[K     |█▎                              | 40 kB 34.7 MB/s eta 0:00:01\r\u001b[K     |█▋                              | 51 kB 26.7 MB/s eta 0:00:01\r\u001b[K     |██                              | 61 kB 29.0 MB/s eta 0:00:01\r\u001b[K     |██▎                             | 71 kB 30.0 MB/s eta 0:00:01\r\u001b[K     |██▌                             | 81 kB 30.7 MB/s eta 0:00:01\r\u001b[K     |██▉                             | 92 kB 32.9 MB/s eta 0:00:01\r\u001b[K     |███▏                            | 102 kB 31.3 MB/s eta 0:00:01\r\u001b[K     |███▌                            | 112 kB 31.3 MB/s eta 0:00:01\r\u001b[K     |███▉                            | 122 kB 31.3 MB/s eta 0:00:01\r\u001b[K     |████▏                           | 133 kB 31.3 MB/s eta 0:00:01\r\u001b[K     |████▌                           | 143 kB 31.3 MB/s eta 0:00:01\r\u001b[K     |████▊                           | 153 kB 31.3 MB/s eta 0:00:01\r\u001b[K     |█████                           | 163 kB 31.3 MB/s eta 0:00:01\r\u001b[K     |█████▍                          | 174 kB 31.3 MB/s eta 0:00:01\r\u001b[K     |█████▊                          | 184 kB 31.3 MB/s eta 0:00:01\r\u001b[K     |██████                          | 194 kB 31.3 MB/s eta 0:00:01\r\u001b[K     |██████▍                         | 204 kB 31.3 MB/s eta 0:00:01\r\u001b[K     |██████▊                         | 215 kB 31.3 MB/s eta 0:00:01\r\u001b[K     |███████                         | 225 kB 31.3 MB/s eta 0:00:01\r\u001b[K     |███████▎                        | 235 kB 31.3 MB/s eta 0:00:01\r\u001b[K     |███████▋                        | 245 kB 31.3 MB/s eta 0:00:01\r\u001b[K     |████████                        | 256 kB 31.3 MB/s eta 0:00:01\r\u001b[K     |████████▎                       | 266 kB 31.3 MB/s eta 0:00:01\r\u001b[K     |████████▋                       | 276 kB 31.3 MB/s eta 0:00:01\r\u001b[K     |█████████                       | 286 kB 31.3 MB/s eta 0:00:01\r\u001b[K     |█████████▏                      | 296 kB 31.3 MB/s eta 0:00:01\r\u001b[K     |█████████▌                      | 307 kB 31.3 MB/s eta 0:00:01\r\u001b[K     |█████████▉                      | 317 kB 31.3 MB/s eta 0:00:01\r\u001b[K     |██████████▏                     | 327 kB 31.3 MB/s eta 0:00:01\r\u001b[K     |██████████▌                     | 337 kB 31.3 MB/s eta 0:00:01\r\u001b[K     |██████████▉                     | 348 kB 31.3 MB/s eta 0:00:01\r\u001b[K     |███████████▏                    | 358 kB 31.3 MB/s eta 0:00:01\r\u001b[K     |███████████▍                    | 368 kB 31.3 MB/s eta 0:00:01\r\u001b[K     |███████████▊                    | 378 kB 31.3 MB/s eta 0:00:01\r\u001b[K     |████████████                    | 389 kB 31.3 MB/s eta 0:00:01\r\u001b[K     |████████████▍                   | 399 kB 31.3 MB/s eta 0:00:01\r\u001b[K     |████████████▊                   | 409 kB 31.3 MB/s eta 0:00:01\r\u001b[K     |█████████████                   | 419 kB 31.3 MB/s eta 0:00:01\r\u001b[K     |█████████████▍                  | 430 kB 31.3 MB/s eta 0:00:01\r\u001b[K     |█████████████▋                  | 440 kB 31.3 MB/s eta 0:00:01\r\u001b[K     |██████████████                  | 450 kB 31.3 MB/s eta 0:00:01\r\u001b[K     |██████████████▎                 | 460 kB 31.3 MB/s eta 0:00:01\r\u001b[K     |██████████████▋                 | 471 kB 31.3 MB/s eta 0:00:01\r\u001b[K     |███████████████                 | 481 kB 31.3 MB/s eta 0:00:01\r\u001b[K     |███████████████▎                | 491 kB 31.3 MB/s eta 0:00:01\r\u001b[K     |███████████████▋                | 501 kB 31.3 MB/s eta 0:00:01\r\u001b[K     |███████████████▉                | 512 kB 31.3 MB/s eta 0:00:01\r\u001b[K     |████████████████▏               | 522 kB 31.3 MB/s eta 0:00:01\r\u001b[K     |████████████████▌               | 532 kB 31.3 MB/s eta 0:00:01\r\u001b[K     |████████████████▉               | 542 kB 31.3 MB/s eta 0:00:01\r\u001b[K     |█████████████████▏              | 552 kB 31.3 MB/s eta 0:00:01\r\u001b[K     |█████████████████▌              | 563 kB 31.3 MB/s eta 0:00:01\r\u001b[K     |█████████████████▉              | 573 kB 31.3 MB/s eta 0:00:01\r\u001b[K     |██████████████████              | 583 kB 31.3 MB/s eta 0:00:01\r\u001b[K     |██████████████████▍             | 593 kB 31.3 MB/s eta 0:00:01\r\u001b[K     |██████████████████▊             | 604 kB 31.3 MB/s eta 0:00:01\r\u001b[K     |███████████████████             | 614 kB 31.3 MB/s eta 0:00:01\r\u001b[K     |███████████████████▍            | 624 kB 31.3 MB/s eta 0:00:01\r\u001b[K     |███████████████████▊            | 634 kB 31.3 MB/s eta 0:00:01\r\u001b[K     |████████████████████            | 645 kB 31.3 MB/s eta 0:00:01\r\u001b[K     |████████████████████▎           | 655 kB 31.3 MB/s eta 0:00:01\r\u001b[K     |████████████████████▋           | 665 kB 31.3 MB/s eta 0:00:01\r\u001b[K     |█████████████████████           | 675 kB 31.3 MB/s eta 0:00:01\r\u001b[K     |█████████████████████▎          | 686 kB 31.3 MB/s eta 0:00:01\r\u001b[K     |█████████████████████▋          | 696 kB 31.3 MB/s eta 0:00:01\r\u001b[K     |██████████████████████          | 706 kB 31.3 MB/s eta 0:00:01\r\u001b[K     |██████████████████████▎         | 716 kB 31.3 MB/s eta 0:00:01\r\u001b[K     |██████████████████████▋         | 727 kB 31.3 MB/s eta 0:00:01\r\u001b[K     |██████████████████████▉         | 737 kB 31.3 MB/s eta 0:00:01\r\u001b[K     |███████████████████████▏        | 747 kB 31.3 MB/s eta 0:00:01\r\u001b[K     |███████████████████████▌        | 757 kB 31.3 MB/s eta 0:00:01\r\u001b[K     |███████████████████████▉        | 768 kB 31.3 MB/s eta 0:00:01\r\u001b[K     |████████████████████████▏       | 778 kB 31.3 MB/s eta 0:00:01\r\u001b[K     |████████████████████████▌       | 788 kB 31.3 MB/s eta 0:00:01\r\u001b[K     |████████████████████████▉       | 798 kB 31.3 MB/s eta 0:00:01\r\u001b[K     |█████████████████████████       | 808 kB 31.3 MB/s eta 0:00:01\r\u001b[K     |█████████████████████████▍      | 819 kB 31.3 MB/s eta 0:00:01\r\u001b[K     |█████████████████████████▊      | 829 kB 31.3 MB/s eta 0:00:01\r\u001b[K     |██████████████████████████      | 839 kB 31.3 MB/s eta 0:00:01\r\u001b[K     |██████████████████████████▍     | 849 kB 31.3 MB/s eta 0:00:01\r\u001b[K     |██████████████████████████▊     | 860 kB 31.3 MB/s eta 0:00:01\r\u001b[K     |███████████████████████████     | 870 kB 31.3 MB/s eta 0:00:01\r\u001b[K     |███████████████████████████▎    | 880 kB 31.3 MB/s eta 0:00:01\r\u001b[K     |███████████████████████████▋    | 890 kB 31.3 MB/s eta 0:00:01\r\u001b[K     |████████████████████████████    | 901 kB 31.3 MB/s eta 0:00:01\r\u001b[K     |████████████████████████████▎   | 911 kB 31.3 MB/s eta 0:00:01\r\u001b[K     |████████████████████████████▋   | 921 kB 31.3 MB/s eta 0:00:01\r\u001b[K     |█████████████████████████████   | 931 kB 31.3 MB/s eta 0:00:01\r\u001b[K     |█████████████████████████████▎  | 942 kB 31.3 MB/s eta 0:00:01\r\u001b[K     |█████████████████████████████▌  | 952 kB 31.3 MB/s eta 0:00:01\r\u001b[K     |█████████████████████████████▉  | 962 kB 31.3 MB/s eta 0:00:01\r\u001b[K     |██████████████████████████████▏ | 972 kB 31.3 MB/s eta 0:00:01\r\u001b[K     |██████████████████████████████▌ | 983 kB 31.3 MB/s eta 0:00:01\r\u001b[K     |██████████████████████████████▉ | 993 kB 31.3 MB/s eta 0:00:01\r\u001b[K     |███████████████████████████████▏| 1.0 MB 31.3 MB/s eta 0:00:01\r\u001b[K     |███████████████████████████████▌| 1.0 MB 31.3 MB/s eta 0:00:01\r\u001b[K     |███████████████████████████████▊| 1.0 MB 31.3 MB/s eta 0:00:01\r\u001b[K     |████████████████████████████████| 1.0 MB 31.3 MB/s \n",
            "\u001b[?25hRequirement already satisfied: shapely>=1.6 in /usr/local/lib/python3.7/dist-packages (from geopandas) (1.8.1.post1)\n",
            "Collecting fiona>=1.8\n",
            "  Downloading Fiona-1.8.21-cp37-cp37m-manylinux2014_x86_64.whl (16.7 MB)\n",
            "\u001b[K     |████████████████████████████████| 16.7 MB 61.4 MB/s \n",
            "\u001b[?25hCollecting pyproj>=2.2.0\n",
            "  Downloading pyproj-3.2.1-cp37-cp37m-manylinux2010_x86_64.whl (6.3 MB)\n",
            "\u001b[K     |████████████████████████████████| 6.3 MB 46.1 MB/s \n",
            "\u001b[?25hRequirement already satisfied: pandas>=0.25.0 in /usr/local/lib/python3.7/dist-packages (from geopandas) (1.3.5)\n",
            "Requirement already satisfied: click>=4.0 in /usr/local/lib/python3.7/dist-packages (from fiona>=1.8->geopandas) (7.1.2)\n",
            "Requirement already satisfied: attrs>=17 in /usr/local/lib/python3.7/dist-packages (from fiona>=1.8->geopandas) (21.4.0)\n",
            "Requirement already satisfied: setuptools in /usr/local/lib/python3.7/dist-packages (from fiona>=1.8->geopandas) (57.4.0)\n",
            "Requirement already satisfied: certifi in /usr/local/lib/python3.7/dist-packages (from fiona>=1.8->geopandas) (2021.10.8)\n",
            "Collecting click-plugins>=1.0\n",
            "  Downloading click_plugins-1.1.1-py2.py3-none-any.whl (7.5 kB)\n",
            "Requirement already satisfied: six>=1.7 in /usr/local/lib/python3.7/dist-packages (from fiona>=1.8->geopandas) (1.15.0)\n",
            "Collecting munch\n",
            "  Downloading munch-2.5.0-py2.py3-none-any.whl (10 kB)\n",
            "Collecting cligj>=0.5\n",
            "  Downloading cligj-0.7.2-py3-none-any.whl (7.1 kB)\n",
            "Requirement already satisfied: pytz>=2017.3 in /usr/local/lib/python3.7/dist-packages (from pandas>=0.25.0->geopandas) (2018.9)\n",
            "Requirement already satisfied: numpy>=1.17.3 in /usr/local/lib/python3.7/dist-packages (from pandas>=0.25.0->geopandas) (1.21.5)\n",
            "Requirement already satisfied: python-dateutil>=2.7.3 in /usr/local/lib/python3.7/dist-packages (from pandas>=0.25.0->geopandas) (2.8.2)\n",
            "Installing collected packages: munch, cligj, click-plugins, pyproj, fiona, geopandas\n",
            "Successfully installed click-plugins-1.1.1 cligj-0.7.2 fiona-1.8.21 geopandas-0.10.2 munch-2.5.0 pyproj-3.2.1\n"
          ]
        }
      ]
    },
    {
      "cell_type": "code",
      "source": [
        "import geopandas"
      ],
      "metadata": {
        "id": "Fj037V4S5beL"
      },
      "execution_count": null,
      "outputs": []
    },
    {
      "cell_type": "code",
      "source": [
        "lat_airports = np.array(US_airports.select('lat_dec_deg').collect())\n",
        "lon_airports = np.array(US_airports.select('lon_dec_deg').collect())"
      ],
      "metadata": {
        "id": "SLebpMnuGVKW"
      },
      "execution_count": null,
      "outputs": []
    },
    {
      "cell_type": "markdown",
      "source": [
        "Mapping the US airports on a map of the USA using geopandas. "
      ],
      "metadata": {
        "id": "Hv7YuxRi0bPr"
      }
    },
    {
      "cell_type": "code",
      "source": [
        "world = geopandas.read_file(geopandas.datasets.get_path('naturalearth_lowres'))\n",
        "usa = world[world.iso_a3 == \"USA\"]\n",
        "usa.plot(color='white', edgecolor='black')\n",
        "plt.scatter(x=lon_airports, y=lat_airports)"
      ],
      "metadata": {
        "colab": {
          "base_uri": "https://localhost:8080/",
          "height": 258
        },
        "id": "AExs-CQ-6NzJ",
        "outputId": "aa23de6e-e2f4-496a-e46b-e77eeedfae34"
      },
      "execution_count": null,
      "outputs": [
        {
          "output_type": "execute_result",
          "data": {
            "text/plain": [
              "<matplotlib.collections.PathCollection at 0x7f74954fcd90>"
            ]
          },
          "metadata": {},
          "execution_count": 42
        },
        {
          "output_type": "display_data",
          "data": {
            "image/png": "[encoded data removed]",
            "text/plain": [
              "<Figure size 432x288 with 1 Axes>"
            ]
          },
          "metadata": {
            "needs_background": "light"
          }
        }
      ]
    },
    {
      "cell_type": "markdown",
      "source": [
        "\n",
        "\n",
        "---\n",
        "\n",
        "\n",
        "---\n",
        "\n",
        "\n",
        "\n",
        "---\n",
        "\n",
        "\n",
        "\n",
        "---\n",
        "\n",
        "\n",
        "\n",
        "---\n",
        "\n",
        "\n",
        "In the next two questions, we will want to get an understanding of ticket prices based on flight distance.  \n",
        "\n",
        "\n",
        "## Question 3 (2 points)\n",
        "To do that we first need to get and understanding of the flight distance distribution.  \n",
        "We want to display an histogram of flight distances. To do this :  \n",
        "- use numpy logspace function to create 10 distance buckets, base=1.05\n",
        "- then use numpy digitize function inside a spark UDF to create the buckets.\n",
        "- buckets should be displayed in the correct order, and displayed like this : [min;max]"
      ],
      "metadata": {
        "id": "SCKoL0qFbYtN"
      }
    },
    {
      "cell_type": "markdown",
      "source": [
        "## Answer : \n",
        "\n",
        "- First we need to get rid of the redundant couples `(origin, destination)`. \n",
        "  \n",
        "  We could use a ` groupBy() ` but this a bit costly so instead we will use a ` Window.partitionBy()` and then average the price (for the next question).\n",
        "  \n",
        "  When trying to plot an histogram of the distances, should one try to get rid of another form of duplicates : ways and returns between two airports. That is, if there are flights `ABE -> ATL` and `AT -> ABE` should one try to identify these two? We tried to but eventually decided to ignore these cases and simply focus on the deduplication of the couples `(origin, destination)`. \n",
        "\n",
        "- Once this was and as the bins were already created we simply used the function `np.digitize()` to fill them. We observe that the histogram looks like a gaussian distribution (with a tiny irregularity to the right of its mean). "
      ],
      "metadata": {
        "id": "B2KccU5jvAQw"
      }
    },
    {
      "cell_type": "markdown",
      "source": [
        "### __3-1° Deduplication__"
      ],
      "metadata": {
        "id": "V2e3EIyN1ffS"
      }
    },
    {
      "cell_type": "code",
      "source": [
        "df_flights.show()"
      ],
      "metadata": {
        "id": "pee0xzEnXdcD",
        "colab": {
          "base_uri": "https://localhost:8080/"
        },
        "outputId": "dd53b717-0d50-454e-848a-13676e4b4898"
      },
      "execution_count": null,
      "outputs": [
        {
          "output_type": "stream",
          "name": "stdout",
          "text": [
            "+---+-----------+-------------+----------+-------+------+---------+----+-------+------+-------------+-----------------+--------------+--------------+\n",
            "|_c0|     ItinID|        MktID|MktCoupons|Quarter|Origin|OriginWac|Dest|DestWac| Miles|ContiguousUSA|NumTicketsOrdered|AirlineCompany|PricePerTicket|\n",
            "+---+-----------+-------------+----------+-------+------+---------+----+-------+------+-------------+-----------------+--------------+--------------+\n",
            "|  0|20181767585|2018176758501|         1|      1|   PHL|       23| LAX|     91|2402.0|            2|              1.0|            AA|        672.87|\n",
            "|  1|20181767586|2018176758601|         1|      1|   PHL|       23| LAX|     91|2402.0|            2|              1.0|            AA|        367.68|\n",
            "|  2|20181767587|2018176758701|         1|      1|   PHL|       23| LAX|     91|2402.0|            2|              1.0|            AA|        417.94|\n",
            "|  3|20181767636|2018176763601|         1|      1|   PHL|       23| LAX|     91|2402.0|            2|              1.0|            AA|         247.1|\n",
            "|  4|20181767637|2018176763701|         1|      1|   PHL|       23| LAX|     91|2402.0|            2|              1.0|            AA|        276.35|\n",
            "|  5|20181767637|2018176763702|         1|      1|   LAX|       91| ORD|     41|1744.0|            2|              1.0|            AA|        200.65|\n",
            "|  6|20181767638|2018176763801|         1|      1|   PHL|       23| LAX|     91|2402.0|            2|              1.0|            AA|        560.96|\n",
            "|  7|20181767639|2018176763901|         1|      1|   PHL|       23| LAX|     91|2402.0|            2|              1.0|            AA|        326.98|\n",
            "|  8|20181767640|2018176764001|         1|      1|   PHL|       23| LAX|     91|2402.0|            2|              1.0|            AA|         389.9|\n",
            "|  9|20181767641|2018176764101|         1|      1|   PHL|       23| LAX|     91|2402.0|            2|              1.0|            AA|        444.06|\n",
            "| 10|20181767642|2018176764201|         1|      1|   PHL|       23| LAX|     91|2402.0|            2|              1.0|            AA|         144.4|\n",
            "| 11|20181767643|2018176764301|         1|      1|   PHL|       23| LAX|     91|2402.0|            2|              2.0|            AA|        156.35|\n",
            "| 12|20181767644|2018176764401|         1|      1|   PHL|       23| LAX|     91|2402.0|            2|              1.0|            AA|        159.83|\n",
            "| 13|20181767645|2018176764501|         1|      1|   PHL|       23| LAX|     91|2402.0|            2|              1.0|            AA|        172.28|\n",
            "| 14|20181767646|2018176764601|         1|      1|   PHL|       23| LAX|     91|2402.0|            2|              1.0|            AA|        176.76|\n",
            "| 15|20181767647|2018176764701|         1|      1|   PHL|       23| LAX|     91|2402.0|            2|              1.0|            AA|        177.26|\n",
            "| 16|20181767648|2018176764801|         1|      1|   PHL|       23| LAX|     91|2402.0|            2|              1.0|            AA|        180.75|\n",
            "| 17|20181767649|2018176764901|         1|      1|   PHL|       23| LAX|     91|2402.0|            2|              1.0|            AA|        195.19|\n",
            "| 18|20181767650|2018176765001|         1|      1|   PHL|       23| LAX|     91|2402.0|            2|              1.0|            AA|        199.67|\n",
            "| 19|20181767651|2018176765101|         1|      1|   PHL|       23| LAX|     91|2402.0|            2|              1.0|            AA|        204.15|\n",
            "+---+-----------+-------------+----------+-------+------+---------+----+-------+------+-------------+-----------------+--------------+--------------+\n",
            "only showing top 20 rows\n",
            "\n"
          ]
        }
      ]
    },
    {
      "cell_type": "code",
      "source": [
        "w = Window.partitionBy('Origin','Dest')\n",
        "\n",
        "df_unique_flights = df_flights.withColumn('AvgPrice', F.avg('PricePerTicket').over(w))"
      ],
      "metadata": {
        "id": "0orQsHMz9itT"
      },
      "execution_count": 15,
      "outputs": []
    },
    {
      "cell_type": "code",
      "source": [
        "df_unique_flights = df_unique_flights.select('Origin','Dest','Miles','AvgPrice')"
      ],
      "metadata": {
        "id": "4vHmS5yh9qL2"
      },
      "execution_count": 16,
      "outputs": []
    },
    {
      "cell_type": "code",
      "source": [
        "df_unique_flights = df_unique_flights.dropDuplicates(['Origin','Dest']).withColumn('AvgPrice', F.round('AvgPrice', 2))"
      ],
      "metadata": {
        "id": "D7K8-iLE939l"
      },
      "execution_count": 17,
      "outputs": []
    },
    {
      "cell_type": "code",
      "source": [
        "df_unique_flights.show(5)"
      ],
      "metadata": {
        "colab": {
          "base_uri": "https://localhost:8080/"
        },
        "id": "JOADC5xF7a72",
        "outputId": "97b1b0ca-3f0b-4535-f3ff-e542d31f83f6"
      },
      "execution_count": 18,
      "outputs": [
        {
          "output_type": "stream",
          "name": "stdout",
          "text": [
            "+------+----+------+--------+\n",
            "|Origin|Dest| Miles|AvgPrice|\n",
            "+------+----+------+--------+\n",
            "|   ABE| ATL| 692.0|  243.15|\n",
            "|   ABE| FLL|1041.0|  100.49|\n",
            "|   ABI| DFW| 158.0|  613.88|\n",
            "|   ABQ| AGS|1412.0|  354.44|\n",
            "|   ABQ| AUS| 619.0|  140.13|\n",
            "+------+----+------+--------+\n",
            "only showing top 5 rows\n",
            "\n"
          ]
        }
      ]
    },
    {
      "cell_type": "code",
      "source": [
        "df_unique_flights.count()"
      ],
      "metadata": {
        "colab": {
          "base_uri": "https://localhost:8080/"
        },
        "id": "Inxr4ALLYJ5z",
        "outputId": "81a43ff2-2ea1-47ca-fa22-d0d996f1f7ef"
      },
      "execution_count": null,
      "outputs": [
        {
          "output_type": "execute_result",
          "data": {
            "text/plain": [
              "8471"
            ]
          },
          "metadata": {},
          "execution_count": 48
        }
      ]
    },
    {
      "cell_type": "markdown",
      "source": [
        "#### __Further attempt to deduplicate__"
      ],
      "metadata": {
        "id": "ejSas2eXKzLG"
      }
    },
    {
      "cell_type": "code",
      "source": [
        "from pyspark.sql.functions import col"
      ],
      "metadata": {
        "id": "Vl8tdSD7RwtC"
      },
      "execution_count": null,
      "outputs": []
    },
    {
      "cell_type": "code",
      "source": [
        "df_as1 = df_unique_flights.alias(\"df_as1\")\n",
        "df_as2 = df_unique_flights.alias(\"df_as2\")"
      ],
      "metadata": {
        "id": "lInaZuSER1Dc"
      },
      "execution_count": null,
      "outputs": []
    },
    {
      "cell_type": "code",
      "source": [
        "df_return_flights = df_as1.join(df_as2, (col(\"df_as1.Origin\") == col(\"df_as2.Dest\")) & (col(\"df_as1.Dest\") == col(\"df_as2.Origin\")), \"inner\")\\\n",
        "                          .withColumn(\"New_AvgPrice\", (col(\"df_as1.AvgPrice\") + col(\"df_as2.AvgPrice\")) / 2)"
      ],
      "metadata": {
        "id": "0DsaNsj1R8Xs"
      },
      "execution_count": null,
      "outputs": []
    },
    {
      "cell_type": "code",
      "source": [
        "df_return_flights.show()"
      ],
      "metadata": {
        "colab": {
          "base_uri": "https://localhost:8080/"
        },
        "id": "I7lMIJncQDBc",
        "outputId": "5e8f3908-1b57-425f-a808-c8f7cb9ce1ba"
      },
      "execution_count": null,
      "outputs": [
        {
          "output_type": "stream",
          "name": "stdout",
          "text": [
            "+------+----+------+--------+------+----+------+--------+------------------+\n",
            "|Origin|Dest| Miles|AvgPrice|Origin|Dest| Miles|AvgPrice|      New_AvgPrice|\n",
            "+------+----+------+--------+------+----+------+--------+------------------+\n",
            "|   ABE| ATL| 692.0|  243.15|   ATL| ABE| 692.0|  243.14|243.14499999999998|\n",
            "|   ABE| FLL|1041.0|  100.49|   FLL| ABE|1041.0|   98.39|             99.44|\n",
            "|   ABQ| AGS|1412.0|  354.44|   AGS| ABQ|1412.0|  349.34|            351.89|\n",
            "|   ABQ| AUS| 619.0|  140.13|   AUS| ABQ| 619.0|  146.67|143.39999999999998|\n",
            "|   ABQ| BHM|1138.0|  251.87|   BHM| ABQ|1138.0|  229.78|           240.825|\n",
            "|   ABQ| BOS|1974.0|   197.0|   BOS| ABQ|1974.0|  252.75|           224.875|\n",
            "|   ABQ| BTV|1881.0|  275.35|   BTV| ABQ|1881.0|  294.29|284.82000000000005|\n",
            "|   ABQ| BUR| 672.0|  165.81|   BUR| ABQ| 672.0|  186.83|            176.32|\n",
            "|   ABQ| BWI|1670.0|  288.32|   BWI| ABQ|1670.0|  286.41|           287.365|\n",
            "|   ABQ| CHS|1528.0|  328.31|   CHS| ABQ|1528.0|  317.59|            322.95|\n",
            "|   ABQ| CMH|1342.0|  239.33|   CMH| ABQ|1342.0|  216.82|           228.075|\n",
            "|   ABQ| DAL| 580.0|  211.25|   DAL| ABQ| 580.0|  210.37|            210.81|\n",
            "|   ABQ| DEN| 349.0|  142.77|   DEN| ABQ| 349.0|   145.8|144.28500000000003|\n",
            "|   ABQ| DSM| 833.0|  204.47|   DSM| ABQ| 833.0|   272.0|           238.235|\n",
            "|   ABQ| EWR|1805.0|  295.69|   EWR| ABQ|1805.0|  179.87|            237.78|\n",
            "|   ABQ| FLL|1688.0|  246.22|   FLL| ABQ|1688.0|  251.44|248.82999999999998|\n",
            "|   ABQ| GEG|1035.0|  284.81|   GEG| ABQ|1035.0|  220.25|            252.53|\n",
            "|   ABQ| GRR|1253.0|  228.88|   GRR| ABQ|1253.0|  253.55|           241.215|\n",
            "|   ABQ| HOU| 759.0|  250.37|   HOU| ABQ| 759.0|  247.39|            248.88|\n",
            "|   ABQ| IAH| 744.0|  247.27|   IAH| ABQ| 744.0|  247.65|            247.46|\n",
            "+------+----+------+--------+------+----+------+--------+------------------+\n",
            "only showing top 20 rows\n",
            "\n"
          ]
        }
      ]
    },
    {
      "cell_type": "code",
      "source": [
        "df_return_flights.count()"
      ],
      "metadata": {
        "colab": {
          "base_uri": "https://localhost:8080/"
        },
        "id": "ELNg1hD4RnD2",
        "outputId": "63f4a428-b431-48e3-dce0-8e6ff73adb53"
      },
      "execution_count": null,
      "outputs": [
        {
          "output_type": "execute_result",
          "data": {
            "text/plain": [
              "7872"
            ]
          },
          "metadata": {},
          "execution_count": 55
        }
      ]
    },
    {
      "cell_type": "code",
      "source": [
        "df_unique_flights.count()"
      ],
      "metadata": {
        "colab": {
          "base_uri": "https://localhost:8080/"
        },
        "id": "0QP-kqxySgzN",
        "outputId": "79a123cc-b50b-42d8-e955-1bde439789ee"
      },
      "execution_count": null,
      "outputs": [
        {
          "output_type": "execute_result",
          "data": {
            "text/plain": [
              "8471"
            ]
          },
          "metadata": {},
          "execution_count": 85
        }
      ]
    },
    {
      "cell_type": "markdown",
      "source": [
        "There are 7872/2 = 3936 one-ways also having returns, so we count the same distance twice, and we have 8471-7872 = 599  one-ways. In total there are 3936+599=4535 unique distances."
      ],
      "metadata": {
        "id": "LXNHnpGx-pQv"
      }
    },
    {
      "cell_type": "markdown",
      "source": [
        "With `df_return_flights` being not null, we know that in `df_unique_flights` we count a distance between two airports twice (e.g. ABE-ATL and ATL-ABE). We have exactly 3936 pairs of airports that are counted twice, but we don't know exactly which pairs. We tried to find a solution to delete those duplicates, but in vain. So in the following, we will consider routes between an airport A and an airport B as directed flights, and so if the round trip exists in the initial dataset, then the distance between A and B will be counted twice."
      ],
      "metadata": {
        "id": "XFqVKdUvFJId"
      }
    },
    {
      "cell_type": "markdown",
      "source": [
        "### __3-2° Creation of the bins__"
      ],
      "metadata": {
        "id": "QNL9W4L83xOU"
      }
    },
    {
      "cell_type": "code",
      "source": [
        "min_miles_distance = df_unique_flights.agg({'Miles': 'min'}).collect()[0]['min(Miles)']\n",
        "max_miles_distance = df_unique_flights.agg({'Miles': 'max'}).collect()[0]['max(Miles)']\n",
        "\n",
        "bins = np.logspace(np.log10(min_miles_distance), np.log10(max_miles_distance), num=10, dtype='int32')"
      ],
      "metadata": {
        "id": "BB7s1om3dqGB"
      },
      "execution_count": null,
      "outputs": []
    },
    {
      "cell_type": "code",
      "source": [
        "print(f'The minimum distance is {min_miles_distance} while the maximum is {max_miles_distance}')"
      ],
      "metadata": {
        "colab": {
          "base_uri": "https://localhost:8080/"
        },
        "id": "oQCKRF7KHxQ8",
        "outputId": "44f5062f-1d75-430c-af33-41e7803a4278"
      },
      "execution_count": null,
      "outputs": [
        {
          "output_type": "stream",
          "name": "stdout",
          "text": [
            "The minimum distance is 11.0 while the maximum is 5095.0\n"
          ]
        }
      ]
    },
    {
      "cell_type": "code",
      "source": [
        "bins"
      ],
      "metadata": {
        "colab": {
          "base_uri": "https://localhost:8080/"
        },
        "id": "mjtHN86vAfxH",
        "outputId": "37bf857f-bf75-41d0-f74f-a4f54d17f4e0"
      },
      "execution_count": null,
      "outputs": [
        {
          "output_type": "execute_result",
          "data": {
            "text/plain": [
              "array([  10,   21,   43,   85,  168,  332,  658, 1302, 2576, 5095],\n",
              "      dtype=int32)"
            ]
          },
          "metadata": {},
          "execution_count": 59
        }
      ]
    },
    {
      "cell_type": "markdown",
      "source": [
        "### __3-3° Filling the buckets__"
      ],
      "metadata": {
        "id": "No1D-x4T4YlV"
      }
    },
    {
      "cell_type": "code",
      "source": [
        "def assign_bucket(miles):\n",
        "    return int(np.digitize(miles, bins, right=True))"
      ],
      "metadata": {
        "id": "aZC2K8FoJ5dq"
      },
      "execution_count": null,
      "outputs": []
    },
    {
      "cell_type": "code",
      "source": [
        "assign_bucket_udf = udf(assign_bucket, IntegerType())"
      ],
      "metadata": {
        "id": "uyi9msyoAiY-"
      },
      "execution_count": null,
      "outputs": []
    },
    {
      "cell_type": "code",
      "source": [
        "df_unique_flights = df_unique_flights.withColumn(\"Num_miles_bucket\", assign_bucket_udf(\"Miles\"))"
      ],
      "metadata": {
        "id": "l9_2aZZSLTpy"
      },
      "execution_count": null,
      "outputs": []
    },
    {
      "cell_type": "code",
      "source": [
        "miles_bucket_count = df_unique_flights.groupBy(\"Num_miles_bucket\").count().toPandas()"
      ],
      "metadata": {
        "id": "EVf2zUQ1PFgQ"
      },
      "execution_count": null,
      "outputs": []
    },
    {
      "cell_type": "code",
      "source": [
        "miles_bucket_count.set_index(\"Num_miles_bucket\", inplace=True)"
      ],
      "metadata": {
        "id": "zIb5QnIhVaYo"
      },
      "execution_count": null,
      "outputs": []
    },
    {
      "cell_type": "code",
      "source": [
        "miles_bucket_count.sort_index(inplace=True)"
      ],
      "metadata": {
        "id": "7pRDeX3M_kFz"
      },
      "execution_count": null,
      "outputs": []
    },
    {
      "cell_type": "code",
      "source": [
        "ranges = []\n",
        "for i in range(len(bins)-1):\n",
        "    ranges.append(f\"]{bins[i]}-{bins[i+1]}]\")\n",
        "ranges"
      ],
      "metadata": {
        "colab": {
          "base_uri": "https://localhost:8080/"
        },
        "id": "9mdElvrh65TM",
        "outputId": "3108981d-99ef-4ffa-cbf9-219685de2352"
      },
      "execution_count": null,
      "outputs": [
        {
          "output_type": "execute_result",
          "data": {
            "text/plain": [
              "[']10-21]',\n",
              " ']21-43]',\n",
              " ']43-85]',\n",
              " ']85-168]',\n",
              " ']168-332]',\n",
              " ']332-658]',\n",
              " ']658-1302]',\n",
              " ']1302-2576]',\n",
              " ']2576-5095]']"
            ]
          },
          "metadata": {},
          "execution_count": 67
        }
      ]
    },
    {
      "cell_type": "code",
      "source": [
        "miles_bucket_count[\"Bucket_range\"] = ranges"
      ],
      "metadata": {
        "id": "7rKVnTor-wTo"
      },
      "execution_count": null,
      "outputs": []
    },
    {
      "cell_type": "code",
      "source": [
        "miles_bucket_count"
      ],
      "metadata": {
        "colab": {
          "base_uri": "https://localhost:8080/",
          "height": 359
        },
        "id": "i_fj8L_dZEvE",
        "outputId": "9e1c22d4-86ba-49f7-af15-c8a4111d0d22"
      },
      "execution_count": null,
      "outputs": [
        {
          "output_type": "execute_result",
          "data": {
            "text/html": [
              "\n",
              "  <div id=\"df-e072e564-bbff-4b42-8bcb-0e35636a5c6c\">\n",
              "    <div class=\"colab-df-container\">\n",
              "      <div>\n",
              "<style scoped>\n",
              "    .dataframe tbody tr th:only-of-type {\n",
              "        vertical-align: middle;\n",
              "    }\n",
              "\n",
              "    .dataframe tbody tr th {\n",
              "        vertical-align: top;\n",
              "    }\n",
              "\n",
              "    .dataframe thead th {\n",
              "        text-align: right;\n",
              "    }\n",
              "</style>\n",
              "<table border=\"1\" class=\"dataframe\">\n",
              "  <thead>\n",
              "    <tr style=\"text-align: right;\">\n",
              "      <th></th>\n",
              "      <th>count</th>\n",
              "      <th>Bucket_range</th>\n",
              "    </tr>\n",
              "    <tr>\n",
              "      <th>Num_miles_bucket</th>\n",
              "      <th></th>\n",
              "      <th></th>\n",
              "    </tr>\n",
              "  </thead>\n",
              "  <tbody>\n",
              "    <tr>\n",
              "      <th>1</th>\n",
              "      <td>2</td>\n",
              "      <td>]10-21]</td>\n",
              "    </tr>\n",
              "    <tr>\n",
              "      <th>2</th>\n",
              "      <td>6</td>\n",
              "      <td>]21-43]</td>\n",
              "    </tr>\n",
              "    <tr>\n",
              "      <th>3</th>\n",
              "      <td>19</td>\n",
              "      <td>]43-85]</td>\n",
              "    </tr>\n",
              "    <tr>\n",
              "      <th>4</th>\n",
              "      <td>106</td>\n",
              "      <td>]85-168]</td>\n",
              "    </tr>\n",
              "    <tr>\n",
              "      <th>5</th>\n",
              "      <td>518</td>\n",
              "      <td>]168-332]</td>\n",
              "    </tr>\n",
              "    <tr>\n",
              "      <th>6</th>\n",
              "      <td>1571</td>\n",
              "      <td>]332-658]</td>\n",
              "    </tr>\n",
              "    <tr>\n",
              "      <th>7</th>\n",
              "      <td>3308</td>\n",
              "      <td>]658-1302]</td>\n",
              "    </tr>\n",
              "    <tr>\n",
              "      <th>8</th>\n",
              "      <td>2603</td>\n",
              "      <td>]1302-2576]</td>\n",
              "    </tr>\n",
              "    <tr>\n",
              "      <th>9</th>\n",
              "      <td>338</td>\n",
              "      <td>]2576-5095]</td>\n",
              "    </tr>\n",
              "  </tbody>\n",
              "</table>\n",
              "</div>\n",
              "      <button class=\"colab-df-convert\" onclick=\"convertToInteractive('df-e072e564-bbff-4b42-8bcb-0e35636a5c6c')\"\n",
              "              title=\"Convert this dataframe to an interactive table.\"\n",
              "              style=\"display:none;\">\n",
              "        \n",
              "  <svg xmlns=\"http://www.w3.org/2000/svg\" height=\"24px\"viewBox=\"0 0 24 24\"\n",
              "       width=\"24px\">\n",
              "    <path d=\"M0 0h24v24H0V0z\" fill=\"none\"/>\n",
              "    <path d=\"M18.56 5.44l.94 2.06.94-2.06 2.06-.94-2.06-.94-.94-2.06-.94 2.06-2.06.94zm-11 1L8.5 8.5l.94-2.06 2.06-.94-2.06-.94L8.5 2.5l-.94 2.06-2.06.94zm10 10l.94 2.06.94-2.06 2.06-.94-2.06-.94-.94-2.06-.94 2.06-2.06.94z\"/><path d=\"M17.41 7.96l-1.37-1.37c-.4-.4-.92-.59-1.43-.59-.52 0-1.04.2-1.43.59L10.3 9.45l-7.72 7.72c-.78.78-.78 2.05 0 2.83L4 21.41c.39.39.9.59 1.41.59.51 0 1.02-.2 1.41-.59l7.78-7.78 2.81-2.81c.8-.78.8-2.07 0-2.86zM5.41 20L4 18.59l7.72-7.72 1.47 1.35L5.41 20z\"/>\n",
              "  </svg>\n",
              "      </button>\n",
              "      \n",
              "  <style>\n",
              "    .colab-df-container {\n",
              "      display:flex;\n",
              "      flex-wrap:wrap;\n",
              "      gap: 12px;\n",
              "    }\n",
              "\n",
              "    .colab-df-convert {\n",
              "      background-color: #E8F0FE;\n",
              "      border: none;\n",
              "      border-radius: 50%;\n",
              "      cursor: pointer;\n",
              "      display: none;\n",
              "      fill: #1967D2;\n",
              "      height: 32px;\n",
              "      padding: 0 0 0 0;\n",
              "      width: 32px;\n",
              "    }\n",
              "\n",
              "    .colab-df-convert:hover {\n",
              "      background-color: #E2EBFA;\n",
              "      box-shadow: 0px 1px 2px rgba(60, 64, 67, 0.3), 0px 1px 3px 1px rgba(60, 64, 67, 0.15);\n",
              "      fill: #174EA6;\n",
              "    }\n",
              "\n",
              "    [theme=dark] .colab-df-convert {\n",
              "      background-color: #3B4455;\n",
              "      fill: #D2E3FC;\n",
              "    }\n",
              "\n",
              "    [theme=dark] .colab-df-convert:hover {\n",
              "      background-color: #434B5C;\n",
              "      box-shadow: 0px 1px 3px 1px rgba(0, 0, 0, 0.15);\n",
              "      filter: drop-shadow(0px 1px 2px rgba(0, 0, 0, 0.3));\n",
              "      fill: #FFFFFF;\n",
              "    }\n",
              "  </style>\n",
              "\n",
              "      <script>\n",
              "        const buttonEl =\n",
              "          document.querySelector('#df-e072e564-bbff-4b42-8bcb-0e35636a5c6c button.colab-df-convert');\n",
              "        buttonEl.style.display =\n",
              "          google.colab.kernel.accessAllowed ? 'block' : 'none';\n",
              "\n",
              "        async function convertToInteractive(key) {\n",
              "          const element = document.querySelector('#df-e072e564-bbff-4b42-8bcb-0e35636a5c6c');\n",
              "          const dataTable =\n",
              "            await google.colab.kernel.invokeFunction('convertToInteractive',\n",
              "                                                     [key], {});\n",
              "          if (!dataTable) return;\n",
              "\n",
              "          const docLinkHtml = 'Like what you see? Visit the ' +\n",
              "            '<a target=\"_blank\" href=https://colab.research.google.com/notebooks/data_table.ipynb>data table notebook</a>'\n",
              "            + ' to learn more about interactive tables.';\n",
              "          element.innerHTML = '';\n",
              "          dataTable['output_type'] = 'display_data';\n",
              "          await google.colab.output.renderOutput(dataTable, element);\n",
              "          const docLink = document.createElement('div');\n",
              "          docLink.innerHTML = docLinkHtml;\n",
              "          element.appendChild(docLink);\n",
              "        }\n",
              "      </script>\n",
              "    </div>\n",
              "  </div>\n",
              "  "
            ],
            "text/plain": [
              "                  count Bucket_range\n",
              "Num_miles_bucket                    \n",
              "1                     2      ]10-21]\n",
              "2                     6      ]21-43]\n",
              "3                    19      ]43-85]\n",
              "4                   106     ]85-168]\n",
              "5                   518    ]168-332]\n",
              "6                  1571    ]332-658]\n",
              "7                  3308   ]658-1302]\n",
              "8                  2603  ]1302-2576]\n",
              "9                   338  ]2576-5095]"
            ]
          },
          "metadata": {},
          "execution_count": 69
        }
      ]
    },
    {
      "cell_type": "code",
      "source": [
        "plt.figure(figsize=(12, 7))\n",
        "plt.bar(miles_bucket_count[\"Bucket_range\"], miles_bucket_count[\"count\"])"
      ],
      "metadata": {
        "colab": {
          "base_uri": "https://localhost:8080/",
          "height": 445
        },
        "id": "anDc5ugSY4cm",
        "outputId": "31eceeea-9ec9-4047-d096-98a12c8932ee"
      },
      "execution_count": null,
      "outputs": [
        {
          "output_type": "execute_result",
          "data": {
            "text/plain": [
              "<BarContainer object of 9 artists>"
            ]
          },
          "metadata": {},
          "execution_count": 70
        },
        {
          "output_type": "display_data",
          "data": {
            "image/png": "[encoded data removed]",
            "text/plain": [
              "<Figure size 864x504 with 1 Axes>"
            ]
          },
          "metadata": {
            "needs_background": "light"
          }
        }
      ]
    },
    {
      "cell_type": "markdown",
      "source": [
        "\n",
        "\n",
        "---\n",
        "\n",
        "\n",
        "---\n",
        "\n",
        "\n",
        "\n",
        "---\n",
        "\n",
        "\n",
        "\n",
        "---\n",
        "\n",
        "\n",
        "\n",
        "---\n",
        "\n",
        "## Question 4 (3 points)\n",
        "Display the average flight fares for each distance bucket.  \n",
        "Graph should also contain the confidence intervals.  \n",
        "Buckets should be displayed in the correct order, and displayed like this : $[min;max]$  \n",
        "Interpret the results.  "
      ],
      "metadata": {
        "id": "pckZKP_5woRr"
      }
    },
    {
      "cell_type": "markdown",
      "source": [
        "## Answer : \n",
        "\n",
        "- To compute the average flight for each bucket we simply exploit the colmun `Num_miles_bucket` which assigns to each flight the bucket it belongs to (based on the distance covered by the flight).\n",
        "  All is left to do is to use a `groupBy`on the column `Num_miles_bucket` in combination with an aggregation of type average on the ` Price`. We detailed our study by computing the intra bucket standard deviation and the cardinality of each bucket.\n",
        "- We finally find: \n",
        "\n",
        "Num_miles_bucket | mean | std | N | Bucket_range\n",
        "-------------------|------------------|---|---|---\n",
        "1 |\t204.105000 \t|11.702617 \t|2 \t|]10-21] \t\n",
        "2 |\t124.895000 \t|20.101554 \t|6 |\t]21-43] \t\n",
        "3 |\t182.598947 \t|126.703078 |\t19| \t]43-85] \t\n",
        "4 |\t216.511604 |\t109.372166 |106| \t]85-168] \t\n",
        "5 |\t202.772819 |\t72.103439 \t|518| \t]168-332] \t\n",
        "6 |\t183.790936 |\t67.266215 \t|1571| \t]332-658] \t\n",
        "7 |\t203.024030 |\t75.620382 \t|3308 |\t]658-1302] \t\n",
        "8 |\t268.221275 |\t77.495474 \t|2603| \t]1302-2576] \t\n",
        "9 |\t418.740769 |\t124.011352 \t|338 |\t]2576-5095] \t\n",
        "\n",
        "  We can observe that the mean remains stable within the seven first bucket but then grows significantly with the distance for the two last buckets. As a result, in terms of mean, the price is not obviously correlated to the distance if the flights covers less than $ 1302$ miles. For long haul flights the prices are significantly higher. \n",
        "\n"
      ],
      "metadata": {
        "id": "fuvxlK-87EcS"
      }
    },
    {
      "cell_type": "code",
      "source": [
        "df_unique_flights.show(5)"
      ],
      "metadata": {
        "colab": {
          "base_uri": "https://localhost:8080/"
        },
        "id": "rl7RQSAWYVa-",
        "outputId": "e0e0fb6c-3903-4bb9-c41e-ec9a63a849f6"
      },
      "execution_count": null,
      "outputs": [
        {
          "output_type": "stream",
          "name": "stdout",
          "text": [
            "+------+----+------+--------+----------------+\n",
            "|Origin|Dest| Miles|AvgPrice|Num_miles_bucket|\n",
            "+------+----+------+--------+----------------+\n",
            "|   ABE| ATL| 692.0|  243.15|               7|\n",
            "|   ABE| FLL|1041.0|  100.49|               7|\n",
            "|   ABI| DFW| 158.0|  613.88|               4|\n",
            "|   ABQ| AGS|1412.0|  354.44|               8|\n",
            "|   ABQ| AUS| 619.0|  140.13|               6|\n",
            "+------+----+------+--------+----------------+\n",
            "only showing top 5 rows\n",
            "\n"
          ]
        }
      ]
    },
    {
      "cell_type": "markdown",
      "source": [
        "### __Average flight fares for each distance bucket__"
      ],
      "metadata": {
        "id": "psufXuOhYk7m"
      }
    },
    {
      "cell_type": "code",
      "source": [
        "df_prices = df_unique_flights.groupby(\"Num_miles_bucket\").agg(F.avg('AvgPrice').alias('mean'),\\\n",
        "                                              F.stddev('AvgPrice').alias('std'),\\\n",
        "                                              F.count('AvgPrice').alias('N')).toPandas()"
      ],
      "metadata": {
        "id": "LnAMCmAIbYWf"
      },
      "execution_count": null,
      "outputs": []
    },
    {
      "cell_type": "code",
      "source": [
        "df_prices"
      ],
      "metadata": {
        "colab": {
          "base_uri": "https://localhost:8080/",
          "height": 328
        },
        "id": "P5LhzlLhaqOg",
        "outputId": "2c577a65-f93d-4ae5-87dc-0fb3500af91f"
      },
      "execution_count": null,
      "outputs": [
        {
          "output_type": "execute_result",
          "data": {
            "text/html": [
              "\n",
              "  <div id=\"df-d075650f-33f7-44ce-9076-c775211ef5fe\">\n",
              "    <div class=\"colab-df-container\">\n",
              "      <div>\n",
              "<style scoped>\n",
              "    .dataframe tbody tr th:only-of-type {\n",
              "        vertical-align: middle;\n",
              "    }\n",
              "\n",
              "    .dataframe tbody tr th {\n",
              "        vertical-align: top;\n",
              "    }\n",
              "\n",
              "    .dataframe thead th {\n",
              "        text-align: right;\n",
              "    }\n",
              "</style>\n",
              "<table border=\"1\" class=\"dataframe\">\n",
              "  <thead>\n",
              "    <tr style=\"text-align: right;\">\n",
              "      <th></th>\n",
              "      <th>Num_miles_bucket</th>\n",
              "      <th>mean</th>\n",
              "      <th>std</th>\n",
              "      <th>N</th>\n",
              "    </tr>\n",
              "  </thead>\n",
              "  <tbody>\n",
              "    <tr>\n",
              "      <th>0</th>\n",
              "      <td>1</td>\n",
              "      <td>204.105000</td>\n",
              "      <td>11.702617</td>\n",
              "      <td>2</td>\n",
              "    </tr>\n",
              "    <tr>\n",
              "      <th>1</th>\n",
              "      <td>6</td>\n",
              "      <td>183.790936</td>\n",
              "      <td>67.266215</td>\n",
              "      <td>1571</td>\n",
              "    </tr>\n",
              "    <tr>\n",
              "      <th>2</th>\n",
              "      <td>3</td>\n",
              "      <td>182.598947</td>\n",
              "      <td>126.703078</td>\n",
              "      <td>19</td>\n",
              "    </tr>\n",
              "    <tr>\n",
              "      <th>3</th>\n",
              "      <td>5</td>\n",
              "      <td>202.772819</td>\n",
              "      <td>72.103439</td>\n",
              "      <td>518</td>\n",
              "    </tr>\n",
              "    <tr>\n",
              "      <th>4</th>\n",
              "      <td>9</td>\n",
              "      <td>418.740769</td>\n",
              "      <td>124.011352</td>\n",
              "      <td>338</td>\n",
              "    </tr>\n",
              "    <tr>\n",
              "      <th>5</th>\n",
              "      <td>4</td>\n",
              "      <td>216.511604</td>\n",
              "      <td>109.372166</td>\n",
              "      <td>106</td>\n",
              "    </tr>\n",
              "    <tr>\n",
              "      <th>6</th>\n",
              "      <td>8</td>\n",
              "      <td>268.221275</td>\n",
              "      <td>77.495474</td>\n",
              "      <td>2603</td>\n",
              "    </tr>\n",
              "    <tr>\n",
              "      <th>7</th>\n",
              "      <td>7</td>\n",
              "      <td>203.024030</td>\n",
              "      <td>75.620382</td>\n",
              "      <td>3308</td>\n",
              "    </tr>\n",
              "    <tr>\n",
              "      <th>8</th>\n",
              "      <td>2</td>\n",
              "      <td>124.895000</td>\n",
              "      <td>20.101554</td>\n",
              "      <td>6</td>\n",
              "    </tr>\n",
              "  </tbody>\n",
              "</table>\n",
              "</div>\n",
              "      <button class=\"colab-df-convert\" onclick=\"convertToInteractive('df-d075650f-33f7-44ce-9076-c775211ef5fe')\"\n",
              "              title=\"Convert this dataframe to an interactive table.\"\n",
              "              style=\"display:none;\">\n",
              "        \n",
              "  <svg xmlns=\"http://www.w3.org/2000/svg\" height=\"24px\"viewBox=\"0 0 24 24\"\n",
              "       width=\"24px\">\n",
              "    <path d=\"M0 0h24v24H0V0z\" fill=\"none\"/>\n",
              "    <path d=\"M18.56 5.44l.94 2.06.94-2.06 2.06-.94-2.06-.94-.94-2.06-.94 2.06-2.06.94zm-11 1L8.5 8.5l.94-2.06 2.06-.94-2.06-.94L8.5 2.5l-.94 2.06-2.06.94zm10 10l.94 2.06.94-2.06 2.06-.94-2.06-.94-.94-2.06-.94 2.06-2.06.94z\"/><path d=\"M17.41 7.96l-1.37-1.37c-.4-.4-.92-.59-1.43-.59-.52 0-1.04.2-1.43.59L10.3 9.45l-7.72 7.72c-.78.78-.78 2.05 0 2.83L4 21.41c.39.39.9.59 1.41.59.51 0 1.02-.2 1.41-.59l7.78-7.78 2.81-2.81c.8-.78.8-2.07 0-2.86zM5.41 20L4 18.59l7.72-7.72 1.47 1.35L5.41 20z\"/>\n",
              "  </svg>\n",
              "      </button>\n",
              "      \n",
              "  <style>\n",
              "    .colab-df-container {\n",
              "      display:flex;\n",
              "      flex-wrap:wrap;\n",
              "      gap: 12px;\n",
              "    }\n",
              "\n",
              "    .colab-df-convert {\n",
              "      background-color: #E8F0FE;\n",
              "      border: none;\n",
              "      border-radius: 50%;\n",
              "      cursor: pointer;\n",
              "      display: none;\n",
              "      fill: #1967D2;\n",
              "      height: 32px;\n",
              "      padding: 0 0 0 0;\n",
              "      width: 32px;\n",
              "    }\n",
              "\n",
              "    .colab-df-convert:hover {\n",
              "      background-color: #E2EBFA;\n",
              "      box-shadow: 0px 1px 2px rgba(60, 64, 67, 0.3), 0px 1px 3px 1px rgba(60, 64, 67, 0.15);\n",
              "      fill: #174EA6;\n",
              "    }\n",
              "\n",
              "    [theme=dark] .colab-df-convert {\n",
              "      background-color: #3B4455;\n",
              "      fill: #D2E3FC;\n",
              "    }\n",
              "\n",
              "    [theme=dark] .colab-df-convert:hover {\n",
              "      background-color: #434B5C;\n",
              "      box-shadow: 0px 1px 3px 1px rgba(0, 0, 0, 0.15);\n",
              "      filter: drop-shadow(0px 1px 2px rgba(0, 0, 0, 0.3));\n",
              "      fill: #FFFFFF;\n",
              "    }\n",
              "  </style>\n",
              "\n",
              "      <script>\n",
              "        const buttonEl =\n",
              "          document.querySelector('#df-d075650f-33f7-44ce-9076-c775211ef5fe button.colab-df-convert');\n",
              "        buttonEl.style.display =\n",
              "          google.colab.kernel.accessAllowed ? 'block' : 'none';\n",
              "\n",
              "        async function convertToInteractive(key) {\n",
              "          const element = document.querySelector('#df-d075650f-33f7-44ce-9076-c775211ef5fe');\n",
              "          const dataTable =\n",
              "            await google.colab.kernel.invokeFunction('convertToInteractive',\n",
              "                                                     [key], {});\n",
              "          if (!dataTable) return;\n",
              "\n",
              "          const docLinkHtml = 'Like what you see? Visit the ' +\n",
              "            '<a target=\"_blank\" href=https://colab.research.google.com/notebooks/data_table.ipynb>data table notebook</a>'\n",
              "            + ' to learn more about interactive tables.';\n",
              "          element.innerHTML = '';\n",
              "          dataTable['output_type'] = 'display_data';\n",
              "          await google.colab.output.renderOutput(dataTable, element);\n",
              "          const docLink = document.createElement('div');\n",
              "          docLink.innerHTML = docLinkHtml;\n",
              "          element.appendChild(docLink);\n",
              "        }\n",
              "      </script>\n",
              "    </div>\n",
              "  </div>\n",
              "  "
            ],
            "text/plain": [
              "   Num_miles_bucket        mean         std     N\n",
              "0                 1  204.105000   11.702617     2\n",
              "1                 6  183.790936   67.266215  1571\n",
              "2                 3  182.598947  126.703078    19\n",
              "3                 5  202.772819   72.103439   518\n",
              "4                 9  418.740769  124.011352   338\n",
              "5                 4  216.511604  109.372166   106\n",
              "6                 8  268.221275   77.495474  2603\n",
              "7                 7  203.024030   75.620382  3308\n",
              "8                 2  124.895000   20.101554     6"
            ]
          },
          "metadata": {},
          "execution_count": 75
        }
      ]
    },
    {
      "cell_type": "code",
      "source": [
        "df_prices.set_index(\"Num_miles_bucket\", inplace=True)\n",
        "df_prices.sort_index(inplace=True)"
      ],
      "metadata": {
        "id": "BpXJZHKObojz"
      },
      "execution_count": null,
      "outputs": []
    },
    {
      "cell_type": "code",
      "source": [
        "df_prices[\"Bucket_range\"] = ranges"
      ],
      "metadata": {
        "id": "hw46dTXFcVXu"
      },
      "execution_count": null,
      "outputs": []
    },
    {
      "cell_type": "code",
      "source": [
        "df_prices[\"IC\"] = 1.96 * df_prices[\"std\"] / df_prices[\"N\"]"
      ],
      "metadata": {
        "id": "TcaPrWcNb52n"
      },
      "execution_count": null,
      "outputs": []
    },
    {
      "cell_type": "code",
      "source": [
        "df_prices"
      ],
      "metadata": {
        "colab": {
          "base_uri": "https://localhost:8080/",
          "height": 359
        },
        "id": "xAqINuEfeH13",
        "outputId": "3020c9d1-b39a-47ad-ca66-50b4027ee301"
      },
      "execution_count": null,
      "outputs": [
        {
          "output_type": "execute_result",
          "data": {
            "text/html": [
              "\n",
              "  <div id=\"df-29deed88-f650-482f-9064-634d0264e1cf\">\n",
              "    <div class=\"colab-df-container\">\n",
              "      <div>\n",
              "<style scoped>\n",
              "    .dataframe tbody tr th:only-of-type {\n",
              "        vertical-align: middle;\n",
              "    }\n",
              "\n",
              "    .dataframe tbody tr th {\n",
              "        vertical-align: top;\n",
              "    }\n",
              "\n",
              "    .dataframe thead th {\n",
              "        text-align: right;\n",
              "    }\n",
              "</style>\n",
              "<table border=\"1\" class=\"dataframe\">\n",
              "  <thead>\n",
              "    <tr style=\"text-align: right;\">\n",
              "      <th></th>\n",
              "      <th>mean</th>\n",
              "      <th>std</th>\n",
              "      <th>N</th>\n",
              "      <th>Bucket_range</th>\n",
              "      <th>IC</th>\n",
              "    </tr>\n",
              "    <tr>\n",
              "      <th>Num_miles_bucket</th>\n",
              "      <th></th>\n",
              "      <th></th>\n",
              "      <th></th>\n",
              "      <th></th>\n",
              "      <th></th>\n",
              "    </tr>\n",
              "  </thead>\n",
              "  <tbody>\n",
              "    <tr>\n",
              "      <th>1</th>\n",
              "      <td>204.105000</td>\n",
              "      <td>11.702617</td>\n",
              "      <td>2</td>\n",
              "      <td>]10-21]</td>\n",
              "      <td>11.468565</td>\n",
              "    </tr>\n",
              "    <tr>\n",
              "      <th>2</th>\n",
              "      <td>124.895000</td>\n",
              "      <td>20.101554</td>\n",
              "      <td>6</td>\n",
              "      <td>]21-43]</td>\n",
              "      <td>6.566508</td>\n",
              "    </tr>\n",
              "    <tr>\n",
              "      <th>3</th>\n",
              "      <td>182.598947</td>\n",
              "      <td>126.703078</td>\n",
              "      <td>19</td>\n",
              "      <td>]43-85]</td>\n",
              "      <td>13.070423</td>\n",
              "    </tr>\n",
              "    <tr>\n",
              "      <th>4</th>\n",
              "      <td>216.511604</td>\n",
              "      <td>109.372166</td>\n",
              "      <td>106</td>\n",
              "      <td>]85-168]</td>\n",
              "      <td>2.022353</td>\n",
              "    </tr>\n",
              "    <tr>\n",
              "      <th>5</th>\n",
              "      <td>202.772819</td>\n",
              "      <td>72.103439</td>\n",
              "      <td>518</td>\n",
              "      <td>]168-332]</td>\n",
              "      <td>0.272824</td>\n",
              "    </tr>\n",
              "    <tr>\n",
              "      <th>6</th>\n",
              "      <td>183.790936</td>\n",
              "      <td>67.266215</td>\n",
              "      <td>1571</td>\n",
              "      <td>]332-658]</td>\n",
              "      <td>0.083922</td>\n",
              "    </tr>\n",
              "    <tr>\n",
              "      <th>7</th>\n",
              "      <td>203.024030</td>\n",
              "      <td>75.620382</td>\n",
              "      <td>3308</td>\n",
              "      <td>]658-1302]</td>\n",
              "      <td>0.044805</td>\n",
              "    </tr>\n",
              "    <tr>\n",
              "      <th>8</th>\n",
              "      <td>268.221275</td>\n",
              "      <td>77.495474</td>\n",
              "      <td>2603</td>\n",
              "      <td>]1302-2576]</td>\n",
              "      <td>0.058352</td>\n",
              "    </tr>\n",
              "    <tr>\n",
              "      <th>9</th>\n",
              "      <td>418.740769</td>\n",
              "      <td>124.011352</td>\n",
              "      <td>338</td>\n",
              "      <td>]2576-5095]</td>\n",
              "      <td>0.719119</td>\n",
              "    </tr>\n",
              "  </tbody>\n",
              "</table>\n",
              "</div>\n",
              "      <button class=\"colab-df-convert\" onclick=\"convertToInteractive('df-29deed88-f650-482f-9064-634d0264e1cf')\"\n",
              "              title=\"Convert this dataframe to an interactive table.\"\n",
              "              style=\"display:none;\">\n",
              "        \n",
              "  <svg xmlns=\"http://www.w3.org/2000/svg\" height=\"24px\"viewBox=\"0 0 24 24\"\n",
              "       width=\"24px\">\n",
              "    <path d=\"M0 0h24v24H0V0z\" fill=\"none\"/>\n",
              "    <path d=\"M18.56 5.44l.94 2.06.94-2.06 2.06-.94-2.06-.94-.94-2.06-.94 2.06-2.06.94zm-11 1L8.5 8.5l.94-2.06 2.06-.94-2.06-.94L8.5 2.5l-.94 2.06-2.06.94zm10 10l.94 2.06.94-2.06 2.06-.94-2.06-.94-.94-2.06-.94 2.06-2.06.94z\"/><path d=\"M17.41 7.96l-1.37-1.37c-.4-.4-.92-.59-1.43-.59-.52 0-1.04.2-1.43.59L10.3 9.45l-7.72 7.72c-.78.78-.78 2.05 0 2.83L4 21.41c.39.39.9.59 1.41.59.51 0 1.02-.2 1.41-.59l7.78-7.78 2.81-2.81c.8-.78.8-2.07 0-2.86zM5.41 20L4 18.59l7.72-7.72 1.47 1.35L5.41 20z\"/>\n",
              "  </svg>\n",
              "      </button>\n",
              "      \n",
              "  <style>\n",
              "    .colab-df-container {\n",
              "      display:flex;\n",
              "      flex-wrap:wrap;\n",
              "      gap: 12px;\n",
              "    }\n",
              "\n",
              "    .colab-df-convert {\n",
              "      background-color: #E8F0FE;\n",
              "      border: none;\n",
              "      border-radius: 50%;\n",
              "      cursor: pointer;\n",
              "      display: none;\n",
              "      fill: #1967D2;\n",
              "      height: 32px;\n",
              "      padding: 0 0 0 0;\n",
              "      width: 32px;\n",
              "    }\n",
              "\n",
              "    .colab-df-convert:hover {\n",
              "      background-color: #E2EBFA;\n",
              "      box-shadow: 0px 1px 2px rgba(60, 64, 67, 0.3), 0px 1px 3px 1px rgba(60, 64, 67, 0.15);\n",
              "      fill: #174EA6;\n",
              "    }\n",
              "\n",
              "    [theme=dark] .colab-df-convert {\n",
              "      background-color: #3B4455;\n",
              "      fill: #D2E3FC;\n",
              "    }\n",
              "\n",
              "    [theme=dark] .colab-df-convert:hover {\n",
              "      background-color: #434B5C;\n",
              "      box-shadow: 0px 1px 3px 1px rgba(0, 0, 0, 0.15);\n",
              "      filter: drop-shadow(0px 1px 2px rgba(0, 0, 0, 0.3));\n",
              "      fill: #FFFFFF;\n",
              "    }\n",
              "  </style>\n",
              "\n",
              "      <script>\n",
              "        const buttonEl =\n",
              "          document.querySelector('#df-29deed88-f650-482f-9064-634d0264e1cf button.colab-df-convert');\n",
              "        buttonEl.style.display =\n",
              "          google.colab.kernel.accessAllowed ? 'block' : 'none';\n",
              "\n",
              "        async function convertToInteractive(key) {\n",
              "          const element = document.querySelector('#df-29deed88-f650-482f-9064-634d0264e1cf');\n",
              "          const dataTable =\n",
              "            await google.colab.kernel.invokeFunction('convertToInteractive',\n",
              "                                                     [key], {});\n",
              "          if (!dataTable) return;\n",
              "\n",
              "          const docLinkHtml = 'Like what you see? Visit the ' +\n",
              "            '<a target=\"_blank\" href=https://colab.research.google.com/notebooks/data_table.ipynb>data table notebook</a>'\n",
              "            + ' to learn more about interactive tables.';\n",
              "          element.innerHTML = '';\n",
              "          dataTable['output_type'] = 'display_data';\n",
              "          await google.colab.output.renderOutput(dataTable, element);\n",
              "          const docLink = document.createElement('div');\n",
              "          docLink.innerHTML = docLinkHtml;\n",
              "          element.appendChild(docLink);\n",
              "        }\n",
              "      </script>\n",
              "    </div>\n",
              "  </div>\n",
              "  "
            ],
            "text/plain": [
              "                        mean         std     N Bucket_range         IC\n",
              "Num_miles_bucket                                                      \n",
              "1                 204.105000   11.702617     2      ]10-21]  11.468565\n",
              "2                 124.895000   20.101554     6      ]21-43]   6.566508\n",
              "3                 182.598947  126.703078    19      ]43-85]  13.070423\n",
              "4                 216.511604  109.372166   106     ]85-168]   2.022353\n",
              "5                 202.772819   72.103439   518    ]168-332]   0.272824\n",
              "6                 183.790936   67.266215  1571    ]332-658]   0.083922\n",
              "7                 203.024030   75.620382  3308   ]658-1302]   0.044805\n",
              "8                 268.221275   77.495474  2603  ]1302-2576]   0.058352\n",
              "9                 418.740769  124.011352   338  ]2576-5095]   0.719119"
            ]
          },
          "metadata": {},
          "execution_count": 79
        }
      ]
    },
    {
      "cell_type": "code",
      "source": [
        "plt.figure(figsize=(12, 7))\n",
        "plt.bar(df_prices[\"Bucket_range\"], df_prices[\"mean\"], yerr=df_prices[\"IC\"], color='lightblue', ecolor='darkred')\n"
      ],
      "metadata": {
        "colab": {
          "base_uri": "https://localhost:8080/",
          "height": 445
        },
        "id": "OQgmS7GsY3Gu",
        "outputId": "2c623f81-36a4-4f9a-d4eb-96fdafc7138a"
      },
      "execution_count": null,
      "outputs": [
        {
          "output_type": "execute_result",
          "data": {
            "text/plain": [
              "<BarContainer object of 9 artists>"
            ]
          },
          "metadata": {},
          "execution_count": 80
        },
        {
          "output_type": "display_data",
          "data": {
            "image/png": "[encoded data removed]",
            "text/plain": [
              "<Figure size 864x504 with 1 Axes>"
            ]
          },
          "metadata": {
            "needs_background": "light"
          }
        }
      ]
    },
    {
      "cell_type": "markdown",
      "source": [
        "\n",
        "\n",
        "---\n",
        "\n",
        "\n",
        "---\n",
        "\n",
        "\n",
        "\n",
        "---\n",
        "\n",
        "\n",
        "\n",
        "---\n",
        "\n",
        "\n",
        "\n",
        "---\n",
        "\n",
        "## Question 5 (4 points)\n",
        "For the remainder of the notebook, we will only take care of the average price of each route.  \n",
        "Our goal is to find cheap combinations of flights to travel from one place to another.  \n",
        "First, we want to build a dataframe named 'cheapest_routes_df' containing the cheapest price to go from one place to another, with one or zero waypoint. Dataframe should look like this (Waypoints column can be empty) :  \n",
        "\n",
        "Origin  | Destination | Waypoints | TotalPrice\n",
        "-------------------|------------------|---|---\n",
        "ACY       | MOB | ATL | 323.0\n",
        "\n",
        "  \n",
        "Is it interesting to consider waypoints to go from one place to another ?  "
      ],
      "metadata": {
        "id": "4682xNqsizwe"
      }
    },
    {
      "cell_type": "markdown",
      "source": [
        "## Answer:\n",
        "\n",
        "The goal of this question is question is to build a dataframe named 'cheapest_routes_df' containing the cheapest price to go from one place to another, with at most one waypoint. To do so we followed the following steps:\n",
        "\n",
        "- Select the relevant columns and compute the average price for each route with no waypoint: this will be our dataframe `df_origin_dest` it is structured as follows  \n",
        "\n",
        "Origin  | Destination | AvgPrice\n",
        "----------|---------|------------------\n",
        "PHIL | MCO | 188.23\n",
        "\n",
        "\n",
        "There are now two approaches that we explored to build $routes_1$.\n",
        "\n",
        "- The first consists in creating an intermediary dataset `df_origin_waypoint_dest` with the routes having exactly one waypoint (including new routes). To consider the union of the two datasets `df_origin_dest`and `df_origin_dest`and then run a `groupBy('Origin','Dest').agg(F.round(F.min('Price'), 2)))`. \n",
        "\n",
        "  As explained below, following this strategy we have a readibility issue (due to the use of groupBy()) which can be adressed using a join. \n",
        "\n",
        "- A way to circumvent the use of this join in the previous approach is to make use of the `Window.partitionBy()` function. We proceed a time execution comparison to show the advantage of using this approach compared to a `groupBy`and `join` approach."
      ],
      "metadata": {
        "id": "pkeTaLDEC_rz"
      }
    },
    {
      "cell_type": "markdown",
      "source": [
        "###  __5-1° Compute average price for each route__\n",
        "\n",
        "Extracting the 3 three columns `Origin', 'Dest', 'PricePerTicket'` from the orginal dataset `df_flights` we build the dataframe `df_origin_dest`. \n",
        "We first use it to compute the average price for the given routes, that is the average prices for the flights corresponding to the couples `(origin,destination)`."
      ],
      "metadata": {
        "id": "KI7z46fb0a6b"
      }
    },
    {
      "cell_type": "code",
      "source": [
        "# dataframe creation & computation of the average price of a route : \n",
        "df_origin_dest = df_flights.select('Origin', 'Dest', 'PricePerTicket')\\\n",
        "                                    .groupBy('Origin', 'Dest')\\\n",
        "                                    .agg(F.round(F.avg('PricePerTicket'), 2).alias('AvgPrice'))"
      ],
      "metadata": {
        "id": "OFPhXNCwbRyK"
      },
      "execution_count": 19,
      "outputs": []
    },
    {
      "cell_type": "code",
      "source": [
        "df_origin_dest.show(2)"
      ],
      "metadata": {
        "colab": {
          "base_uri": "https://localhost:8080/"
        },
        "id": "L47KkNaYfmjH",
        "outputId": "c2a5a66e-578f-4ad2-d7e3-6fd8ef4df5f7"
      },
      "execution_count": 20,
      "outputs": [
        {
          "output_type": "stream",
          "name": "stdout",
          "text": [
            "+------+----+--------+\n",
            "|Origin|Dest|AvgPrice|\n",
            "+------+----+--------+\n",
            "|   PHL| MCO|  188.23|\n",
            "|   PBI| DCA|  227.52|\n",
            "+------+----+--------+\n",
            "only showing top 2 rows\n",
            "\n"
          ]
        }
      ]
    },
    {
      "cell_type": "markdown",
      "source": [
        "### __5-2 ° Create dataframe with exactly 1 waypoint__\n",
        "\n",
        "First, we create two dataframes from `df_origin_dest` where we rename `dest` into `waypoint` for the first one and `origin` to `waypoint` for the second one. "
      ],
      "metadata": {
        "id": "kr5UUNJexTdX"
      }
    },
    {
      "cell_type": "code",
      "source": [
        "# Origin ---> Waypoint : \n",
        "df_origin_waypoint = df_origin_dest.withColumnRenamed(\"Dest\", \"Waypoint\")\\\n",
        "                                   .withColumnRenamed('AvgPrice', 'OW_AvgPrice')\n",
        "\n",
        "# Waypoint ---> Origin :\n",
        "df_waypoint_dest = df_origin_dest.withColumnRenamed(\"Origin\", \"Waypoint\")\\\n",
        "                                 .withColumnRenamed('AvgPrice', 'WD_AvgPrice')"
      ],
      "metadata": {
        "id": "kbVJHKtng_ar"
      },
      "execution_count": 21,
      "outputs": []
    },
    {
      "cell_type": "code",
      "source": [
        "df_origin_waypoint.show(5)\n",
        "df_waypoint_dest.show(5)"
      ],
      "metadata": {
        "colab": {
          "base_uri": "https://localhost:8080/"
        },
        "id": "2qyjSEFWyixo",
        "outputId": "a794ac37-4d1e-4478-c7a6-6b86ccc60992"
      },
      "execution_count": null,
      "outputs": [
        {
          "output_type": "stream",
          "name": "stdout",
          "text": [
            "+------+--------+-----------+\n",
            "|Origin|Waypoint|OW_AvgPrice|\n",
            "+------+--------+-----------+\n",
            "|   PHL|     MCO|     188.23|\n",
            "|   PBI|     DCA|     227.52|\n",
            "|   ORD|     PDX|     248.01|\n",
            "|   SNA|     PHX|     181.32|\n",
            "|   MCI|     IAH|     231.07|\n",
            "+------+--------+-----------+\n",
            "only showing top 5 rows\n",
            "\n",
            "+--------+----+-----------+\n",
            "|Waypoint|Dest|WD_AvgPrice|\n",
            "+--------+----+-----------+\n",
            "|     PHL| MCO|     188.23|\n",
            "|     PBI| DCA|     227.52|\n",
            "|     ORD| PDX|     248.01|\n",
            "|     SNA| PHX|     181.32|\n",
            "|     MCI| IAH|     231.07|\n",
            "+--------+----+-----------+\n",
            "only showing top 5 rows\n",
            "\n"
          ]
        }
      ]
    },
    {
      "cell_type": "markdown",
      "source": [
        "We then join the two dataframes on `waypoint`, create a new column `Price` corresponding to the sum of the average price per ticket to go from `origin` to `waypoint`, and from `waypoint` to `dest`."
      ],
      "metadata": {
        "id": "vywZifBIy7UF"
      }
    },
    {
      "cell_type": "code",
      "source": [
        "# With one waypoint\n",
        "df_origin_waypoint_dest = df_origin_waypoint.join(df_waypoint_dest, on=\"Waypoint\")\\\n",
        "                                            .withColumn(\"SumPrice\", F.round(col(\"OW_AvgPrice\")+col(\"WD_AvgPrice\"), 2))\\\n",
        "                                            .select(\"Origin\", \"Waypoint\", \"Dest\", \"SumPrice\")\\\n",
        "                                            .withColumnRenamed('SumPrice','Price')"
      ],
      "metadata": {
        "id": "lJy--iMYh2Ob"
      },
      "execution_count": 22,
      "outputs": []
    },
    {
      "cell_type": "code",
      "source": [
        "df_origin_waypoint_dest.show(5)"
      ],
      "metadata": {
        "colab": {
          "base_uri": "https://localhost:8080/"
        },
        "id": "bOo_r4Oii7FF",
        "outputId": "506332e3-ebcd-40e6-edc6-17cead5ea0eb"
      },
      "execution_count": null,
      "outputs": [
        {
          "output_type": "stream",
          "name": "stdout",
          "text": [
            "+------+--------+----+------+\n",
            "|Origin|Waypoint|Dest| Price|\n",
            "+------+--------+----+------+\n",
            "|   MFE|     PHL| MCO|511.34|\n",
            "|   SDF|     PHL| MCO|327.23|\n",
            "|   SRQ|     PHL| MCO|302.84|\n",
            "|   RIC|     PHL| MCO|683.73|\n",
            "|   STT|     PHL| MCO|693.37|\n",
            "+------+--------+----+------+\n",
            "only showing top 5 rows\n",
            "\n"
          ]
        }
      ]
    },
    {
      "cell_type": "markdown",
      "source": [
        "### __5-3° Create dataframe with no waypoint__\n",
        "\n",
        "We add a new null column `waypoint` in `df_origin_dest`.\n",
        "No need to create a new dataframe, we can directly modify `df_origin_dest`."
      ],
      "metadata": {
        "id": "V2uk9FbMyU7g"
      }
    },
    {
      "cell_type": "code",
      "source": [
        "df_origin_dest.show(1)"
      ],
      "metadata": {
        "colab": {
          "base_uri": "https://localhost:8080/"
        },
        "id": "b9a5Fvwa1NQS",
        "outputId": "81e57921-f170-4f1b-e887-dd13ac4602a8"
      },
      "execution_count": null,
      "outputs": [
        {
          "output_type": "stream",
          "name": "stdout",
          "text": [
            "+------+----+--------+\n",
            "|Origin|Dest|AvgPrice|\n",
            "+------+----+--------+\n",
            "|   PHL| MCO|  188.23|\n",
            "+------+----+--------+\n",
            "only showing top 1 row\n",
            "\n"
          ]
        }
      ]
    },
    {
      "cell_type": "code",
      "source": [
        "# Rename column Price\n",
        "df_origin_dest = df_origin_dest.withColumnRenamed(\"AvgPrice\", \"Price\") \n",
        "\n",
        "# Add null waypoint column\n",
        "df_origin_dest = df_origin_dest.withColumn(\"Waypoint\", lit(None)) \n",
        "\n",
        "# Reorder columns for the union\n",
        "L = df_origin_waypoint_dest.columns\n",
        "df_origin_dest = df_origin_dest.select(L)\n",
        "\n",
        "# Show\n",
        "df_origin_dest.show(5)"
      ],
      "metadata": {
        "colab": {
          "base_uri": "https://localhost:8080/"
        },
        "id": "5HBn-0gOo6R1",
        "outputId": "99331a07-13a7-4211-92b6-ef7fd2637f65"
      },
      "execution_count": 23,
      "outputs": [
        {
          "output_type": "stream",
          "name": "stdout",
          "text": [
            "+------+--------+----+------+\n",
            "|Origin|Waypoint|Dest| Price|\n",
            "+------+--------+----+------+\n",
            "|   PHL|    null| MCO|188.23|\n",
            "|   PBI|    null| DCA|227.52|\n",
            "|   ORD|    null| PDX|248.01|\n",
            "|   SNA|    null| PHX|181.32|\n",
            "|   MCI|    null| IAH|231.07|\n",
            "+------+--------+----+------+\n",
            "only showing top 5 rows\n",
            "\n"
          ]
        }
      ]
    },
    {
      "cell_type": "markdown",
      "source": [
        "### __5-4° Creation of $Routes_1$__\n",
        "\n",
        "We first consider the union of the two dataframes `df_origin_dest` and `df_origin_waypoint_dest` into the dataframe `df_origin_at_most_one_waypoint_des`. We then apply `groupBy` on the coulples `(origin,destination)` and an aggregation of type `min` on the column `Price`."
      ],
      "metadata": {
        "id": "xncCYM120Sd_"
      }
    },
    {
      "cell_type": "code",
      "source": [
        "# Union of the two datasets: \n",
        "df_origin_at_most_one_waypoint_dest = df_origin_waypoint_dest.union(df_origin_dest)"
      ],
      "metadata": {
        "id": "h7bWgk-xpBAU"
      },
      "execution_count": 24,
      "outputs": []
    },
    {
      "cell_type": "code",
      "source": [
        "print('There are {} rows in the dataframe df_origin_at_most_one_waypoint_dest'.format(df_origin_at_most_one_waypoint_dest.count()))\n",
        "df_origin_at_most_one_waypoint_dest.show(5)"
      ],
      "metadata": {
        "colab": {
          "base_uri": "https://localhost:8080/"
        },
        "id": "MZPtgHiF2xDf",
        "outputId": "3dc76e8c-af90-4988-d70f-0fc3f8d091d4"
      },
      "execution_count": null,
      "outputs": [
        {
          "output_type": "stream",
          "name": "stdout",
          "text": [
            "There are 635152 rows in the dataframe df_origin_at_most_one_waypoint_dest\n",
            "+------+--------+----+------+\n",
            "|Origin|Waypoint|Dest| Price|\n",
            "+------+--------+----+------+\n",
            "|   MFE|     PHL| MCO|511.34|\n",
            "|   SDF|     PHL| MCO|327.23|\n",
            "|   SRQ|     PHL| MCO|302.84|\n",
            "|   RIC|     PHL| MCO|683.73|\n",
            "|   STT|     PHL| MCO|693.37|\n",
            "+------+--------+----+------+\n",
            "only showing top 5 rows\n",
            "\n"
          ]
        }
      ]
    },
    {
      "cell_type": "markdown",
      "source": [
        "Compute minimum price to go from one place to another with at most one waypoint (here it is the min between the price with exactly one waypoint and without)."
      ],
      "metadata": {
        "id": "FoBDiUQd2WsN"
      }
    },
    {
      "cell_type": "markdown",
      "source": [
        "#### GroupBy + Join"
      ],
      "metadata": {
        "id": "jYHKMpHaMUVV"
      }
    },
    {
      "cell_type": "code",
      "source": [
        "# grouping and aggregating : \n",
        "start_time = time.time()\n",
        "df_min = df_origin_at_most_one_waypoint_dest.groupBy(['Origin','Dest'])\\\n",
        "                                            .agg(F.round(F.min('Price'), 2))\\\n",
        "                                            .withColumnRenamed('round(min(Price), 2)','Price')\n",
        "\n",
        "exec_time = time.time() - start_time                                            "
      ],
      "metadata": {
        "id": "OfG30q_WpIg7"
      },
      "execution_count": null,
      "outputs": []
    },
    {
      "cell_type": "markdown",
      "source": [
        "We now have a readability issue : we only see the couples `(orgin,destination)` and the asociated prices without knowing if there is a waypoint or not. \n",
        "To solve this issue we will use the proper join on "
      ],
      "metadata": {
        "id": "HYcEZ_Vo8f-g"
      }
    },
    {
      "cell_type": "code",
      "source": [
        "# Rename columns\n",
        "start_time = time.time()\n",
        "df_min = df_min.toDF('Origin2','Dest2','MinPrice')\n",
        "exec_time += time.time() - start_time  \n",
        "\n",
        "print(df_min.count())\n",
        "df_min.show(5)"
      ],
      "metadata": {
        "colab": {
          "base_uri": "https://localhost:8080/"
        },
        "id": "hoaZnUMBpO_O",
        "outputId": "61cda6ed-a31a-47d6-c9e0-4212a3e26a79"
      },
      "execution_count": null,
      "outputs": [
        {
          "output_type": "stream",
          "name": "stdout",
          "text": [
            "48940\n",
            "+-------+-----+--------+\n",
            "|Origin2|Dest2|MinPrice|\n",
            "+-------+-----+--------+\n",
            "|    DSM|  MCO|  159.48|\n",
            "|    MEM|  LIH|   427.0|\n",
            "|    PSP|  GSP|  325.03|\n",
            "|    SLC|  GSP|  161.33|\n",
            "|    AMA|  MEM|  294.67|\n",
            "+-------+-----+--------+\n",
            "only showing top 5 rows\n",
            "\n"
          ]
        }
      ]
    },
    {
      "cell_type": "markdown",
      "source": [
        "Join `df_min` and `df_origin_at_most_one_waypoint_dest` to get `routes_1`, dataframe that contains cheapest routes with at most 1 waypoint.\n"
      ],
      "metadata": {
        "id": "3SEb3z1V2tCp"
      }
    },
    {
      "cell_type": "code",
      "source": [
        "start_time = time.time()\n",
        "cond = [df_min['Origin2']==df_origin_at_most_one_waypoint_dest['Origin'],\\\n",
        "        df_min['Dest2']==df_origin_at_most_one_waypoint_dest['Dest'],\\\n",
        "        df_min['MinPrice']==df_origin_at_most_one_waypoint_dest['Price']]\n",
        "exec_time += time.time() - start_time  "
      ],
      "metadata": {
        "id": "nE6L2iFipRIf"
      },
      "execution_count": null,
      "outputs": []
    },
    {
      "cell_type": "code",
      "source": [
        "# reste à trouver le bon type de join :\n",
        "start_time = time.time()\n",
        "\n",
        "routes_1 = df_origin_at_most_one_waypoint_dest.join(df_min, cond, 'inner').select('Origin','Waypoint','Dest','MinPrice')\n",
        "\n",
        "exec_time += time.time() - start_time  "
      ],
      "metadata": {
        "id": "sCUYrHbopSmL"
      },
      "execution_count": null,
      "outputs": []
    },
    {
      "cell_type": "code",
      "source": [
        "print(f\"With groupBy+join: {exec_time} seconds\")"
      ],
      "metadata": {
        "colab": {
          "base_uri": "https://localhost:8080/"
        },
        "id": "t82-FMHcOTXm",
        "outputId": "9551449d-69ea-4196-bbc4-c27a75babd8f"
      },
      "execution_count": null,
      "outputs": [
        {
          "output_type": "stream",
          "name": "stdout",
          "text": [
            "With groupBy+join: 0.22961211204528809 seconds\n"
          ]
        }
      ]
    },
    {
      "cell_type": "code",
      "source": [
        "routes_1.show()"
      ],
      "metadata": {
        "colab": {
          "base_uri": "https://localhost:8080/"
        },
        "id": "X6lu9ql2pUjz",
        "outputId": "1330be7a-95a9-4410-d5b8-b0bad22a760a"
      },
      "execution_count": null,
      "outputs": [
        {
          "output_type": "stream",
          "name": "stdout",
          "text": [
            "+------+--------+----+--------+\n",
            "|Origin|Waypoint|Dest|MinPrice|\n",
            "+------+--------+----+--------+\n",
            "|   SHD|     ORD| PDX|   499.0|\n",
            "|   CVG|     MYR| CKB|   152.5|\n",
            "|   CKB|     MYR| CKB|   146.6|\n",
            "|   TLH|     LEX| VPS|  382.31|\n",
            "|   RKS|     DEN| ABQ|   357.8|\n",
            "|   BUF|     BWI| MFE|  354.17|\n",
            "|   MRY|     LAS| CMH|   281.0|\n",
            "|   ATL|     COS| SAN|  305.22|\n",
            "|   CHO|     ATL| SRQ|  453.27|\n",
            "|   DAY|     ATL| BZN|  629.42|\n",
            "|   FNT|     DEN| PSP|  334.88|\n",
            "|   FAT|     DEN| PSP|  303.95|\n",
            "|   USA|     SFB| ABE|  198.88|\n",
            "|   SJU|     SFB| ABE|  220.91|\n",
            "|   ATL|     FLL| BLV|  267.28|\n",
            "|   OKC|     LAX| ASE|  401.18|\n",
            "|   GRR|     SFB| FWA|   229.8|\n",
            "|   CHA|     PIE| DSM|  201.27|\n",
            "|   RDU|     CVG| SRQ|  170.06|\n",
            "|   RFD|     LAS| CHS|  380.32|\n",
            "+------+--------+----+--------+\n",
            "only showing top 20 rows\n",
            "\n"
          ]
        }
      ]
    },
    {
      "cell_type": "code",
      "source": [
        "routes_1.count()"
      ],
      "metadata": {
        "colab": {
          "base_uri": "https://localhost:8080/"
        },
        "id": "bkcQgYpupYKo",
        "outputId": "d173fa64-260d-4e17-bb4c-c5a0f30be04b"
      },
      "execution_count": null,
      "outputs": [
        {
          "output_type": "execute_result",
          "data": {
            "text/plain": [
              "48941"
            ]
          },
          "metadata": {},
          "execution_count": 112
        }
      ]
    },
    {
      "cell_type": "markdown",
      "source": [
        "#### window.partitionBy"
      ],
      "metadata": {
        "id": "UFXWylHoM5aO"
      }
    },
    {
      "cell_type": "code",
      "source": [
        "w = Window.partitionBy('Origin','Dest')\n",
        "\n",
        "start_time = time.time()\n",
        "routes_1 = df_origin_at_most_one_waypoint_dest.withColumn('FinalPrice', F.min('Price').over(w))\\\n",
        "                                              .where(F.col('Price') == F.col('FinalPrice'))\\\n",
        "                                              .drop('Price')\n",
        "exec_time = time.time() - start_time\n",
        "print(f\"With partitionBy: {exec_time} seconds\")"
      ],
      "metadata": {
        "colab": {
          "base_uri": "https://localhost:8080/"
        },
        "id": "yz7_h59gM9QR",
        "outputId": "5ebb0e37-9fde-4bd9-9446-dac0f5e6fe3b"
      },
      "execution_count": null,
      "outputs": [
        {
          "output_type": "stream",
          "name": "stdout",
          "text": [
            "With partitionBy: 0.043199777603149414 seconds\n"
          ]
        }
      ]
    },
    {
      "cell_type": "code",
      "source": [
        "routes_1.show(5)"
      ],
      "metadata": {
        "colab": {
          "base_uri": "https://localhost:8080/"
        },
        "id": "7WpXJDYtNZ2a",
        "outputId": "acf5d7ed-abc3-4151-9ad9-d2234f75ab6e"
      },
      "execution_count": null,
      "outputs": [
        {
          "output_type": "stream",
          "name": "stdout",
          "text": [
            "+------+--------+----+----------+\n",
            "|Origin|Waypoint|Dest|FinalPrice|\n",
            "+------+--------+----+----------+\n",
            "|   ABE|     ATL| AGS|    471.39|\n",
            "|   ABE|     FLL| AMA|    385.39|\n",
            "|   ABE|    null| ATL|    243.15|\n",
            "|   ABE|     PGD| ATW|    226.23|\n",
            "|   ABE|     PIE| AUS|    198.22|\n",
            "+------+--------+----+----------+\n",
            "only showing top 5 rows\n",
            "\n"
          ]
        }
      ]
    },
    {
      "cell_type": "code",
      "source": [
        "routes_1.count()"
      ],
      "metadata": {
        "colab": {
          "base_uri": "https://localhost:8080/"
        },
        "id": "V8_cUYNANb--",
        "outputId": "ff139a2a-1688-4865-bf7e-789c1721a9ba"
      },
      "execution_count": null,
      "outputs": [
        {
          "output_type": "execute_result",
          "data": {
            "text/plain": [
              "48941"
            ]
          },
          "metadata": {},
          "execution_count": 115
        }
      ]
    },
    {
      "cell_type": "markdown",
      "source": [
        "Conclusion: we gain a x5 speepdup with `partitionBy` instead of `groupBy+join`."
      ],
      "metadata": {
        "id": "RSPvKhypOtJW"
      }
    },
    {
      "cell_type": "markdown",
      "source": [
        "\n",
        "\n",
        "---\n",
        "\n",
        "\n",
        "---\n",
        "\n",
        "\n",
        "\n",
        "---\n",
        "\n",
        "\n",
        "\n",
        "---\n",
        "\n",
        "\n",
        "\n",
        "---\n",
        "\n",
        "## Question 6 (6 points)\n",
        "Now we want to create the dataframe with cheap combinations of flights from one place to another, but there is no longer any limitation on the amount of waypoints.  \n",
        "Let $Routes_{k}$ designate the dataframe that contains cheapest routes for at most $k$ waypoints.  \n",
        "This dataframe contains a column named 'Waypoints', containing an array of waypoints.  \n",
        "Then:  \n",
        "- Define a function that computes $Routes_{k+1}$ from $Routes_{k}$ and $Routes_{0}$.  \n",
        "- Test it on a simple dataset made of three rows, built with $spark.sparkContext.parallelize$.  \n",
        "- Use it iteratively to build what we want.  \n",
        "- At each step, measure the amount of routes with k waypoints.  \n",
        "- What is the stopping criterion ?  \n",
        "- Measure the execution time of each step.  \n",
        "- What if we want to execute the iterations up to $k=15$ ?  \n",
        "- Explain what happens, and find a solution to approximately have the same execution time at each iteration.  \n",
        "- Analyze the results obtained for $Routes_{maxK}$\n",
        "- Analyze the euros spared, putting them in front of the extra miles traveled."
      ],
      "metadata": {
        "id": "l6IwcBQB9Y1v"
      }
    },
    {
      "cell_type": "markdown",
      "source": [
        "### 6-1° Define a function that computes $Routes_{k+1}$ from $Routes_k$ and  $Routes_0$\n",
        "\n",
        "`routes_k` will have the following columns in this particular order:\n",
        "- `Origin`: the origin airport\n",
        "- `Waypoints`: an array of waypoints to go from the origin to the destination\n",
        "- `Dest`: the destination airport\n",
        "- `MinPrice`: the minimum price associated to this route\n",
        "- `Num_waypoints`: the number of waypoints of the route, which the length of the array of waypoints. We add this column to compute the amount of routes with `k` waypoints by filtering on it. \n",
        "\n",
        "The function that computes $routes_{k+1}$ from $routes_k$ and $routes_0$ is called `compute_routes_k_plus_one(routes_k, routes_0)` and can be decomposed into three steps (similarly to the reasoning in question 5-2°). We write a function for each step:\n",
        "1. `get_routes_with_one_more_wp` returns a dataframe containing one more waypoint than the array of waypoints in `routes_k`. To do that, we first create two dataframes from `routes_k` and `routes_0` by renaming columns, in order to join them on the new waypoint, which corresponds to the destination in `routes_k` or the origin in `routes_0`. We execute a join on those two dataframes, create a new column `MinPrice` which is the sum of the prices of `routes_k` and `routes_0`, and updates the column `Num_waypoints` by adding 1 to the number of waypoints in `routes_k`. The new waypoint (Destination in `routes_k`) needs to be added to the list of waypoints. We use an UDF which appends an element to a list to do this task. The newly created dataframe with one more waypoint (might) contains (Origin, Destination) pairs that do not exist in the first place (in the original dataset of flights). To keep the same pairs, we lastly execute a *leftsemi* join with the new dataframe and `routes_0` on `Origin` and `Destination`. With this join type, we keep the columns of the left dataframe (so the newly created one) but with the pairs of airports of the original data, `routes_0` here.\n",
        "\n",
        "2. `get_routes_with_at_most_k1_wp(df_k_plus_one_waypoints, routes_k)` returns a dataframe that contains routes with at most $k+1$ waypoints. An `unionByName()` between `df_k_plus_one_waypoints` (dataframe with one more waypoint computed in the previous step) and `routes_k` (dataframe with at most k waypoints) simply do the job.\n",
        "\n",
        "3. `compute_min_price(df_at_most_k_plus_one_waypoints)` computes the new minimum price between routes with at most $k$ waypoints and routes with at most $k+1$ waypoints."
      ],
      "metadata": {
        "id": "RfjYzEbouOEy"
      }
    },
    {
      "cell_type": "code",
      "source": [
        "def add_to_list(L, x):\n",
        "    L.append(x)\n",
        "    return L\n",
        "\n",
        "add_to_list_udf = udf(add_to_list, ArrayType(StringType()))"
      ],
      "metadata": {
        "id": "OB7vFS1d9byw"
      },
      "execution_count": 41,
      "outputs": []
    },
    {
      "cell_type": "code",
      "source": [
        "def get_routes_with_one_more_wp(routes_k, routes_0):\n",
        "    \n",
        "    # Create two dataframes for following join on new waypoint\n",
        "    df_origin_waypoint = routes_k.toDF('Origin', 'Waypoints', 'NewWaypoint', 'OW_MinPrice', 'OW_Num_waypoints')\n",
        "    df_waypoint_dest = routes_0.toDF('NewWaypoint', 'WD_Waypoints', 'Dest', 'WD_MinPrice', 'WD_Num_waypoints')\n",
        "\n",
        "    # Join on new waypoint (Waypoints (list of strings), NewWaypoint (string))\n",
        "    df_k_plus_one_waypoints = df_origin_waypoint.join(df_waypoint_dest, on=\"NewWaypoint\")\\\n",
        "                                                       .withColumn(\"MinPrice\", col(\"OW_MinPrice\")+col(\"WD_MinPrice\"))\\\n",
        "                                                       .withColumn(\"Num_waypoints\", col(\"OW_Num_waypoints\")+1)\\\n",
        "                                                       .select(\"Origin\", \"Waypoints\", \"NewWaypoint\", \"Dest\", \"MinPrice\", \"Num_waypoints\")\n",
        "\n",
        "    # Add new waypoint to list of waypoints\n",
        "    df_k_plus_one_waypoints = df_k_plus_one_waypoints.withColumn(\"k1_waypoints\", add_to_list_udf(\"Waypoints\", col(\"NewWaypoint\")))\n",
        "\n",
        "    # Clean\n",
        "    df_k_plus_one_waypoints = df_k_plus_one_waypoints.drop(\"NewWaypoint\", \"Waypoints\")\\\n",
        "                                                     .withColumnRenamed(\"k1_waypoints\", \"Waypoints\")\n",
        "\n",
        "    # In the new dataframe, keep the same (Origin, Destination) pairs as in routes_0 \n",
        "    df_k_plus_one_waypoints = df_k_plus_one_waypoints.join(routes_0,\\\n",
        "                                                         on=[df_k_plus_one_waypoints.Origin == routes_0.Origin, df_k_plus_one_waypoints.Dest == routes_0.Dest],\\\n",
        "                                                         how=\"leftsemi\")\n",
        "\n",
        "    return df_k_plus_one_waypoints\n",
        "\n",
        "def get_routes_with_at_most_k1_wp(df_k_plus_one_waypoints, routes_k):\n",
        "    df_at_most_k_plus_one_waypoints = df_k_plus_one_waypoints.unionByName(routes_k)\n",
        "    return df_at_most_k_plus_one_waypoints\n",
        "\n",
        "def compute_min_price(df_at_most_k_plus_one_waypoints):\n",
        "    w = Window.partitionBy('Origin','Dest')\n",
        "    routes_k1 = df_at_most_k_plus_one_waypoints.withColumn('NewMinPrice', F.round(F.min('MinPrice').over(w), 2))\\\n",
        "                                              .where(F.col('NewMinPrice') == F.col('MinPrice'))\\\n",
        "                                              .drop('MinPrice')\\\n",
        "                                              .withColumnRenamed('NewMinPrice', 'MinPrice')\n",
        "    routes_k1 = routes_k1.select('Origin', 'Waypoints', 'Dest', 'MinPrice', 'Num_waypoints')\n",
        "\n",
        "    return routes_k1"
      ],
      "metadata": {
        "id": "i5VpizR5tS7r"
      },
      "execution_count": 26,
      "outputs": []
    },
    {
      "cell_type": "code",
      "source": [
        "def compute_routes_k_plus_one(routes_k, routes_0):\n",
        "    \n",
        "    # 1. Get routes with one more waypoint\n",
        "    df_k_plus_one_waypoints = get_routes_with_one_more_wp(routes_k, routes_0)\n",
        "\n",
        "    # 2. Get routes with at most k+1 waypoints (union)\n",
        "    df_at_most_k_plus_one_waypoints = get_routes_with_at_most_k1_wp(df_k_plus_one_waypoints, routes_k)\n",
        "\n",
        "    # 3. Minimum price between routes with at most k waypoints and routes with at most k+1 waypoints (min)\n",
        "    routes_k1 = compute_min_price(df_at_most_k_plus_one_waypoints)\n",
        "\n",
        "    return routes_k1"
      ],
      "metadata": {
        "id": "hwLt1UCjSzxx"
      },
      "execution_count": 27,
      "outputs": []
    },
    {
      "cell_type": "markdown",
      "source": [
        "### 6-2° Test it on a simple dataset made of three rows, built with `spark.sparkContext.parallelize`."
      ],
      "metadata": {
        "id": "EKaukDoTMFY2"
      }
    },
    {
      "cell_type": "code",
      "source": [
        "def create_df(data, columns, verbose=True):\n",
        "    rdd = spark.sparkContext.parallelize(data)\n",
        "    df = spark.createDataFrame(rdd, schema = columns)\n",
        "    return df"
      ],
      "metadata": {
        "id": "xziVXY1GDhGM"
      },
      "execution_count": 35,
      "outputs": []
    },
    {
      "cell_type": "code",
      "source": [
        "columns_k = [\"Origin\", \"Waypoints\", \"Dest\", \"MinPrice\", \"Num_waypoints\"]\n",
        "columns_0 = [\"Origin\", \"Dest\", \"MinPrice\", \"Num_waypoints\"]\n",
        "\n",
        "# Create an example routes_0\n",
        "data_routes_0 = [(\"D\", \"X\", 10, 0),\\\n",
        "            (\"D\", \"Y\", 30, 0),\\\n",
        "            (\"H\", \"Z\", 40, 0),\\\n",
        "            (\"E\", \"F\", 40, 0)]\n",
        "ex_routes_0 = create_df(data_routes_0, columns_0)\n",
        "ex_routes_0 = ex_routes_0.withColumn(\"Waypoints\", F.expr('array()')).select(\"Origin\", \"Waypoints\", \"Dest\", \"MinPrice\", \"Num_waypoints\")\n",
        "\n",
        "# Create an example routes_k\n",
        "data_routes_k = [(\"A\", [\"B\",\"C\"], \"D\", 100, 2),\\\n",
        "            (\"E\", [\"F\",\"G\"], \"H\", 70, 2),\\\n",
        "            (\"I\", [\"J\"], \"L\", 30, 1),\\\n",
        "            (\"A\", [\"B\",\"C\"], \"E\", 100, 2)]\n",
        "ex_routes_k = create_df(data_routes_k, columns_k)"
      ],
      "metadata": {
        "id": "mT0lNxpLu5Tk"
      },
      "execution_count": 37,
      "outputs": []
    },
    {
      "cell_type": "code",
      "source": [
        "ex_routes_k1 = compute_routes_k_plus_one(ex_routes_k, ex_routes_0)"
      ],
      "metadata": {
        "id": "Rg8AF5XTSk94"
      },
      "execution_count": 42,
      "outputs": []
    },
    {
      "cell_type": "code",
      "source": [
        "ex_routes_0.show()\n",
        "ex_routes_k.show()\n",
        "ex_routes_k1.show()"
      ],
      "metadata": {
        "id": "R09V9dLwFBIP",
        "colab": {
          "base_uri": "https://localhost:8080/"
        },
        "outputId": "d5568368-1f2f-46e5-a541-669dbede6571"
      },
      "execution_count": 43,
      "outputs": [
        {
          "output_type": "stream",
          "name": "stdout",
          "text": [
            "+------+---------+----+--------+-------------+\n",
            "|Origin|Waypoints|Dest|MinPrice|Num_waypoints|\n",
            "+------+---------+----+--------+-------------+\n",
            "|     D|       []|   X|      10|            0|\n",
            "|     D|       []|   Y|      30|            0|\n",
            "|     H|       []|   Z|      40|            0|\n",
            "|     E|       []|   F|      40|            0|\n",
            "+------+---------+----+--------+-------------+\n",
            "\n",
            "+------+---------+----+--------+-------------+\n",
            "|Origin|Waypoints|Dest|MinPrice|Num_waypoints|\n",
            "+------+---------+----+--------+-------------+\n",
            "|     A|   [B, C]|   D|     100|            2|\n",
            "|     E|   [F, G]|   H|      70|            2|\n",
            "|     I|      [J]|   L|      30|            1|\n",
            "|     A|   [B, C]|   E|     100|            2|\n",
            "+------+---------+----+--------+-------------+\n",
            "\n",
            "+------+---------+----+--------+-------------+\n",
            "|Origin|Waypoints|Dest|MinPrice|Num_waypoints|\n",
            "+------+---------+----+--------+-------------+\n",
            "|     A|   [B, C]|   D|     100|            2|\n",
            "|     A|   [B, C]|   E|     100|            2|\n",
            "|     E|   [F, G]|   H|      70|            2|\n",
            "|     I|      [J]|   L|      30|            1|\n",
            "+------+---------+----+--------+-------------+\n",
            "\n"
          ]
        }
      ]
    },
    {
      "cell_type": "markdown",
      "source": [
        "### 6-3° Apply on the flights dataset\n",
        "\n",
        "We want to build `routes_k` iteratively for k from 0 until a stopping criterion is satisfied. We logically choose to stop the process when adding a new waypoint does not minimize the price. In other words, if at step $k+1$, the number of routes with $k+1$ waypoints is 0, meaning that no routes with $k+1$ waypoints leads to the cheapest route given an origin and destination airport, then we stop. \n",
        "\n",
        "So at each step, we measure the amount of routes with $k$ waypoints, through a function `count_routes_with_k_waypoints(df, k)` which filters rows on the `Num_waypoints` column, and counts the number of remaining rows.  \n",
        "\n",
        "To construct `routes_0`, we reuse `df_origin_dest`, the dataframe with no waypoints. To respect our predefined schema, we add a column `Waypoints` with empty arrays and `Num_waypoints` filled with 0s. We rename the column `Price` to `MinPrice`. "
      ],
      "metadata": {
        "id": "Dnwq2X-rN4V5"
      }
    },
    {
      "cell_type": "markdown",
      "source": [
        "__Creation of `routes_0`__"
      ],
      "metadata": {
        "id": "OmEEZZ5bTvTZ"
      }
    },
    {
      "cell_type": "code",
      "source": [
        "df_origin_dest.columns"
      ],
      "metadata": {
        "colab": {
          "base_uri": "https://localhost:8080/"
        },
        "id": "2TzfaZtMbkby",
        "outputId": "66294ace-b67b-4387-ffe3-f8f2c3773930"
      },
      "execution_count": null,
      "outputs": [
        {
          "output_type": "execute_result",
          "data": {
            "text/plain": [
              "['Origin', 'Waypoint', 'Dest', 'Price']"
            ]
          },
          "metadata": {},
          "execution_count": 123
        }
      ]
    },
    {
      "cell_type": "code",
      "source": [
        "routes_0 = df_origin_dest.withColumn(\"Waypoints\", F.expr('array()'))\\\n",
        "                         .withColumn(\"Num_waypoints\", lit(0))\\\n",
        "                         .drop(\"Waypoint\")\\\n",
        "                         .withColumnRenamed(\"Price\", \"MinPrice\")\\\n",
        "                         .select(\"Origin\", \"Waypoints\", \"Dest\", \"MinPrice\", \"Num_waypoints\")\n",
        "\n",
        "routes_0.show(2)"
      ],
      "metadata": {
        "id": "TfeNluDTN6IG",
        "colab": {
          "base_uri": "https://localhost:8080/"
        },
        "outputId": "216fb147-2254-4e27-b053-dac697f9d76e"
      },
      "execution_count": null,
      "outputs": [
        {
          "output_type": "stream",
          "name": "stdout",
          "text": [
            "+------+---------+----+--------+-------------+\n",
            "|Origin|Waypoints|Dest|MinPrice|Num_waypoints|\n",
            "+------+---------+----+--------+-------------+\n",
            "|   PHL|       []| MCO|  188.23|            0|\n",
            "|   PBI|       []| DCA|  227.52|            0|\n",
            "+------+---------+----+--------+-------------+\n",
            "only showing top 2 rows\n",
            "\n"
          ]
        }
      ]
    },
    {
      "cell_type": "markdown",
      "source": [
        "__Function to compute the number of routes with $k$ waypoints__"
      ],
      "metadata": {
        "id": "QtuBz1VMTyQh"
      }
    },
    {
      "cell_type": "code",
      "source": [
        "def count_routes_with_k_waypoints(df, k):\n",
        "    num_routes = df.filter(df.Num_waypoints == k).count()\n",
        "    return num_routes"
      ],
      "metadata": {
        "id": "rchNCpGbczA9"
      },
      "execution_count": null,
      "outputs": []
    },
    {
      "cell_type": "markdown",
      "source": [
        "__Test on flights dataset__\n",
        "\n",
        "We compute `routes_k` for $k \\in [0, 5]$"
      ],
      "metadata": {
        "id": "6KXwwXntT2Vr"
      }
    },
    {
      "cell_type": "code",
      "source": [
        "total_num_routes_0 = routes_0.count()"
      ],
      "metadata": {
        "id": "A7KVHpGOT55W"
      },
      "execution_count": null,
      "outputs": []
    },
    {
      "cell_type": "code",
      "source": [
        "list_routes = [routes_0]\n",
        "list_total_num_routes = [total_num_routes_0]\n",
        "list_num_routes_with_k = [total_num_routes_0]"
      ],
      "metadata": {
        "id": "Cff2x7EET78Q"
      },
      "execution_count": null,
      "outputs": []
    },
    {
      "cell_type": "code",
      "source": [
        "total_num_routes_0"
      ],
      "metadata": {
        "id": "GtwdQikiT94A"
      },
      "execution_count": null,
      "outputs": []
    },
    {
      "cell_type": "code",
      "source": [
        "for k in range(5):\n",
        "    start_time = time.time()\n",
        "    routes_k1 = compute_routes_k_plus_one(list_routes[k], routes_0)\n",
        "    list_routes.append(routes_k1)\n",
        "    exec_time = time.time() - start_time\n",
        "    print(f\"[routes_{k+1}] {exec_time} seconds\")\n",
        "\n",
        "    total_num_routes = routes_k1.count()\n",
        "    num_routes_with_k = count_routes_with_k_waypoints(routes_k1, k+1)\n",
        "    print(f\"\\t Number of routes with {k+1} waypoints: {num_routes_with_k}/{total_num_routes}\")"
      ],
      "metadata": {
        "id": "5Ultud4GRSpg"
      },
      "execution_count": null,
      "outputs": []
    },
    {
      "cell_type": "markdown",
      "source": [
        "    [routes_1] 0.4369089603424072 seconds\n",
        "        Number of routes with 1 waypoints: 1767/7996\n",
        "    [routes_2] 0.5213463306427002 seconds\n",
        "        Number of routes with 2 waypoints: 128/9676\n",
        "    [routes_3] 0.6514530181884766 seconds\n",
        "        Number of routes with 3 waypoints: 0/11623\n",
        "    [routes_4] 1.0158467292785645 seconds\n",
        "        Number of routes with 4 waypoints: 0/13698\n",
        "    [routes_5] 1.6443190574645996 seconds"
      ],
      "metadata": {
        "id": "QNNd5CIUUFdL"
      }
    },
    {
      "cell_type": "markdown",
      "source": [
        "As observed, the execution time grows as we compute routes with more waypoints, because the number of routes to go from a point to another grows. \n",
        "\n",
        "We denote that we can already stop to compute the cheapest routes at step 3 since there are no more routes with 3 waypoints leading to the cheapest routes. The computation of `routes_4` confirms that there is no point to compute the iterations up to $k=15$: the number of routes with $4$ waypoints is still 0 since we have already found the cheapest routes at the previous step (step 2).\n"
      ],
      "metadata": {
        "id": "78WFD_8bUIoT"
      }
    }
  ]
}